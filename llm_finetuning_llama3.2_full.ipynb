{
 "cells": [
  {
   "cell_type": "markdown",
   "metadata": {},
   "source": [
    "### This notebooks contains a full-parameter training --- (not feasible with limited resources)"
   ]
  },
  {
   "cell_type": "code",
   "execution_count": 1,
   "metadata": {},
   "outputs": [
    {
     "name": "stderr",
     "output_type": "stream",
     "text": [
      "c:\\Users\\gheto\\miniconda3\\envs\\aromanianLLM\\Lib\\site-packages\\tqdm\\auto.py:21: TqdmWarning: IProgress not found. Please update jupyter and ipywidgets. See https://ipywidgets.readthedocs.io/en/stable/user_install.html\n",
      "  from .autonotebook import tqdm as notebook_tqdm\n"
     ]
    }
   ],
   "source": [
    "import torch\n",
    "from transformers import AutoModelForCausalLM, AutoTokenizer, Trainer, TrainingArguments\n",
    "from datasets import load_dataset\n",
    "import pandas as pd"
   ]
  },
  {
   "cell_type": "code",
   "execution_count": 2,
   "metadata": {},
   "outputs": [],
   "source": [
    "base_model = \"meta-llama/Llama-3.2-1B\"\n",
    "new_model = \"llama-3.2-1b-chat-aromanian_v3\"\n",
    "tokenizer = AutoTokenizer.from_pretrained(base_model)\n",
    "model = AutoModelForCausalLM.from_pretrained(base_model)"
   ]
  },
  {
   "cell_type": "code",
   "execution_count": 3,
   "metadata": {},
   "outputs": [],
   "source": [
    "if tokenizer.pad_token is None:\n",
    "    tokenizer.add_special_tokens({'pad_token': tokenizer.eos_token})"
   ]
  },
  {
   "cell_type": "code",
   "execution_count": 4,
   "metadata": {},
   "outputs": [],
   "source": [
    "device = \"cuda\" if torch.cuda.is_available() else \"cpu\"\n",
    "model = model.to(device)"
   ]
  },
  {
   "cell_type": "code",
   "execution_count": 5,
   "metadata": {},
   "outputs": [
    {
     "name": "stderr",
     "output_type": "stream",
     "text": [
      "C:\\Users\\gheto\\AppData\\Local\\Temp\\ipykernel_13720\\786282711.py:6: FutureWarning: DataFrame.applymap has been deprecated. Use DataFrame.map instead.\n",
      "  df_transformed = df.applymap(lambda x: ''.join([c for c in unicodedata.normalize('NFKD', x)  if unicodedata.category(c) != 'Mn']) if type(x) == str else x)\n",
      "C:\\Users\\gheto\\AppData\\Local\\Temp\\ipykernel_13720\\786282711.py:6: FutureWarning: DataFrame.applymap has been deprecated. Use DataFrame.map instead.\n",
      "  df_transformed = df.applymap(lambda x: ''.join([c for c in unicodedata.normalize('NFKD', x)  if unicodedata.category(c) != 'Mn']) if type(x) == str else x)\n",
      "Map: 100%|██████████| 27033/27033 [00:00<00:00, 28669.40 examples/s]\n",
      "Map: 100%|██████████| 3004/3004 [00:00<00:00, 27573.27 examples/s]\n"
     ]
    }
   ],
   "source": [
    "import pandas as pd\n",
    "from datasets import Dataset\n",
    "import unicodedata\n",
    "def apply_supplimentary_transformations(df_path):\n",
    "    df = pd.read_csv(df_path)\n",
    "    df_transformed = df.applymap(lambda x: ''.join([c for c in unicodedata.normalize('NFKD', x)  if unicodedata.category(c) != 'Mn']) if type(x) == str else x)\n",
    "    # There are some words that have a -mi at the end, we will eliminate them also\n",
    "    df_transformed.replace(r'\\s*-\\s*mi\\b', '', regex=True, inplace=True)\n",
    "    df_transformed.replace(r'\\(i\\)', 'i', regex=True, inplace=True)\n",
    "    df_transformed.replace('γ', 'y', regex=True, inplace=True)\n",
    "    df_transformed.replace(r'’', '', regex=True, inplace=True)\n",
    "    df_transformed.replace(r'“', '', regex=True, inplace=True)\n",
    "    df_transformed.replace(r'„', '', regex=True, inplace=True)\n",
    "    df_transformed.columns = [str(q).strip() for q in df_transformed.columns]\n",
    "    return df_transformed\n",
    "# df_transformed.drop(columns=['ro', 'rup', 'translations'], inplace=True)\n",
    "train_dataset = Dataset.from_pandas(apply_supplimentary_transformations(\"../dataset/nllb_corpus_train.csv\"))\n",
    "train_dataset = train_dataset.shuffle(seed=42)\n",
    "\n",
    "test_dataset = Dataset.from_pandas(apply_supplimentary_transformations(\"../dataset/nllb_corpus_test.csv\"))\n",
    "test_dataset = test_dataset.shuffle(seed=42) \n",
    "\n",
    "\n",
    "def generate_prompt(data_point):\n",
    "    begin_of_text = \"<|begin_of_text|>\"\n",
    "    end_of_text = \"<|end_of_text|>\"\n",
    "    start_header_id = \"<|start_header_id|>\"\n",
    "    end_header_id = \"<|end_header_id|>\"\n",
    "    eot_id = \"<|eot_id|>\"\n",
    "    return {\"text\":\n",
    "    f\"\"\"{begin_of_text}\n",
    "        {start_header_id}system{end_header_id} Tradu urmatorul text din aromana in romana:\n",
    "        {start_header_id}user{end_header_id} {data_point[\"rup\"]}{eot_id}\n",
    "        {start_header_id}assistant{end_header_id} {data_point[\"ro\"]}{eot_id}\n",
    "        {end_of_text}\"\"\"}\n",
    "\n",
    "train_dataset = train_dataset.map(generate_prompt)\n",
    "test_dataset = test_dataset.map(generate_prompt)\n",
    "\n",
    "# dataset['text'][3]"
   ]
  },
  {
   "cell_type": "code",
   "execution_count": 6,
   "metadata": {},
   "outputs": [
    {
     "name": "stderr",
     "output_type": "stream",
     "text": [
      "Map: 100%|██████████| 27033/27033 [00:08<00:00, 3177.02 examples/s]\n",
      "Map: 100%|██████████| 3004/3004 [00:00<00:00, 3183.00 examples/s]\n"
     ]
    }
   ],
   "source": [
    "def tokenize_function(examples):\n",
    "    tokenized_inputs = {\"input_ids\": [], \"attention_mask\": [], \"labels\": []}\n",
    "\n",
    "    for text in examples['text']:\n",
    "        tokenized_input = tokenizer(text, truncation=True, padding='max_length', max_length=512)\n",
    "\n",
    "        labels = tokenized_input[\"input_ids\"].copy()\n",
    "        \n",
    "        assistant_idx = text.find(\"<|start_header_id|> assistant\")\n",
    "        assistant_token_idx = len(tokenizer(text[:assistant_idx])[\"input_ids\"])\n",
    "\n",
    "        labels[:assistant_token_idx] = [-100] * assistant_token_idx\n",
    "        \n",
    "        tokenized_inputs[\"input_ids\"].append(tokenized_input[\"input_ids\"])\n",
    "        tokenized_inputs[\"attention_mask\"].append(tokenized_input[\"attention_mask\"])\n",
    "        tokenized_inputs[\"labels\"].append(labels)\n",
    "    \n",
    "    return tokenized_inputs\n",
    "\n",
    "tokenized_train_dataset = train_dataset.map(tokenize_function, batched=True)\n",
    "tokenized_test_dataset = test_dataset.map(tokenize_function, batched=True)"
   ]
  },
  {
   "cell_type": "code",
   "execution_count": null,
   "metadata": {},
   "outputs": [
    {
     "name": "stderr",
     "output_type": "stream",
     "text": [
      "c:\\Users\\gheto\\miniconda3\\envs\\aromanianLLM\\Lib\\site-packages\\transformers\\training_args.py:1525: FutureWarning: `evaluation_strategy` is deprecated and will be removed in version 4.46 of 🤗 Transformers. Use `eval_strategy` instead\n",
      "  warnings.warn(\n",
      "  0%|          | 0/27033 [00:00<?, ?it/s]c:\\Users\\gheto\\miniconda3\\envs\\aromanianLLM\\Lib\\site-packages\\transformers\\models\\llama\\modeling_llama.py:660: UserWarning: 1Torch was not compiled with flash attention. (Triggered internally at C:\\cb\\pytorch_1000000000000\\work\\aten\\src\\ATen\\native\\transformers\\cuda\\sdp_utils.cpp:555.)\n",
      "  attn_output = torch.nn.functional.scaled_dot_product_attention(\n",
      "  0%|          | 10/27033 [03:08<150:17:48, 20.02s/it]"
     ]
    },
    {
     "name": "stdout",
     "output_type": "stream",
     "text": [
      "{'loss': 1.1984, 'grad_norm': 1.93274971138635e-07, 'learning_rate': 1.9992601635038658e-05, 'epoch': 0.0}\n"
     ]
    },
    {
     "name": "stderr",
     "output_type": "stream",
     "text": [
      "  0%|          | 19/27033 [07:10<225:52:54, 30.10s/it]"
     ]
    }
   ],
   "source": [
    "training_args = TrainingArguments(\n",
    "    output_dir=\"./results\",\n",
    "    overwrite_output_dir=True,\n",
    "    evaluation_strategy=\"epoch\",\n",
    "    learning_rate=2e-5,\n",
    "    per_device_train_batch_size=1,   \n",
    "    per_device_eval_batch_size=1,\n",
    "    num_train_epochs=1,\n",
    "    weight_decay=0.01,\n",
    "    save_strategy=\"epoch\",\n",
    "    logging_dir='./logs',\n",
    "    logging_steps=10,\n",
    ")\n",
    "\n",
    "trainer = Trainer(\n",
    "    model=model,\n",
    "    args=training_args,\n",
    "    train_dataset=tokenized_train_dataset,\n",
    "    eval_dataset=tokenized_test_dataset,\n",
    ")\n",
    "\n",
    "trainer.train()"
   ]
  }
 ],
 "metadata": {
  "kernelspec": {
   "display_name": "aromanianLLM",
   "language": "python",
   "name": "python3"
  },
  "language_info": {
   "codemirror_mode": {
    "name": "ipython",
    "version": 3
   },
   "file_extension": ".py",
   "mimetype": "text/x-python",
   "name": "python",
   "nbconvert_exporter": "python",
   "pygments_lexer": "ipython3",
   "version": "3.12.5"
  }
 },
 "nbformat": 4,
 "nbformat_minor": 2
}
