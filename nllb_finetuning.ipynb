{
 "cells": [
  {
   "cell_type": "code",
   "execution_count": null,
   "metadata": {},
   "outputs": [],
   "source": [
    "import pandas as pd\n",
    "import unicodedata\n",
    "from tqdm.auto import tqdm, trange\n",
    "import numpy as np\n",
    "import spacy\n",
    "from dictionary_lookup import Dictionary\n",
    "import random\n",
    "import sacrebleu\n",
    "from transformers import AutoModelForSeq2SeqLM, AutoTokenizer\n",
    "import re\n",
    "from transformers.optimization import Adafactor\n",
    "from transformers import get_constant_schedule_with_warmup\n",
    "pd.options.mode.chained_assignment = None \n",
    "nlp = spacy.load('ro_core_news_sm')\n",
    "random.seed(42)"
   ]
  },
  {
   "cell_type": "markdown",
   "metadata": {},
   "source": [
    "##### Here we create a dataset that consists of the text splitted at sentence or subsentence level (it's actually splitted by most commmon end of sentence characters: .,?,!). "
   ]
  },
  {
   "cell_type": "code",
   "execution_count": 2,
   "metadata": {},
   "outputs": [],
   "source": [
    "df = pd.read_csv(\"../dataset/updated_parallel_corpus.csv\", nrows=1000)\n",
    "df_ro_rup = df[['ro', 'rup']]\n",
    "df_ro_rup.dropna(inplace=True)\n",
    "\n",
    "# The text is splitted into sentences so we can construct a dataset with more granular data\n",
    "def split_text(text):\n",
    "    sentence_endings = re.compile(r'(?<=[.!?])\\s+')\n",
    "    sentences = sentence_endings.split(text)\n",
    "    return sentences\n",
    "\n",
    "df_ro_rup.loc[:, 'ro_sentences'] = df_ro_rup.loc[:, 'ro'].apply(split_text)\n",
    "df_ro_rup.loc[:, 'rup_sentences'] = df_ro_rup.loc[:, 'rup'].apply(split_text)\n",
    "df_ro_rup.drop(columns=['ro', 'rup'], inplace=True)\n",
    "\n",
    "# There are some rows that have different number of sentences in the two columns, we will join them\n",
    "# The output will be a list of strings, in case of joining it will be a list with one string\n",
    "mask = df_ro_rup['ro_sentences'].apply(len) != df_ro_rup['rup_sentences'].map(len)\n",
    "df_ro_rup[mask] = df_ro_rup[mask].map(lambda x: [' '.join(x)])\n",
    "\n",
    "# Now we will create a dataset with one sentence per row\n",
    "df_ro_rup_data = pd.DataFrame(columns=['ro', 'rup'])\n",
    "for index, row in df_ro_rup.iterrows():\n",
    "    for ro_sentence, rup_sentence in zip(row['ro_sentences'], row['rup_sentences']):\n",
    "        df_ro_rup_data = pd.concat([df_ro_rup_data, pd.DataFrame({'ro': [ro_sentence], 'rup': [rup_sentence]})], ignore_index=True)\n",
    "\n"
   ]
  },
  {
   "cell_type": "markdown",
   "metadata": {},
   "source": [
    "#### Adding words from the dictionary to the dataset"
   ]
  },
  {
   "cell_type": "code",
   "execution_count": 3,
   "metadata": {},
   "outputs": [],
   "source": [
    "file_path = '../others/Papahagi.xls'\n",
    "dict = Dictionary(file_path, column_names=['pos', 'aromanian', 'romanian', 'source_lang', 'details', 'forms'], unused_columns=['source_lang', 'details', 'forms'])\n",
    "dict.create_dictionary(original_csv_file=\"../others/Papahagi_original.csv\", transformed_csv_file=\"../others/Papahagi.csv\")\n",
    "for key in dict.dict.keys():\n",
    "    for el in dict.dict[key]:\n",
    "        rup = el[0]\n",
    "        ro = el[1]\n",
    "        df_ro_rup_data.loc[len(df_ro_rup_data) + 1] = [ro, rup]\n",
    "df_ro_rup_data.drop_duplicates(inplace=True)\n",
    "df_ro_rup_data.reset_index(drop=True, inplace=True)\n",
    "df_ro_rup_data.to_csv(\"../dataset/nllb_corpus.csv\", index=False)"
   ]
  },
  {
   "cell_type": "code",
   "execution_count": 4,
   "metadata": {},
   "outputs": [],
   "source": [
    "df = pd.read_csv(\"../dataset/nllb_corpus.csv\")\n",
    "# Reapply the transformations\n",
    "df_transformed = df.map(lambda x: ''.join([c for c in unicodedata.normalize('NFKD', x)  if unicodedata.category(c) != 'Mn']) if type(x) == str else x)\n",
    "# There are some words that have a -mi at the end, we will eliminate them also\n",
    "df_transformed.replace(r'\\s*-\\s*mi\\b', '', regex=True, inplace=True)\n",
    "df_transformed.replace(r'\\(i\\)', 'i', regex=True, inplace=True)\n",
    "df_transformed.replace('γ', 'y', regex=True, inplace=True)\n",
    "df_transformed.replace(r'’', '', regex=True, inplace=True)\n",
    "df_transformed.replace(r'“', '', regex=True, inplace=True)\n",
    "df_transformed.replace(r'„', '', regex=True, inplace=True)\n",
    "df_transformed.replace(r' - fig', ' ', regex=True, inplace=True)\n",
    "df_transformed.replace('\"', '', regex=False, inplace=True)\n",
    "\n",
    "# Some words from the dictionary have a comma with space and a letter at the end, we will eliminate them\n",
    "df_transformed.replace(r',\\s*[a-zA-Z]$', '', regex=True, inplace=True)\n",
    "\n",
    "\n",
    "df_transformed.columns = [str(q).strip() for q in df_transformed.columns]\n",
    "df_ro_rup = df_transformed[['ro', 'rup']]\n",
    "df_ro_rup = df_ro_rup.sample(frac=1).reset_index(drop=True)\n",
    "df_ro_rup.dropna(inplace=True)\n",
    "# Split the data into train and test\n",
    "train_size = int(0.9 * df_ro_rup.shape[0])\n",
    "df_ro_rup_train = df_ro_rup.iloc[:train_size]\n",
    "df_ro_rup_test = df_ro_rup.iloc[train_size:]\n",
    "df_ro_rup_train.reset_index(drop=True, inplace=True)\n",
    "df_ro_rup_test.reset_index(drop=True, inplace=True)\n",
    "\n",
    "df_ro_rup.to_csv(\"../dataset/nllb_corpus.csv\", index=False)\n",
    "\n",
    "df_ro_rup_train.to_csv(\"../dataset/nllb_corpus_train.csv\", index=False)\n",
    "df_ro_rup_test.to_csv(\"../dataset/nllb_corpus_test.csv\", index=False)\n"
   ]
  },
  {
   "cell_type": "code",
   "execution_count": 5,
   "metadata": {},
   "outputs": [],
   "source": [
    "# remove unused variables\n",
    "del df\n",
    "del df_ro_rup\n",
    "del df_transformed\n",
    "del df_ro_rup_data\n",
    "del mask\n",
    "del row"
   ]
  },
  {
   "cell_type": "markdown",
   "metadata": {},
   "source": [
    "Parts of the following code are inspired by: https://cointegrated.medium.com/how-to-fine-tune-a-nllb-200-model-for-translating-a-new-language-a37fc706b865"
   ]
  },
  {
   "cell_type": "code",
   "execution_count": 6,
   "metadata": {},
   "outputs": [
    {
     "name": "stderr",
     "output_type": "stream",
     "text": [
      "c:\\Users\\gheto\\miniconda3\\envs\\aromanianLLM\\Lib\\site-packages\\tqdm\\auto.py:21: TqdmWarning: IProgress not found. Please update jupyter and ipywidgets. See https://ipywidgets.readthedocs.io/en/stable/user_install.html\n",
      "  from .autonotebook import tqdm as notebook_tqdm\n",
      "c:\\Users\\gheto\\miniconda3\\envs\\aromanianLLM\\Lib\\site-packages\\transformers\\tokenization_utils_base.py:1601: FutureWarning: `clean_up_tokenization_spaces` was not set. It will be set to `True` by default. This behavior will be depracted in transformers v4.45, and will be then set to `False` by default. For more details check this issue: https://github.com/huggingface/transformers/issues/31884\n",
      "  warnings.warn(\n"
     ]
    },
    {
     "name": "stdout",
     "output_type": "stream",
     "text": [
      "ronanea s-nairi si nu vru\n"
     ]
    }
   ],
   "source": [
    "model_name = \"facebook/nllb-200-distilled-600M\"\n",
    "tokenizer = AutoTokenizer.from_pretrained(model_name, token=True, src_lang=\"ro_Latn\")\n",
    "model = AutoModelForSeq2SeqLM.from_pretrained(model_name)\n",
    "\n",
    "tokenizer.src_lang = \"ron\"\n",
    "inputs = tokenizer(text=\"Acsite, amiraroanea s-nairi si nu vru\", return_tensors=\"pt\")\n",
    "translated_tokens = model.generate(\n",
    "    **inputs, forced_bos_token_id=tokenizer.encode(\"ro_Latn\")[0]\n",
    ")\n",
    "print(tokenizer.decode(translated_tokens[0], skip_special_tokens=True))"
   ]
  },
  {
   "cell_type": "code",
   "execution_count": 7,
   "metadata": {},
   "outputs": [],
   "source": [
    "\n",
    "model.cuda();\n",
    "optimizer = Adafactor(\n",
    "    [p for p in model.parameters() if p.requires_grad],\n",
    "    scale_parameter=False,\n",
    "    relative_step=False,\n",
    "    lr=1e-4,\n",
    "    clip_threshold=1.0,\n",
    "    weight_decay=1e-3,\n",
    ")\n",
    "scheduler = get_constant_schedule_with_warmup(optimizer, num_warmup_steps=1000)"
   ]
  },
  {
   "cell_type": "code",
   "execution_count": 8,
   "metadata": {},
   "outputs": [
    {
     "name": "stdout",
     "output_type": "stream",
     "text": [
      "(['vintosu', 'mirudhyeaua', 'una -oara', 'ortu', 'znjiura', 'giunami', 'tuv(a)leta', 'cildisescu', 'orthodhoxu', 'lirosu', 'ayunjisescu', 'ciudescu', 'aleapidu', 'Cara lu-arcara, di mica-mica flurii, di nu avea iu s-li ma baga, cindu vinira s-veada s-easte ca le-arca petalile, nidisclisa usa ghine, cucotlu se-astrapse nafoara di use. Tradze-ndreptu la auslu si-i dzite:', 'ni-minari'], ['vantului expus', 'miros', 'candva', 'sfert de piastru', 'zmeura', 'viteji multi', 'marama', 'ului', 'ortodox', 'jegos', 'grabi', 'extazia', 'arunca', 'Il azvarlira in hazna si inghiti cocosul la galbeni, de nu mai avea loc in pipota. Cand venira oamenii craiului sa vada daca si-a dat duhul, numai ce deschisera ei usa ca o si zbughi afara. Merge - glont, la mos si-i zice:', 'nemiscare'], 'aromanian', 'romanian')\n"
     ]
    }
   ],
   "source": [
    "LANGS = [('rup', 'aromanian'), ('ro', 'romanian')]\n",
    "\n",
    "def get_batch_pairs(batch_size, data=df_ro_rup_train):\n",
    "    (l1, long1), (l2, long2) = random.sample(LANGS, 2)\n",
    "    xx, yy = [], []\n",
    "    for _ in range(batch_size):\n",
    "        item = data.iloc[random.randint(0, len(data)-1)]\n",
    "        xx.append(item[l1])\n",
    "        yy.append(item[l2])\n",
    "    return xx, yy, long1, long2\n",
    "\n",
    "print(get_batch_pairs(15))"
   ]
  },
  {
   "cell_type": "code",
   "execution_count": 9,
   "metadata": {},
   "outputs": [],
   "source": [
    "batch_size = 16  # 32 already doesn't fit well to 15GB of GPU memory\n",
    "max_length = 128  \n",
    "training_steps = 60000  \n",
    "losses = []  \n",
    "MODEL_SAVE_PATH = 'test_train'  "
   ]
  },
  {
   "cell_type": "code",
   "execution_count": null,
   "metadata": {},
   "outputs": [],
   "source": [
    "model.train()\n",
    "x, y, loss = None, None, None\n",
    "\n",
    "tq = trange(len(losses), training_steps)\n",
    "for i in tq:\n",
    "    xx, yy, lang1, lang2 = get_batch_pairs(batch_size)\n",
    "    try:\n",
    "        tokenizer.src_lang = lang1\n",
    "        x = tokenizer(xx, return_tensors='pt', padding=True, truncation=True, max_length=max_length).to(model.device)\n",
    "        tokenizer.src_lang = lang2\n",
    "        y = tokenizer(yy, return_tensors='pt', padding=True, truncation=True, max_length=max_length).to(model.device)\n",
    "        y.input_ids[y.input_ids == tokenizer.pad_token_id] = -100\n",
    "\n",
    "        loss = model(**x, labels=y.input_ids).loss\n",
    "        loss.backward()\n",
    "        losses.append(loss.item())\n",
    "\n",
    "        optimizer.step()\n",
    "        optimizer.zero_grad(set_to_none=True)\n",
    "        scheduler.step()\n",
    "\n",
    "    except RuntimeError as e:  \n",
    "        optimizer.zero_grad(set_to_none=True)\n",
    "        x, y, loss = None, None, None\n",
    "        print('error', max(len(s) for s in xx + yy), e)\n",
    "        continue\n",
    "\n",
    "    if i % 1000 == 0:\n",
    "        print(i, np.mean(losses[-1000:]))\n",
    "\n",
    "    if i % 1000 == 0 and i > 0:\n",
    "        model.save_pretrained(MODEL_SAVE_PATH)\n",
    "        tokenizer.save_pretrained(MODEL_SAVE_PATH)"
   ]
  },
  {
   "cell_type": "code",
   "execution_count": 7,
   "metadata": {},
   "outputs": [
    {
     "name": "stdout",
     "output_type": "stream",
     "text": [
      "['Dar, a lor i se parea ca-au mentit o vasilie-ntreaga']\n"
     ]
    }
   ],
   "source": [
    "\n",
    "model = AutoModelForSeq2SeqLM.from_pretrained('test_train')\n",
    "tokenizer = AutoTokenizer.from_pretrained('test_train')\n",
    "# load test data\n",
    "df_ro_rup_test = pd.read_csv(\"../dataset/nllb_corpus_test.csv\")\n",
    "\n",
    "# Put the on the GPU\n",
    "model.cuda();\n",
    "model.eval();\n",
    "\n",
    "def translate(\n",
    "    text, src_lang='ro', tgt_lang='rup', \n",
    "    a=32, b=3, max_input_length=1024, num_beams=4, **kwargs\n",
    "):\n",
    "    \"\"\"Turn a text or a list of texts into a list of translations\"\"\"\n",
    "    tokenizer.src_lang = src_lang\n",
    "    tokenizer.tgt_lang = tgt_lang\n",
    "    inputs = tokenizer(\n",
    "        text, return_tensors='pt', padding=True, truncation=True, \n",
    "        max_length=max_input_length\n",
    "    )\n",
    "    model.eval() # turn off training mode\n",
    "    result = model.generate(\n",
    "        **inputs.to(model.device),\n",
    "        forced_bos_token_id=tokenizer.convert_tokens_to_ids(tgt_lang),\n",
    "        max_new_tokens=int(a + b * inputs.input_ids.shape[1]),\n",
    "        num_beams=num_beams, **kwargs\n",
    "    )\n",
    "    return tokenizer.batch_decode(result, skip_special_tokens=True)\n",
    "\n",
    "# Example usage:\n",
    "t = 'Ma, a lor la si paru c-amintara na vasilie-ntreaga'\n",
    "print(translate(t, 'aromanian', 'romanian'))"
   ]
  },
  {
   "cell_type": "code",
   "execution_count": 8,
   "metadata": {},
   "outputs": [
    {
     "name": "stderr",
     "output_type": "stream",
     "text": [
      "  0%|          | 0/188 [00:00<?, ?it/s]"
     ]
    },
    {
     "name": "stdout",
     "output_type": "stream",
     "text": [
      "['inchisoare', 'covatica', 'fecioara - fata', 'junica', 'paraliza', 'cimpoi', 'discurs', 'sigila', 'ruinat', 'barca', 'boia', 'femeie brava', 'epitaf', 'streasina', 'tuna', 'departe']\n"
     ]
    },
    {
     "name": "stderr",
     "output_type": "stream",
     "text": [
      "  1%|          | 1/188 [00:00<03:03,  1.02it/s]"
     ]
    },
    {
     "name": "stdout",
     "output_type": "stream",
     "text": [
      "['Cand soarele da sa apuna, zari sub un copac doi bivoli pe care cineva tocmai ii frigea in doua frigari cat toate zilele.', 'greata', 'repezi', 'Cat traim - multe auzim si multe vedem, dar cu toate astea - nimic nu vom sti ca lumea pana nu punem mana sa si facem ceea ce ne pare ca stim.', 'narghilea', 'flota', 'incovriga', 'burta', 'ticalos', 'curatenie a face', 'Fa-ma pasare cu cioc,', 'praz, mancare de', 'dihor', 'sindrila', 'intens', 'intalni']\n"
     ]
    },
    {
     "name": "stderr",
     "output_type": "stream",
     "text": [
      "  1%|          | 2/188 [00:03<05:14,  1.69s/it]"
     ]
    },
    {
     "name": "stdout",
     "output_type": "stream",
     "text": [
      "['prostut', 'Dona, ca sa nu-i strice bucuria socrului sau, isi chema salbaticiunile, si - hai sa vada ce e, fie ce-o fi!', 'canal', 'innebuni', 'grohai', 'nepazit', 'Cand a ajuns bietul baiat in sat, l-a doborat jalea de ce-a putut vedea: toate gospodariile - pustii si in ruina!', 'epidemie', 'creanga', 'dispozitie buna', 'arc', 'revansa', 'piastru - moneda turceasca', 'lipsa', 'deznoda', 'coleg']\n"
     ]
    },
    {
     "name": "stderr",
     "output_type": "stream",
     "text": [
      "  2%|▏         | 3/188 [00:05<06:42,  2.18s/it]"
     ]
    },
    {
     "name": "stdout",
     "output_type": "stream",
     "text": [
      "['penetra', 'vraja', 'perete', 'crestet', 'zdreanta', 'birjar', 'scufita', '- De ce ne faci sa asteptam, domnule Nastratin? - il lua la rost judele.', 'de loc', 'placinta cu branza', 'caratit', 'strapunge ', 'prostut', 'floc, cu', 'farfurii care face', 'meschinarie']\n"
     ]
    },
    {
     "name": "stderr",
     "output_type": "stream",
     "text": [
      "  2%|▏         | 4/188 [00:06<05:07,  1.67s/it]"
     ]
    },
    {
     "name": "stdout",
     "output_type": "stream",
     "text": [
      "['sacaz', 'Nici o grija!', 'slabiciune', 'pentru care', 'cearta', 'zgarietura', 'salutare', 'sturz', 'cufunda', 'giuvaer', 'fruct', 'Si-l duse pe mancau la muma fetei. Si cand se porni asta - si-i mergeau falcile: - tac-tuc!, tac-tuc! - piereau painile ca nimica, de iti parea ca nici n-au fost! Douazeci de cuptoare de paine - si tot nu se saturase, spartul de el! Sac fara fund!', 'considera', 'palma', 'ponegri', 'bravura']\n"
     ]
    },
    {
     "name": "stderr",
     "output_type": "stream",
     "text": [
      "  3%|▎         | 5/188 [00:22<20:53,  6.85s/it]"
     ]
    },
    {
     "name": "stdout",
     "output_type": "stream",
     "text": [
      "['nazdravan - cu puteri supranaturale', 'presarare', 'laptuca-specie de', 'mior', 'scarbit a fi de ceva, cineva', 'mocirla', 'intindere', 'indulci', 'incoace', 'smerit', 'insira', 'rigola', 'fecior', 'vas', 'cearcan', 'vlastar']\n"
     ]
    },
    {
     "name": "stderr",
     "output_type": "stream",
     "text": [
      "  3%|▎         | 6/188 [00:23<14:11,  4.68s/it]"
     ]
    },
    {
     "name": "stdout",
     "output_type": "stream",
     "text": [
      "['infierbanta', 'paraliza', '- striga el.', 'negustorie', 'turca', 'rascoli', 'putrezire', 'infamie', 'puternic', 'abstinenta', 'buzunar - clin in forma de buza', 'moneda turceasca', 'afunda', 'roata', 'poturi', 'ghinda']\n"
     ]
    },
    {
     "name": "stderr",
     "output_type": "stream",
     "text": [
      "  4%|▎         | 7/188 [00:23<10:05,  3.34s/it]"
     ]
    },
    {
     "name": "stdout",
     "output_type": "stream",
     "text": [
      "['tutore', 'rusine', 'petrecere', 'se', 'abia', 'trimestru', 'rau', 'stins', 'murdari', 'egal', 'culca', 'grijuliu', 'unsuros', 'inclesta gura', 'grau', 'fluierul piciorului']\n"
     ]
    },
    {
     "name": "stderr",
     "output_type": "stream",
     "text": [
      "  4%|▍         | 8/188 [00:24<07:19,  2.44s/it]"
     ]
    },
    {
     "name": "stdout",
     "output_type": "stream",
     "text": [
      "['da ', 'bot', 'pieptene rar', 'necaz', 'estival', 'neprimit', 'furuncul', 'idolatru', 'robi', 'icter', 'prelinge', 'scurge', 'minuna', 'atinge usor', 'produce, a se', 'fulgerat']\n"
     ]
    },
    {
     "name": "stderr",
     "output_type": "stream",
     "text": [
      "  5%|▍         | 9/188 [00:24<05:28,  1.83s/it]"
     ]
    },
    {
     "name": "stdout",
     "output_type": "stream",
     "text": [
      "['mosmol - arbust', 'imbucatati aluatul', 'prezenta', 'plug', 'departare', 'impune', 'certa - se', 'cur - pt copii', 'tamplar', 'oboseala', 'goana de imperechere a porcilor', 'stoarce', 'purcea', 'ison', 'varf de arbore', 'spate']\n"
     ]
    },
    {
     "name": "stderr",
     "output_type": "stream",
     "text": [
      "  5%|▌         | 10/188 [00:25<04:10,  1.41s/it]"
     ]
    },
    {
     "name": "stdout",
     "output_type": "stream",
     "text": [
      "['produce', 'usurinta', 'satin', 'urzeala la razboi', 'ciripire', 'infiere', 'infricosator', 'un pic', 'castravete', 'terminare', 'viziune', 'regret', 'ras, face de - v', 'balaur', 'cui de incaltaminte', 'frunzos']\n"
     ]
    },
    {
     "name": "stderr",
     "output_type": "stream",
     "text": [
      "  6%|▌         | 11/188 [00:25<03:16,  1.11s/it]"
     ]
    },
    {
     "name": "stdout",
     "output_type": "stream",
     "text": [
      "['Albul - nu zicea nici pas.', 'sulita', 'piedica', 'blestemare', 'fondare', 'pati', 'imbuca', 'mira', 'albastru', 'cadelnita', 'marinar', 'razgandi', 'boschet', 'proiecta un proiectil', 'strans', 'ipocrit ']\n"
     ]
    },
    {
     "name": "stderr",
     "output_type": "stream",
     "text": [
      "  6%|▋         | 12/188 [00:26<02:43,  1.07it/s]"
     ]
    },
    {
     "name": "stdout",
     "output_type": "stream",
     "text": [
      "['flocos', 'uita aproape integral', 'rusine', 'paraliza', 'neconsolat', 'spata - la razboi de tesut', 'colonie - parfum', 'puturos, ca miros', 'imbucatura', 'viteaz', 'zapaci', 'ghiocei, clopotei', 'infasura', 'Intr-o saptamana urma sa se faca nunta.', 'garaguni multi', 'strecura']\n"
     ]
    },
    {
     "name": "stderr",
     "output_type": "stream",
     "text": [
      "  7%|▋         | 13/188 [00:26<02:25,  1.20it/s]"
     ]
    },
    {
     "name": "stdout",
     "output_type": "stream",
     "text": [
      "['policar - degetul mare', 'robust', 'angajament', 'cuart', 'casta', 'sarire', 'abilitate', 'taraie-brau, dezordonat', 'aplana', 'scorpion', 'La despartire, si-au schimbat intre ei inelele si isi jurara unul - altuia: cand inelul unuia o sangera, sa se stie ca asta trece prin mari primejdii - si-atunci celalalt trebuie sa-i alerge in ajutor.', 'soldat', 'fantoma', 'asigura', 'instrui', 'chipes']\n"
     ]
    },
    {
     "name": "stderr",
     "output_type": "stream",
     "text": [
      "  7%|▋         | 14/188 [00:37<10:36,  3.66s/it]"
     ]
    },
    {
     "name": "stdout",
     "output_type": "stream",
     "text": [
      "['deluros', 'parasi', 'semana cu cineva ', 'De-as scapa si de necazul asta - nimic nu mi-ar mai trebui pe lume.', 'mila a avea', 'botezator', 'calcula', 'vaitare', 'migala', 'avaritie', 'trasnit de fulger', 'Ii da cel sarac morisca, si isi ia vergeaua.', 'arsice - pozitie', 'curaj ', '- Pai, ala sunt eu.', 'Hopa!']\n"
     ]
    },
    {
     "name": "stderr",
     "output_type": "stream",
     "text": [
      "  8%|▊         | 15/188 [00:37<08:05,  2.81s/it]"
     ]
    },
    {
     "name": "stdout",
     "output_type": "stream",
     "text": [
      "['alaltaieri', 'ocazie', 'cos', 'rachiu', 'fel', 'temnita', 'uita', 'Ajunse omul acasa. Sa vezi acum - fel de fel de lucruri, in casa lui, sa vezi si sa nu crezi! Imbracaminte numai noua, trainica si curata, si pentru sine si pentru cei mici ai lui - cum nici imparatului nu-i dadea in mana sa aiba! D-apoi mancaruri - nici nu le poti numi pe toate cu vorba. Iti venea sa zici ca aci se nascu Cristos, nu alta - atata avere si fericire navalisera in casa saracului!', 'talpa', 'asezat', 'carnos', 'tarcol - cerc, roata', 'bogat', 'pamant', 'sfasia', 'scurge, a se']\n"
     ]
    },
    {
     "name": "stderr",
     "output_type": "stream",
     "text": [
      "  9%|▉         | 17/188 [01:11<26:09,  9.18s/it]"
     ]
    },
    {
     "name": "stdout",
     "output_type": "stream",
     "text": [
      "['la noapte', 'calma', 'vinde', 'margini', 'prajitura', 'bubos', 'otrava', 'deajuns', 'calauzire', 'sapa', 'ragai', 'voal brodat', 'A ajuns, de buna seama, dupa Frumosul-fiu-de-vanator, de-i venea sa plesneasca mumei fetei!', 'invinge', 'freca', 'dejuna']\n"
     ]
    },
    {
     "name": "stderr",
     "output_type": "stream",
     "text": [
      " 10%|▉         | 18/188 [01:12<20:21,  7.19s/it]"
     ]
    },
    {
     "name": "stdout",
     "output_type": "stream",
     "text": [
      "['imbujora', 'castan ', 'cingatoare de lana', 'din moment ce', 'bleg de urechi', 'Drumetul vrea sa zica: a lasat copii dupa el, cel ce muri, care sa-i poarte numele, ori n-a lasat?; fiindca, daca n-a lasat urmasi, e mort pentru vesnicie; iar daca a lasat, atunci chiar ca a murit viu!', 'bucatarie', 'brav ', 'Pindean, locuitor di Pind', 'tesatura lucioasa', 'spori', 'subtioara', 'fibre', 'drasta, dat la ', 'tutungiu', '- se mirau ei.']\n"
     ]
    },
    {
     "name": "stderr",
     "output_type": "stream",
     "text": [
      " 10%|█         | 19/188 [01:19<20:01,  7.11s/it]"
     ]
    },
    {
     "name": "stdout",
     "output_type": "stream",
     "text": [
      "['presimti ', 'tast', 'cursa', 'data', 'urias', 'invinetit', 'tata', 'copil mic', 'cu penis mare', 'cioc - plisc', 'cuvanta', 'limpede', 'sigur', 'imprastia', 'articulatie', 'orizont']\n"
     ]
    },
    {
     "name": "stderr",
     "output_type": "stream",
     "text": [
      " 11%|█         | 20/188 [01:20<15:10,  5.42s/it]"
     ]
    },
    {
     "name": "stdout",
     "output_type": "stream",
     "text": [
      "['cos de papura', 'deci', 'constructie', 'muzica', 'veste', 'iele', 'ravasi ', 'desela', 'mangal', 'felinar', 'funda', 'rata', 'latrat', 'familie', 'linge', 'forta']\n"
     ]
    },
    {
     "name": "stderr",
     "output_type": "stream",
     "text": [
      " 11%|█         | 21/188 [01:20<11:13,  4.03s/it]"
     ]
    },
    {
     "name": "stdout",
     "output_type": "stream",
     "text": [
      "['licurici', 'perceptor', 'domnitor', 'vultur', 'pomana', 'argint viu, ca', 'brau', 'promenada', 'binecuvantare', 'raci la plaman, v ', 'iar', 'neasteptat', 'reusi', 'incuietoare', 'cersi', 'inhata']\n"
     ]
    },
    {
     "name": "stderr",
     "output_type": "stream",
     "text": [
      " 12%|█▏        | 22/188 [01:21<08:21,  3.02s/it]"
     ]
    },
    {
     "name": "stdout",
     "output_type": "stream",
     "text": [
      "['distinctie', 'friptura', 'clasa', 'zvapaiat', 'stiulete', 'ocroti', 'trata cu bucate ', 'matreata', 'pata  ', 'vesteji, a se', 'adera', 'Ala, bogat-bogat, dar era un zgarcit, ca-si manca de sub unghie! Asa ca nici n-a vrut sa auda, la inceput. Dar cum cel sarac nu-l slabi deloc, tinand-o numai asa: da un miel, da un miel, sa-i bucur si eu pe-ai mei de sfintele Pasti... -', 'plapuma', 'aschie', 'funingine', 'neincalcit']\n"
     ]
    },
    {
     "name": "stderr",
     "output_type": "stream",
     "text": [
      " 12%|█▏        | 23/188 [01:40<21:29,  7.81s/it]"
     ]
    },
    {
     "name": "stdout",
     "output_type": "stream",
     "text": [
      "['Francez', 'vigilent', 'goli pe cineva de...', 'samanta de canepa', 'apstrofa', 'intrucat', 'chiorai, v - matele', 'cu negru la cap - oaie alba', 'pacatui', 'progresa', 'traista', 'masca', 'certaret, om', 'maruntis - bani', 'traista pastoreasca', 'batatori']\n"
     ]
    },
    {
     "name": "stderr",
     "output_type": "stream",
     "text": [
      " 13%|█▎        | 24/188 [01:41<16:02,  5.87s/it]"
     ]
    },
    {
     "name": "stdout",
     "output_type": "stream",
     "text": [
      "['cosciug ', 'dragalas', 'imparateasa', 'varf', 'noroc', 'plasture', 'Radeti de mine - si nu va uitati cat sunteti de prosti voi, cei chemati, chipurile, sa-mpartiti dreptatea!...', 'sfert', 'mahnire', 'calare', 'pleava', 'curmatura', 'rasa - sutana', 'iubi', 'parintesc', 'oxida']\n"
     ]
    },
    {
     "name": "stderr",
     "output_type": "stream",
     "text": [
      " 13%|█▎        | 25/188 [01:44<13:03,  4.81s/it]"
     ]
    },
    {
     "name": "stdout",
     "output_type": "stream",
     "text": [
      "['teatru', 'plus', 'incepe', 'acumula', 'iarna', '- Cumetre-Nicola, iar ma cheama sa botez.', 'semnat', 'zburdanic', 'galbenus de ou', 'creatie', 'cocolos', 'lupta', 'pricepe ', 'fonda', 'intriga', 'salta']\n"
     ]
    },
    {
     "name": "stderr",
     "output_type": "stream",
     "text": [
      " 14%|█▍        | 26/188 [01:45<10:23,  3.85s/it]"
     ]
    },
    {
     "name": "stdout",
     "output_type": "stream",
     "text": [
      "['circula', 'tren', 'tratat', 'devia, v ', 'implini', 'vita salbatica', 'fereastra', 'Sta sa se faca ziua bine si stafia - nici vorba sa invinga!', 'amarare', 'mandat', 'indolent', 'navali', 'devasta', 'probitate', 'valoare ', 'comanda']\n"
     ]
    },
    {
     "name": "stderr",
     "output_type": "stream",
     "text": [
      " 14%|█▍        | 27/188 [01:47<08:48,  3.28s/it]"
     ]
    },
    {
     "name": "stdout",
     "output_type": "stream",
     "text": [
      "['bumbacarie', 'gratie', 'venin', 'emotie', 'destul', 'potarniche', 'ticalos', 'fuma', 'fulgera', 'lenevie', 'confluenta', 'diminua', 'somnul de pranz la umbra', 'jena', 'slabi', 'Iar trimite craiul sa-l cheme, si-i zice:']\n"
     ]
    },
    {
     "name": "stderr",
     "output_type": "stream",
     "text": [
      " 15%|█▍        | 28/188 [01:49<07:27,  2.80s/it]"
     ]
    },
    {
     "name": "stdout",
     "output_type": "stream",
     "text": [
      "['batjocoritor - care isi bate joc', 'crede', 'abundenta', 'rumega', 'de graba', 'soldat turc', 'rama', 'susur', 'lauda ', 'roi de albine', 'nemeritat', 'doisprezece', 'intalni', 'zvantura', 'oftare', 'moneda']\n"
     ]
    },
    {
     "name": "stderr",
     "output_type": "stream",
     "text": [
      " 15%|█▌        | 29/188 [01:50<06:03,  2.29s/it]"
     ]
    },
    {
     "name": "stdout",
     "output_type": "stream",
     "text": [
      "['molie', 'panta', 'starpitura', 'samur', 'repede', '- Daca l-ai vedea, te-ai duce cu el?', 'burete', 'linge', 'imbolnavi a se', 'ingrosare', 'hangiu', 'locui', 'plai', 'luntre', '? rotund ', 'capital']\n"
     ]
    },
    {
     "name": "stderr",
     "output_type": "stream",
     "text": [
      " 16%|█▌        | 30/188 [01:53<06:50,  2.60s/it]"
     ]
    },
    {
     "name": "stdout",
     "output_type": "stream",
     "text": [
      "['tinti', 'nerabdare', 'frig', 'sold', 'arunca aproape in totalitate', 'scriere', 'post crestinesc', 'zer cu lapte', 'pierdere', 'negru', 'fecioare multe', 'Trei zile si trei nopti a alergat pastorasul cel frumos, cu limba scoasa, dupa minunea ceea de pasare.', 'jegos', 'alaltaieri', 'ros', 'scurtare']\n"
     ]
    },
    {
     "name": "stderr",
     "output_type": "stream",
     "text": [
      " 16%|█▋        | 31/188 [01:55<06:32,  2.50s/it]"
     ]
    },
    {
     "name": "stdout",
     "output_type": "stream",
     "text": [
      "['diamant', 'luceafar', 'naframa alba la farseroti', 'reintalni', 'stralucit', 'coniac', 'pielita', 'meriza', 'ciocan', 'infometa ', 'schioapa = 15 cm', 'incomoda', 'vier  - cultivator de vie', 'laudat', 'numarat', 'para']\n"
     ]
    },
    {
     "name": "stderr",
     "output_type": "stream",
     "text": [
      " 17%|█▋        | 32/188 [01:57<05:40,  2.18s/it]"
     ]
    },
    {
     "name": "stdout",
     "output_type": "stream",
     "text": [
      "['poseda', 'glacial', 'prajire', 'din nou', 'saculet de bani', 'rejudeca', 'eroda', 'arsenic', 'nezdrentuite', 'zidi', 'Trecura asa mai multe zile.', 'panglica', 'spic', 'natarau', 'furis, pe', 'terminare']\n"
     ]
    },
    {
     "name": "stderr",
     "output_type": "stream",
     "text": [
      " 18%|█▊        | 33/188 [01:58<04:51,  1.88s/it]"
     ]
    },
    {
     "name": "stdout",
     "output_type": "stream",
     "text": [
      "['cherestegiu', 'copila', 'vatamat', 'aliaj', 'molift - molid', 'mari', 'gangav', 'zbarcit', 'ienupar, fruct de', 'carne', 'decolora', 'lipi', 'bustean', 'pardon!', 'Suparat ca vai de mine, dau sa intru intr-o coliba.', 'brav']\n"
     ]
    },
    {
     "name": "stderr",
     "output_type": "stream",
     "text": [
      " 18%|█▊        | 34/188 [02:00<04:33,  1.77s/it]"
     ]
    },
    {
     "name": "stdout",
     "output_type": "stream",
     "text": [
      "['fortificat', 'suge', 'pilaf', 'lemnar - vanzator de lemne', 'douazecisicinci', 'geanta ', 'limba de cantar', 'Tatal sau, cand il vazu, nu mai putu de bucurie!', 'tundere', 'plangator', 'aminti', 'pisare', 'privighetoare', 'obligatiune titlu', 'biberon', 'forta']\n"
     ]
    },
    {
     "name": "stderr",
     "output_type": "stream",
     "text": [
      " 19%|█▊        | 35/188 [02:01<04:33,  1.79s/it]"
     ]
    },
    {
     "name": "stdout",
     "output_type": "stream",
     "text": [
      "['?dificultate ', 'capuson', 'ghimpe', 'amandoi, amandoua', 'baza, a se', 'spaima', 'sul de panza', 'mulge', 'diavol', 'clipa', 'Pana sa-l desluseasca ei bine, uriasul ii si ajunsese.', 'innodare', 'scund', 'Fata, care stia toate jocurile astea, il invinse pe imparat!', 'revoltat', 'Imparatul atat a asteptat - si parca a luat foc - flacari scotea pe nari, de suparare.']\n"
     ]
    },
    {
     "name": "stderr",
     "output_type": "stream",
     "text": [
      " 19%|█▉        | 36/188 [02:04<05:01,  1.98s/it]"
     ]
    },
    {
     "name": "stdout",
     "output_type": "stream",
     "text": [
      "['veritabil', 'haina de purtat', 'Aci se auzeaz glasuri, dar lume nu vedeai niciunde, ca nu strabateai bezna cu privirea, deloc.', 'viata', 'om de incredere', 'desprinde', 'ti', 'joc de carti', 'impietrire', 'navadi', 'imparti', 'vesteji, a se', 'furie', 'jet de apa', 'Si cand, in sfarsit, se vazu sub crengile copacului din care se auzea cantecul, se sprijini o clipa de trunchi si, obosit frant cum era, - la care se-adauga si neasemuit de dulcele glas al pasarii, care parca-ti ungea inima cu miere - cazu intr-un somn adanc si greu, de parea ca nici nu mai rasufla, ai fi zis ca a murit de-a binelea.', 'noutati']\n"
     ]
    },
    {
     "name": "stderr",
     "output_type": "stream",
     "text": [
      " 20%|█▉        | 37/188 [02:32<24:58,  9.93s/it]"
     ]
    },
    {
     "name": "stdout",
     "output_type": "stream",
     "text": [
      "['corci', 'rasturnare', 'floare, specie de', 'Bosnia', 'meserie', 'zada - arbore rasinos', 'olane', 'asadar', 'calari', 'rautacoiasa-fig', 'mijlocul spatelui', 'Pasarea aceea era a mumei Frumoasei-lumii.', 'dragoman - translator', 'infamie', 'parfum ', 'degetul cel mic']\n"
     ]
    },
    {
     "name": "stderr",
     "output_type": "stream",
     "text": [
      " 20%|██        | 38/188 [02:34<18:33,  7.42s/it]"
     ]
    },
    {
     "name": "stdout",
     "output_type": "stream",
     "text": [
      "['cersetoresc, de cersetor', 'iubi ', 'rang', 'probitate', 'reduce', 'valoare', 'pat de pusca', 'negatie', 'Plictisindu-se Dumnezeu de milogeala lor, vru sa scape de dansii si le darui un fecior, dar mititel - cat bobul de naut.', 'arama', 'indesa', 'intristat  ', 'inspaimanta', 'fapta', 'supara', 'grau']\n"
     ]
    },
    {
     "name": "stderr",
     "output_type": "stream",
     "text": [
      " 21%|██        | 39/188 [02:36<14:44,  5.94s/it]"
     ]
    },
    {
     "name": "stdout",
     "output_type": "stream",
     "text": [
      "['sarlatan', 'Fata a jurat, ce sa faca!', 'ciorchine', 'lapte, cu', 'nadragi', 'indopat', 'sosit', 'A patit-o cu el.', 'rusine', 'gura-casca', 'cadou de veste buna', 'vrere', 'apicultor', 'lapovita', 'drag', 'sold']\n"
     ]
    },
    {
     "name": "stderr",
     "output_type": "stream",
     "text": [
      " 21%|██▏       | 40/188 [02:37<11:06,  4.50s/it]"
     ]
    },
    {
     "name": "stdout",
     "output_type": "stream",
     "text": [
      "['patrafir', 'amaraciune infioratoare', 'tamaia', 'Si baiatul umplu un sac mare si-l dadu la vale.', 'difuza', 'decat', 'dotat', 'tergiversa', 'macar', 'menstruatie', 'Miazazi', 'consemna', 'prostanac', 'capitan', 'rapa', 'domnitor']\n"
     ]
    },
    {
     "name": "stderr",
     "output_type": "stream",
     "text": [
      " 22%|██▏       | 41/188 [02:39<08:59,  3.67s/it]"
     ]
    },
    {
     "name": "stdout",
     "output_type": "stream",
     "text": [
      "['oportunitate', 'muraturi', 'saluta', 'sulfura', 'bogatie', 'avocatura', 'postav subtire', 'odihni', 'zgomot', 'stare', 'naucit', 'descult', 'bobulet', 'spaima', 'negricios', 'Saracacean']\n"
     ]
    },
    {
     "name": "stderr",
     "output_type": "stream",
     "text": [
      " 22%|██▏       | 42/188 [02:40<07:06,  2.92s/it]"
     ]
    },
    {
     "name": "stdout",
     "output_type": "stream",
     "text": [
      "['tipar', 'naste ', 'covatea cu capac', 'sarman', 'lada', 'mirosi urat', 'inconjura', 'soarece', 'tuse mortala', 'capabil', 'vanat', 'Prescurile, magarul - duca-se!', 'zimti de dantela', 'sarac, de', 'veghea', 'coada soricelului - planta']\n"
     ]
    },
    {
     "name": "stderr",
     "output_type": "stream",
     "text": [
      " 23%|██▎       | 43/188 [02:42<06:01,  2.49s/it]"
     ]
    },
    {
     "name": "stdout",
     "output_type": "stream",
     "text": [
      "['mancare', 'irascibil', 'parcurge', 'cararuie', 'inteligent', '- Iarasi te inseli, taica al meu!', 'zori de zi', 'verisoara', 'dumnealui, dumnealor', 'neted', 'agrafa', 'corb, specie de', 'fricos', 'cana', 'inaltare', 'susai']\n"
     ]
    },
    {
     "name": "stderr",
     "output_type": "stream",
     "text": [
      " 23%|██▎       | 44/188 [02:43<05:02,  2.10s/it]"
     ]
    },
    {
     "name": "stdout",
     "output_type": "stream",
     "text": [
      "['insomnie', 'leziune', 'Iar astea nu tineau mai mult de trei ceasuri.', 'umilit', 'ciocarlie', 'descuraja', 'lovitura de topor', 'burlan', 'dulceata - aliment', 'flamura', 'Care avea o fata - n-am cuvinte sa spun cat de chipesa era fata lui.', 'asasinat', 'rautati', 'umiditate', 'lama - de cutit', 'pentru ca']\n"
     ]
    },
    {
     "name": "stderr",
     "output_type": "stream",
     "text": [
      " 24%|██▍       | 45/188 [02:45<04:47,  2.01s/it]"
     ]
    },
    {
     "name": "stdout",
     "output_type": "stream",
     "text": [
      "['fricos', 'ziua', 'fantanica', 'pelicula', 'canal subteran', 'impartasi', 'pentru ca', 'respiratie', 'macelar', 'tradare', 'mod', 'vizuina', 'degradat', 'perfect', 'marfa', 'printre']\n"
     ]
    },
    {
     "name": "stderr",
     "output_type": "stream",
     "text": [
      " 24%|██▍       | 46/188 [02:46<03:56,  1.66s/it]"
     ]
    },
    {
     "name": "stdout",
     "output_type": "stream",
     "text": [
      "['insista', 'vatama', 'Parale au facut baietii, chiar prea multe, doar aveau diamante de nouazecisinoua de feluri.', 'farfurie', 'chitara', 'zbarli', 'intepa', 'aluneca', 'Ii mai ramasese in punga numai un aspru.', 'In felul asta, a putut sa-l scape de moarte si, dupa indelunga framantare, gasi ea un tertip sa-l scape si de inchisoare.', 'vestitor public', 'depasi', 'antichitate - obiect', 'colier', 'buzdugan', 'defect']\n"
     ]
    },
    {
     "name": "stderr",
     "output_type": "stream",
     "text": [
      " 25%|██▌       | 47/188 [02:49<04:56,  2.11s/it]"
     ]
    },
    {
     "name": "stdout",
     "output_type": "stream",
     "text": [
      "['boiereste', 'plugar ?', 'salata', 'crusin - arbust melifer', 'prostituata', 'perfid', 'adula', 'lana cleioasa', 'lat', 'teapa', 'grau', 'batjocori', 'peste', 'Iese astfel afara si - pusca, se duce dupa avocat.', 'canon', 'pornire']\n"
     ]
    },
    {
     "name": "stderr",
     "output_type": "stream",
     "text": [
      " 26%|██▌       | 48/188 [02:50<04:33,  1.95s/it]"
     ]
    },
    {
     "name": "stdout",
     "output_type": "stream",
     "text": [
      "['haina scurta din blana, boiereasca', 'grilaj', 'pentru ca', 'rege', 'exact', 'piele jupuita', 'boci', 'vioara', 'sili', 'calari (echitatie)', 'proprietate mica', 'dumica', 'carca, in', 'forte', 'sfarleaza', 'traista pastoreasca']\n"
     ]
    },
    {
     "name": "stderr",
     "output_type": "stream",
     "text": [
      " 26%|██▌       | 49/188 [02:52<04:10,  1.80s/it]"
     ]
    },
    {
     "name": "stdout",
     "output_type": "stream",
     "text": [
      "['geme', 'Arman', 'prostie', 'incercui  ', 'indiferent', 'curaj a avea', 'susur de apa in fierbere', 'bidiviu - tanar iute si frumos cal', 'mandru', 'sfarama', 'troian de zapada', 'rindea', 'insarcinare', 'calcat in picioare', 'verde-albastru', 'plomba']\n"
     ]
    },
    {
     "name": "stderr",
     "output_type": "stream",
     "text": [
      " 27%|██▋       | 50/188 [02:56<05:37,  2.45s/it]"
     ]
    },
    {
     "name": "stdout",
     "output_type": "stream",
     "text": [
      "['sclav', 'potoli, v, a se', 'marfa de vanzare', 'Au facut o nunta domneasca, si - bravo, Mitre, ca te vazusi si ginere de imparat!', 'stimula', 'sosi la timp', 'balan', 'opta', 'satana', 'consilia', 'salba', 'acesta, ...', 'pricepe', 'ureche de sarica', 'vulpe', 'oglinda']\n"
     ]
    },
    {
     "name": "stderr",
     "output_type": "stream",
     "text": [
      " 27%|██▋       | 51/188 [03:03<08:45,  3.83s/it]"
     ]
    },
    {
     "name": "stdout",
     "output_type": "stream",
     "text": [
      "['liniste', 'Si nici una, nici alta - se pregatira, isi umplura traistile cu paine si - fuga in munte; s-au facut un fel de haiduci!', 'roi', 'ciupi', 'infierbanta', 'calma', 'schimba', 'caprareatsa - locul de odihna al caprelor ', 'clovn', 'a mea', 'detuna', 'raschitor', 'departa', 'ramuros', 'galben-moneda', 'nod la lemn']\n"
     ]
    },
    {
     "name": "stderr",
     "output_type": "stream",
     "text": [
      " 28%|██▊       | 52/188 [03:05<07:45,  3.42s/it]"
     ]
    },
    {
     "name": "stdout",
     "output_type": "stream",
     "text": [
      "['plictisi de ceva, cineva', 'calcul', 'drept', 'innebuni', 'paguba', 'sabie', 'caval', 'reglementa', 'costum', 'hrana pt copii', 'descinge', 'vast', 'batranet', 'pomana', 'recviem', 'avort la oi']\n"
     ]
    },
    {
     "name": "stderr",
     "output_type": "stream",
     "text": [
      " 28%|██▊       | 53/188 [03:06<06:00,  2.67s/it]"
     ]
    },
    {
     "name": "stdout",
     "output_type": "stream",
     "text": [
      "['gaitan', 'mior', 'tepusa', '- fiul craiului imi lua galbenul!', 'vorbaret', 'baston de iarna', 'picta', 'napadi', 'acest', 'atare', 'repauza', 'departe', 'alunga', 'umflatura', 'lingura', 'rosu-inchis']\n"
     ]
    },
    {
     "name": "stderr",
     "output_type": "stream",
     "text": [
      " 29%|██▊       | 54/188 [03:08<05:03,  2.27s/it]"
     ]
    },
    {
     "name": "stdout",
     "output_type": "stream",
     "text": [
      "['comportament', 'nedrand', 'poleit', 'vota', 'jertfi', 'discutie', 'scanteii', 'sot', 'haina scurta femeiasca', 'amurg', 'dezmembra', 'vrabie', 'ahtiat', 'Dupa care isi incinse sabia, isi lua pusca pe umar, isi chema si un prieten cu el, si, cu baiatul asta impreuna - au incalecat ei doi cai inaripati, ce inghiteau nori nu alta - si se repezira s-o gaseasca si s-o scape din mainile hotilor pe prea frumoasa Stamula.', '- Sa-ti dau eu sufletul meu, ochii mei din cap?', 'dragon']\n"
     ]
    },
    {
     "name": "stderr",
     "output_type": "stream",
     "text": [
      " 29%|██▉       | 55/188 [03:30<18:08,  8.18s/it]"
     ]
    },
    {
     "name": "stdout",
     "output_type": "stream",
     "text": [
      "['juramant solemn', 'pietricea', 'sfoara', 'chenar', 'soricioaica', 'sforai', 'insusi', 'destul,  prea', 'a douasprezecea oara', 'scanteiere', 'insela', 'inapoi', 'forta', 'talpa piciorului', 'concilia', 'orgoliu']\n"
     ]
    },
    {
     "name": "stderr",
     "output_type": "stream",
     "text": [
      " 30%|██▉       | 56/188 [03:30<13:10,  5.99s/it]"
     ]
    },
    {
     "name": "stdout",
     "output_type": "stream",
     "text": [
      "['atinge', 'lucrator intr-o baie publica', 'sipca', 'piua', 'boier', 'hemoroizi', 'lupta', 'fildes', 'indoi', 'farmec', 'cladi', 'crapet', 'necaz', 'curent de aer', 'conduita', 'fara coarne']\n"
     ]
    },
    {
     "name": "stderr",
     "output_type": "stream",
     "text": [
      " 30%|███       | 57/188 [03:33<10:49,  4.96s/it]"
     ]
    },
    {
     "name": "stdout",
     "output_type": "stream",
     "text": [
      "['dandana', 'vatasel - curier la primarie', 'tavali', 'senzual, a deveni', 'putin', 'forma', 'lunecos', 'oftica', 'poala', 'plati', 'Plecand el, iata ca intra un caine in odaie si s-arunca asupra ciolanelor ramase de la ospat.', 'vanataie', 'Cum il zari, fata de imparat isi slobozi iar lacrimile.', 'asasinat', 'bronz', 'cutitas - mic cutit']\n"
     ]
    },
    {
     "name": "stderr",
     "output_type": "stream",
     "text": [
      " 31%|███       | 58/188 [03:35<09:00,  4.15s/it]"
     ]
    },
    {
     "name": "stdout",
     "output_type": "stream",
     "text": [
      "['cos, a scoate pe fata', '- Asculta, femeie! Eu - facui ce facui si, gata cu viata, am ajuns la capatul ei, cu chiu, cu vai. Ai grija insa - feciorul nostru sa n-o duca la fel, sa nu calce pe urme. Vezi, cum inchid eu ochii, aduna pustile si pistoalele toate si - in gaura de sarpe sa le-ascunzi, nu cumva sa dea peste ele asta mic si sa-si vare in cap, Doamne fereste, sa se faca si el vanator!', 'poftit', 'fulgerat', 'polita', 'Atata ingrozisera astia lumea, ca nu mai indraznea nimeni sa se-arate pe nicaieri; se-nchisesera drumurile toate si - era vai de cel pe care nefericita soarta il scotea din sat, ca n-apuca sa faca doi pasi, si cadea numaidecat in laba hotilor.', 'lat', 'exemplu  ', 'Ti-ai gasit cu cine sa te bati!', 'nu se stie cine, un necunoscut', 'cerc', 'fetita de 7-10 ani', 'Il cuprinse oricum bucuria ca era iar viu si...', 'dar', 'margea colorata', 'sfredel']\n"
     ]
    },
    {
     "name": "stderr",
     "output_type": "stream",
     "text": [
      " 31%|███▏      | 59/188 [04:09<28:10, 13.11s/it]"
     ]
    },
    {
     "name": "stdout",
     "output_type": "stream",
     "text": [
      "['pasional', 'risipit', 'de tot - negatie', 'cocolos', 'ager', 'rapi', 'ruina  ', 'caini multi', 'demara', 'brumariu', 'fermenta', 'fasole', 'calup', 'teapa', 'copii care are', 'subsol']\n"
     ]
    },
    {
     "name": "stderr",
     "output_type": "stream",
     "text": [
      " 32%|███▏      | 60/188 [04:10<20:18,  9.52s/it]"
     ]
    },
    {
     "name": "stdout",
     "output_type": "stream",
     "text": [
      "['sprancenat', 'direct', 'companie comerciala', 'scurtare', 'comparativ', 'diurna', 'minister', 'mastica', 'intamplare', 'scurma', 'intalnire', 'Struneste-ti calul fugos,', 'inimioara', 'iubitor', 'inarma', 'derapana']\n"
     ]
    },
    {
     "name": "stderr",
     "output_type": "stream",
     "text": [
      " 32%|███▏      | 61/188 [04:12<14:55,  7.05s/it]"
     ]
    },
    {
     "name": "stdout",
     "output_type": "stream",
     "text": [
      "['manusa', 'rasari , - astrii', '- N-ai minte?', 'papara, specie de', 'chiup - vas de lut', 'Parintii nu prea s-au invoit sa-l lase pe asta, ca se temeau sa nu i se intample ceva, Doamne-fereste!', 'furnizare', 'fluierul piciorului', 'deretica', 'stransoare', 'dupa', 'bobarnac', 'spre', 'Peste un galben!', 'mereu', 'sprijini']\n"
     ]
    },
    {
     "name": "stderr",
     "output_type": "stream",
     "text": [
      " 33%|███▎      | 62/188 [04:14<12:03,  5.74s/it]"
     ]
    },
    {
     "name": "stdout",
     "output_type": "stream",
     "text": [
      "['neg', 'voinic - bine legat', 'binevoi', 'slabi', 'dupa', 'bufon', 'zarzare', 'stufos', 'vaduvior', 'corn - pom', 'privi', 'bacis', 'mesteca', 'sacai', 'cinghel mic', 'zacere']\n"
     ]
    },
    {
     "name": "stderr",
     "output_type": "stream",
     "text": [
      " 34%|███▎      | 63/188 [04:16<09:15,  4.44s/it]"
     ]
    },
    {
     "name": "stdout",
     "output_type": "stream",
     "text": [
      "['orbire', 'ghicitoare de  ghicit', 'plaman', 'insori', 'adulmeca', 'apare ', 'ura', 'intristat', 'smirna', '- De le-ati cauta pana maine, le striga el - si tot nu le gasiti!', 'moneda', 'galbeji - a se imbolnavi de galbeaza', 'rafala de arma', 'mucalit', 'darz', 'ragai']\n"
     ]
    },
    {
     "name": "stderr",
     "output_type": "stream",
     "text": [
      " 34%|███▍      | 64/188 [04:18<07:35,  3.67s/it]"
     ]
    },
    {
     "name": "stdout",
     "output_type": "stream",
     "text": [
      "['pulpa', 'dar', 'bolnavicios', 'lintitsa', 'blestem', 'zdreanta', 'patrat', 'insensibiliza', 'pozitie de ambuscada', 'corci', 'raspunde', 'scutec', 'bubos', 'inceta', 'pipai', 'adancos']\n"
     ]
    },
    {
     "name": "stderr",
     "output_type": "stream",
     "text": [
      " 35%|███▍      | 65/188 [04:18<05:44,  2.80s/it]"
     ]
    },
    {
     "name": "stdout",
     "output_type": "stream",
     "text": [
      "['belciug', 'ordin', 'mierla   ', 'surzi', 'lada', 'nemernica', 'tragere', 'otel', 'descoperit,  cap', 'imparti', 'asemana, v ', 'decat', 'crestet', 'celnichesc', 'limina', 'tihna']\n"
     ]
    },
    {
     "name": "stderr",
     "output_type": "stream",
     "text": [
      " 35%|███▌      | 66/188 [04:19<04:29,  2.21s/it]"
     ]
    },
    {
     "name": "stdout",
     "output_type": "stream",
     "text": [
      "['arata, a se', 'furca de la vartelnita', 'pe', 'caruta', 'subtioara', 'cauta ', 'pipernicit', 'glumit', 'sot', 'toptan', 'amaraciune', 'perinda, a se  ', 'prostie', 'Abatut, necajit tare, de-i venea sa moara, nu mai stia ce sa faca.', 'canepa', 'razna']\n"
     ]
    },
    {
     "name": "stderr",
     "output_type": "stream",
     "text": [
      " 36%|███▌      | 67/188 [04:21<04:20,  2.15s/it]"
     ]
    },
    {
     "name": "stdout",
     "output_type": "stream",
     "text": [
      "['belciug de cantar', 'tulburat', 'patrundere', 'vindeca', 'nazuri', 'strabunic', 'ciocanitoare', 'devia', 'umbra', 'tulbura', 'gravida', 'infige', 'ruga', 'gheara', 'infricosa ', 'pumnal']\n"
     ]
    },
    {
     "name": "stderr",
     "output_type": "stream",
     "text": [
      " 36%|███▌      | 68/188 [04:22<03:36,  1.80s/it]"
     ]
    },
    {
     "name": "stdout",
     "output_type": "stream",
     "text": [
      "['instrui', 'jena', 'trage', 'furie nebuna', 'oras', 'rascoala', 'subtiere', 'blestem', 'asa', 'mugi', 'jale', 'plia', 'orbeste', 'grup  ', 'darnicie', 'horn']\n"
     ]
    },
    {
     "name": "stderr",
     "output_type": "stream",
     "text": [
      " 37%|███▋      | 69/188 [04:23<02:58,  1.50s/it]"
     ]
    },
    {
     "name": "stdout",
     "output_type": "stream",
     "text": [
      "['ratoi', 'efor', 'brutar', 'iarba de sterpit', 'furculita', 'flacara', 'varsatura de fiere', 'soma', 'pilaf', 'propti', 'cutremura', 'turbulent', 'termina', 'opari', 'zapaci, a se', 'atingere']\n"
     ]
    },
    {
     "name": "stderr",
     "output_type": "stream",
     "text": [
      " 37%|███▋      | 70/188 [04:24<02:18,  1.17s/it]"
     ]
    },
    {
     "name": "stdout",
     "output_type": "stream",
     "text": [
      "['prin', 'intelegator', 'scurta', 'doi  ', 'fratie', 'proteja', 'superficial', 'penis', 'mere padurete', 'pacatos', 'clipa', 'izmana', 'cosciug', 'siret', 'zbiera', 'reusi']\n"
     ]
    },
    {
     "name": "stderr",
     "output_type": "stream",
     "text": [
      " 38%|███▊      | 71/188 [04:24<01:50,  1.06it/s]"
     ]
    },
    {
     "name": "stdout",
     "output_type": "stream",
     "text": [
      "['diavol', 'lana', 'baza, a se', 'punte - pod', 'spalare', 'catarca mica', 'putina', 'stofa de Damasc', 'ars de bruma', 'arenda', 'usuratic', 'ursuz', 'revarsat', '- Bucuros!', 'imparatesc', 'pestrit']\n"
     ]
    },
    {
     "name": "stderr",
     "output_type": "stream",
     "text": [
      " 38%|███▊      | 72/188 [04:24<01:32,  1.25it/s]"
     ]
    },
    {
     "name": "stdout",
     "output_type": "stream",
     "text": [
      "['la capat', 'flecari', 'paloare', 'tolera', 'conteni  ', 'suspenda', 'rascula', 'scundicel', 'vaitare', 'intai', 'lira - instrument', 'duda', '- Du-te, taica, dar vezi sa fii cu ochii-n patru pe-acolo!', 'merge ', 'nunta', 'duda neagra']\n"
     ]
    },
    {
     "name": "stderr",
     "output_type": "stream",
     "text": [
      " 39%|███▉      | 73/188 [04:25<01:38,  1.17it/s]"
     ]
    },
    {
     "name": "stdout",
     "output_type": "stream",
     "text": [
      "['lance', 'stindard', 'tribunal', 'si -  cu catrima inainte', 'cai', 'mierla', 'iuteala', 'napusti', 'tabac', 'scadea', 'Si iar aude vorbele astea, si-si zice ca trebuie sa fie niscai raufacatori.', 'broasca de usa', 'leafa', 'munci ', 'prapadi', 'ara']\n"
     ]
    },
    {
     "name": "stderr",
     "output_type": "stream",
     "text": [
      " 39%|███▉      | 74/188 [04:30<03:55,  2.06s/it]"
     ]
    },
    {
     "name": "stdout",
     "output_type": "stream",
     "text": [
      "['lampa', 'terminarea scolii', 'zice ', 'prajitura uscata', 'nasa', 'revolutionar', 'cap fara minte', 'imboldi', 'pe ascuns', 'zadar, in', 'bate', 'cataonesc', 'purcea', 'bravura', 'Uriasul meu face acest drum intr-o zi numai.', 'asfintit']\n"
     ]
    },
    {
     "name": "stderr",
     "output_type": "stream",
     "text": [
      " 40%|███▉      | 75/188 [04:31<03:07,  1.66s/it]"
     ]
    },
    {
     "name": "stdout",
     "output_type": "stream",
     "text": [
      "['impins', 'cotcodaci', 'invita', 'bacanesc, de bacanie', 'putina, fel de', 'stralucitor', 'trasura', 'invarti', 'figura', 'posomora', 'geme', 'spic', 'turca', 'cararuie', 'domeniu', 'fugi ']\n"
     ]
    },
    {
     "name": "stderr",
     "output_type": "stream",
     "text": [
      " 40%|████      | 76/188 [04:31<02:22,  1.28s/it]"
     ]
    },
    {
     "name": "stdout",
     "output_type": "stream",
     "text": [
      "['topai', 'guler', 'laur - pom', 'Samarinean', 'topor', 'intelege', 'matase', 'bou, de', 'guvernator', 'intampina', 'liber', 'spart', 'reputa victorie', 'chef', 'amiaza', 'leagan']\n"
     ]
    },
    {
     "name": "stderr",
     "output_type": "stream",
     "text": [
      " 41%|████      | 77/188 [04:32<01:55,  1.04s/it]"
     ]
    },
    {
     "name": "stdout",
     "output_type": "stream",
     "text": [
      "['perdea', 'anapoda', 'cimitir', 'A doua zi au si primit citatiile, si pe la ceasurile noua - iata-i inaintea judelui.', 'ravni', 'Decat, mi-i groaza sa nu creada jandarii c-am facut cine stie ce faradelegi.', 'islamiza', 'scadere', 'paine intreaga', 'zvarcolire', 'lenes', 'drac', 'farsa', 'secret', 'acoperis', 'consola']\n"
     ]
    },
    {
     "name": "stderr",
     "output_type": "stream",
     "text": [
      " 41%|████▏     | 78/188 [04:33<02:02,  1.12s/it]"
     ]
    },
    {
     "name": "stdout",
     "output_type": "stream",
     "text": [
      "['galben deschis', 'muri - la animale', 'cerb', 'obstinatie', 'ploaie fina', 'crapa de zi', 'pumn', 'frumusel', 'stare', 'bici', 'halal - admiratie', 'bucata', 'trompeta', 'tamaiere', 'rupe', 'razatoare']\n"
     ]
    },
    {
     "name": "stderr",
     "output_type": "stream",
     "text": [
      " 42%|████▏     | 79/188 [04:34<01:40,  1.08it/s]"
     ]
    },
    {
     "name": "stdout",
     "output_type": "stream",
     "text": [
      "['nenorocire', 'innopta', '- Uite-asa.', 'galben - moneda de aur austriaca', 'viclean', 'greutate', 'tineret', 'tunet', 'acum', 'nuntas', 'geambaslac - profesie', 'amarat', 'cotofana', 'prost ', 'scufita', 'intrista']\n"
     ]
    },
    {
     "name": "stderr",
     "output_type": "stream",
     "text": [
      " 43%|████▎     | 80/188 [04:34<01:28,  1.22it/s]"
     ]
    },
    {
     "name": "stdout",
     "output_type": "stream",
     "text": [
      "['inacri', 'piatra de joc', '- ce-o mai fi si asta?', 'cunoscut', 'ruga', 'buiestru', 'drum ', 'la dreapta', 'implini 40 de zile', 'rindea', 'clarinet', 'aschie', 'spori', 'burlan', 'greutate stomacala', 'obiect']\n"
     ]
    },
    {
     "name": "stderr",
     "output_type": "stream",
     "text": [
      " 43%|████▎     | 81/188 [04:35<01:20,  1.33it/s]"
     ]
    },
    {
     "name": "stdout",
     "output_type": "stream",
     "text": [
      "['batatorul la razboiul de tesut', 'smulge', 'caldarusa', 'trestie', 'contemplatie', 'coada soricelului - planta', 'ciudat', 'oala fara toarte', 'tur', 'la cer', 'gluma, in', 'rogoz', 'aduna', 'turcesc', 'turbulent', 'injosi']\n"
     ]
    },
    {
     "name": "stderr",
     "output_type": "stream",
     "text": [
      " 44%|████▎     | 82/188 [04:37<02:01,  1.15s/it]"
     ]
    },
    {
     "name": "stdout",
     "output_type": "stream",
     "text": [
      "['constrans', 'toarta', 'vames', 'prisosi', 'suparare', 'ulcior', 'panglica', 'indrepta', 'ziua', 'vinde', 'incaltaminte', 'perceptor', 'calugaras', 'pamant, in', 'tesatura din lana', 'primi']\n"
     ]
    },
    {
     "name": "stderr",
     "output_type": "stream",
     "text": [
      " 44%|████▍     | 83/188 [04:37<01:39,  1.05it/s]"
     ]
    },
    {
     "name": "stdout",
     "output_type": "stream",
     "text": [
      "['inechitate', 'necunoscut', 'Tasni vulturul ca din pusca inspre nori, si de acolo - privi roata, pana departe.', 'trahana', 'sort ', 'total', 'placere', 'minge', 'din', 'paianjen', 'culcus', 'intampla, v - caz fericit', 'cleste de cizmar', 'regreta', 'fraga', 'totdeauna']\n"
     ]
    },
    {
     "name": "stderr",
     "output_type": "stream",
     "text": [
      " 45%|████▍     | 84/188 [04:38<01:43,  1.00it/s]"
     ]
    },
    {
     "name": "stdout",
     "output_type": "stream",
     "text": [
      "['ieftinatate', 'infiora v', 'raie', 'cinteza', 'nerod', 'sarbesc', 'zbarnaitoare - sfarleaza', 'gradinita', 'carnat, fel de', 'sclav a deveni', 'negricios la fata', 'vui', 'inghimpare', 'binecuvantare', 'apuca', 'denie']\n"
     ]
    },
    {
     "name": "stderr",
     "output_type": "stream",
     "text": [
      " 45%|████▌     | 85/188 [04:39<01:26,  1.19it/s]"
     ]
    },
    {
     "name": "stdout",
     "output_type": "stream",
     "text": [
      "['prescura - paine binecuvantata', 'francmason', 'lacomie', 'susan', 'muci', 'scrobi', 'donita - galeata de lemn', 'zulufi', 'BOB-NAUT', '- Pentru bunatatea ta, ia firul asta de par si, cand ti-o fi greu, aprinde-l. Iti vin in ajutor, oriunde m-oi afla!', 'imagina  ', 'moneda de aur - galben - banut', 'imbecil', 'elastic', 'aduce aproape integral', 'privighetoare']\n"
     ]
    },
    {
     "name": "stderr",
     "output_type": "stream",
     "text": [
      " 46%|████▌     | 86/188 [04:41<01:58,  1.17s/it]"
     ]
    },
    {
     "name": "stdout",
     "output_type": "stream",
     "text": [
      "['cofa', 'suparat', 'scoate matele', 'brusc', 'Acest imparat era tanar, si afland el de istetimea fetei mosului, o ceru de nevasta.', 'spanzura', 'sef', 'puternic', 'termina', 'program', 'sentinta', 'ceas', 'repede', 'potoli foamea sau setea', 'dormi ', 'razbi']\n"
     ]
    },
    {
     "name": "stderr",
     "output_type": "stream",
     "text": [
      " 46%|████▋     | 87/188 [04:42<01:58,  1.18s/it]"
     ]
    },
    {
     "name": "stdout",
     "output_type": "stream",
     "text": [
      "['gangavi', 'chel', 'cosulet', 'boci', 'spera', 'rac de mare, langusta', 'rindea', 'blestema', 'viscolire', 'ghicitoare', 'cinsti', 'uscacios', 'obiect', 'uratenie', 'pieptene rar', 'nora']\n"
     ]
    },
    {
     "name": "stderr",
     "output_type": "stream",
     "text": [
      " 47%|████▋     | 88/188 [04:43<01:36,  1.04it/s]"
     ]
    },
    {
     "name": "stdout",
     "output_type": "stream",
     "text": [
      "['pustiu', 'naframa', 'camaderie', 'nefericit', 'dura', 'copilas', 'neam', '- De unde, cumatra, de unde, Mara, o asa pleasca?', 'crevasa', 'intelegere', 'conta ', 'copil ', 'remediu', 'putin', 'scapa', 'cu']\n"
     ]
    },
    {
     "name": "stderr",
     "output_type": "stream",
     "text": [
      " 47%|████▋     | 89/188 [04:43<01:31,  1.08it/s]"
     ]
    },
    {
     "name": "stdout",
     "output_type": "stream",
     "text": [
      "['pretui', 'Pleca vizirul, cu capul in jos de parca i se inecasera corabiile; numai ce nu plangea de necazul ce dase peste el.', 'A fost odata o biata femeie, saraca de tot, care avea trei feciori.', 'fiere', 'vers', 'Plangea, nefericita, de ti se rupea inima pentru dansa.', 'mobilare', 'gemeni', 'functie', 'hrana vegetala de post', 'nemernic ', 'desface caierele', 'ager', 'curat', 'scobi', 'depravare']\n"
     ]
    },
    {
     "name": "stderr",
     "output_type": "stream",
     "text": [
      " 48%|████▊     | 90/188 [04:45<01:52,  1.15s/it]"
     ]
    },
    {
     "name": "stdout",
     "output_type": "stream",
     "text": [
      "['amnar', 'feri', 'lin - peste', 'ud leoarca a fi', 'Iunie', 'valora', 'holeric', 'rudenie', 'datorie', 'difuzat', 'fudulie', 'trompeta', 'topai', 'raul railor', 'berbec juganit ', 'zgarcenie']\n"
     ]
    },
    {
     "name": "stderr",
     "output_type": "stream",
     "text": [
      " 48%|████▊     | 91/188 [04:45<01:31,  1.05it/s]"
     ]
    },
    {
     "name": "stdout",
     "output_type": "stream",
     "text": [
      "['tata', 'buza', 'poarca - joc', 'repezi', 'imbecil', 'gheara', 'despuia', '- Haide, ca va dau un aspru - numai n-o omorati, le zise el.', 'noutate', 'incercuit', 'menire', 'niste', 'ibric', 'lat', 'urlator', 'fraged']\n"
     ]
    },
    {
     "name": "stderr",
     "output_type": "stream",
     "text": [
      " 49%|████▉     | 92/188 [04:46<01:30,  1.06it/s]"
     ]
    },
    {
     "name": "stdout",
     "output_type": "stream",
     "text": [
      "['zarzavat', 'constipatie', 'disc ?', 'calma', 'strangula', 'mulge', 'pleca', 'padure', 'placea', 'domeniu', 'castig ', 'panza de matase', 'astepta', 'telegraf', 'aprins', 'mancare - fel de']\n"
     ]
    },
    {
     "name": "stderr",
     "output_type": "stream",
     "text": [
      " 49%|████▉     | 93/188 [04:47<01:18,  1.21it/s]"
     ]
    },
    {
     "name": "stdout",
     "output_type": "stream",
     "text": [
      "['amesteca de-a valma', 'sofa', 'barza', 'hot', 'varui', 'sfoara', 'Il prinsera si-l taiara.', 'dezmierdator', '- incepe toata lumea sa tipe - de n-a mai stiut lupul cum sa se faca nevazut de pe acolo.', 'rest', 'dus', 'centru', 'tibie', 'porumb', 'agerime', 'iures']\n"
     ]
    },
    {
     "name": "stderr",
     "output_type": "stream",
     "text": [
      " 50%|█████     | 94/188 [04:48<01:27,  1.08it/s]"
     ]
    },
    {
     "name": "stdout",
     "output_type": "stream",
     "text": [
      "['arbust spinos', 'pisica', 'maturare', 'grindina', 'pietricea la jocul copiilor ', 'pierdere', '- Ia ciuleste tu urechea bine si vezi - ce-i cu Inghite-drumuri!', 'baietandru', 'impiedica', 'otravitor', 'nemernic', 'diavol', '- Sa dati, zise el, piatra de sub limba!', 'da', 'suferinta', 'starui']\n"
     ]
    },
    {
     "name": "stderr",
     "output_type": "stream",
     "text": [
      " 51%|█████     | 95/188 [04:49<01:27,  1.07it/s]"
     ]
    },
    {
     "name": "stdout",
     "output_type": "stream",
     "text": [
      "['inceta ', 'buturuga scorburoasa', 'lautar', 'turn', 'sabie', 'banuiala', 'mutenie', 'tendon', 'saraceste - ca saracul', 'suspinare', 'pantalon', 'simti', 'mai', 'belitura', 'vis-a-vis', 'succesor']\n"
     ]
    },
    {
     "name": "stderr",
     "output_type": "stream",
     "text": [
      " 51%|█████     | 96/188 [04:49<01:10,  1.30it/s]"
     ]
    },
    {
     "name": "stdout",
     "output_type": "stream",
     "text": [
      "['epuiza', 'tovaras ', 'batjocura', 'oglindi', 'A fost odata un om sarac lipit.', 'aluneca', 'hambar, a pune in...', 'colacar - duce colacul de nunta', 'vestitor public', 'impulsionare', 'pornire', 'deajuns', 'I-l lua, dar si-a prins beleaua cu cocosul, ca asta nu s-a lasat pagubas.', 'salcam', 'fierul lat de la plug - brazdar', 'cumineca']\n"
     ]
    },
    {
     "name": "stderr",
     "output_type": "stream",
     "text": [
      " 52%|█████▏    | 97/188 [04:51<01:19,  1.14it/s]"
     ]
    },
    {
     "name": "stdout",
     "output_type": "stream",
     "text": [
      "['primitor ', 'zapada', 'pom fructifer', 'fereastra', 'dintr-o data', 'mura', 'socoteala', 'proaspat', 'El si femeia lui, ca era insurat, aveau un fecior.', 'ofensa', 'alunga', 'iures', 'cosciug', 'insanatosi', 'spate', 'cercetat']\n"
     ]
    },
    {
     "name": "stderr",
     "output_type": "stream",
     "text": [
      " 52%|█████▏    | 98/188 [04:51<01:16,  1.18it/s]"
     ]
    },
    {
     "name": "stdout",
     "output_type": "stream",
     "text": [
      "['tuica', 'familie', 'semn distinctiv', 'vartute - putere', 'raspunde', 'scaldare', 'plosca', 'sange', 'abis', 'Cum il invatase baba, asa facu: il alinta pe caine cu frumosule, istetule, il dadu jos de pe comoara, si se incarca de parale de arama.', 'idol', 'sturz', 'vipera ', 'umar, pe', 'bici', 'reaminti']\n"
     ]
    },
    {
     "name": "stderr",
     "output_type": "stream",
     "text": [
      " 53%|█████▎    | 99/188 [04:55<02:16,  1.53s/it]"
     ]
    },
    {
     "name": "stdout",
     "output_type": "stream",
     "text": [
      "['in stare', 'om', 'alcatui', 'suci', 'numai', 'banca', 'fata', 'curaj ', 'stofa ', 'decoratie', 'caprioara', 'baza, a se', 'impaturi', 'durere de cap', 'chibrit ', 'Si-a umblat el, a tot umblat, sa afle pe cineva sa-l sfatuie s-o scoata la cap in vreun fel.']\n"
     ]
    },
    {
     "name": "stderr",
     "output_type": "stream",
     "text": [
      " 53%|█████▎    | 100/188 [04:56<02:07,  1.45s/it]"
     ]
    },
    {
     "name": "stdout",
     "output_type": "stream",
     "text": [
      "['farmece', 'Si, apropiindu-se, apropiindu-se, ii navali mirozna placintei pe nari, iar omul nu pierdu vremea, si-o aseza dinainte - si da-i, si arde-i - mai intai foaia de deasupra, apoi urzicile cu oua, branza si lapte din ea, apoi si marginile, si foaia de jos - nimic n-a lasat, nici farama faramita.', 'piata publica', 'imbracare ', 'fermecat', 'Cum se vazu intre iepe, a si inceput, pe limba lui:', 'decat', 'dril - tesatura', 'descrie', 'reazem', 'gospodar', 'organiza', 'hrani', 'mijlocul toamnei', 'stafida', 'hrani, cel ce']\n"
     ]
    },
    {
     "name": "stderr",
     "output_type": "stream",
     "text": [
      " 54%|█████▎    | 101/188 [05:17<10:53,  7.51s/it]"
     ]
    },
    {
     "name": "stdout",
     "output_type": "stream",
     "text": [
      "['scartaitor', 'degeaba', 'istovit', 'Farserot - porecla', 'incepe', 'fuduli', 'turna', 'vraja', 'urni', 'strugure basicat', 'groaza', 'apa clocotita', 'oriental', 'soma', 'sterpeli', 'elibera']\n"
     ]
    },
    {
     "name": "stderr",
     "output_type": "stream",
     "text": [
      " 54%|█████▍    | 102/188 [05:18<07:43,  5.40s/it]"
     ]
    },
    {
     "name": "stdout",
     "output_type": "stream",
     "text": [
      "['desigur', 'cep', 'nelinistea singuratatii', 'tot, de', 'tarc mic', 'cioara', 'aminti', 'faget', 'neglija', 'binecuvantare', 'ciorap', 'soricel', 'vechi', 'tumoare', 'rautate', 'D-aia, de-acu, ai voie - de la mine, sa vii pe-aici oricand iti doreste inima.']\n"
     ]
    },
    {
     "name": "stderr",
     "output_type": "stream",
     "text": [
      " 55%|█████▍    | 103/188 [05:19<05:51,  4.13s/it]"
     ]
    },
    {
     "name": "stdout",
     "output_type": "stream",
     "text": [
      "['pivnita', 'prajina', 'insira', 'anticrist', 'plosnita', 'neted', 'delicvent', 'marire', 'streche - insecta ce omoara animalele', 'Atunci, ce le veni lor, au inceput sa se roage mai sucit, asa: Doamne, da-ne si noua un prunc, si - n-are decat sa fie cat un bob de naut!', 'alinia', 'orbire', 'sopti', 'limpede', 'goni', 'asterne la...']\n"
     ]
    },
    {
     "name": "stderr",
     "output_type": "stream",
     "text": [
      " 55%|█████▌    | 104/188 [05:22<05:07,  3.66s/it]"
     ]
    },
    {
     "name": "stdout",
     "output_type": "stream",
     "text": [
      "['caval', 'mamitica', 'recompensa', 'edificiu', 'mitui ', 'tropot', 'Atunci, omul legii il chema pe bogatan si-i zise:', 'urs', 'umfla', 'Pai, aia se duse dupa dinti si - acu se-ntoarce, sa te faca praf!', 'rourat', 'taratura', 'subtia', 'spatos', 'testament', 'galon']\n"
     ]
    },
    {
     "name": "stderr",
     "output_type": "stream",
     "text": [
      " 56%|█████▌    | 105/188 [05:28<06:04,  4.39s/it]"
     ]
    },
    {
     "name": "stdout",
     "output_type": "stream",
     "text": [
      "['Se aseza pe prispa si se gandi daca sa urce, sau sa nu mai urce sus.', 'aripa', 'amesteca', 'minciunare', 'desgustator', 'scorpion ?', 'gugustiuc', 'organiza', 'confunda', 'invelitor pt urzeala', 'rugator, care se roaga', 'dulap', 'vara', 'consultare', 'iedera', 'muscheta']\n"
     ]
    },
    {
     "name": "stderr",
     "output_type": "stream",
     "text": [
      " 56%|█████▋    | 106/188 [05:31<05:20,  3.90s/it]"
     ]
    },
    {
     "name": "stdout",
     "output_type": "stream",
     "text": [
      "['pret, taxa maximal impus', 'sperare', 'dala de piatra mica', 'ora', 'inginer', 'guler', 'innourare', 'inteles', 'idolatrie', 'copita, lovitura de', 'jale', 'bagheta', 'leoarca', 'primar ', 'cocosel', 'scriptura']\n"
     ]
    },
    {
     "name": "stderr",
     "output_type": "stream",
     "text": [
      " 57%|█████▋    | 107/188 [05:31<03:54,  2.89s/it]"
     ]
    },
    {
     "name": "stdout",
     "output_type": "stream",
     "text": [
      "['ciupit de varsat', 'tulbure', 'fute ', 'mascara', 'repede', 'caldut', 'ulcior', 'voal', 'certaret', 'demara', 'sfarcul urechii', 'tufis', 'pacla', 'sacaitor', 'padure', 'ameteala']\n"
     ]
    },
    {
     "name": "stderr",
     "output_type": "stream",
     "text": [
      " 57%|█████▋    | 108/188 [05:32<02:54,  2.18s/it]"
     ]
    },
    {
     "name": "stdout",
     "output_type": "stream",
     "text": [
      "['Mai incolo nitel, dadu peste alti copii, care prinsesera un sarpe si vroiau sa-l omoare.', 'stofa', 'turti', 'gresi ', 'fulg', 'lauzie', 'biet', 'trandafiriu', 'Saracacean', 'pomana', 'doctorie', 'tempera', 'virgina', 'sticluta', 'malai', 'hambar']\n"
     ]
    },
    {
     "name": "stderr",
     "output_type": "stream",
     "text": [
      " 58%|█████▊    | 109/188 [05:35<03:12,  2.43s/it]"
     ]
    },
    {
     "name": "stdout",
     "output_type": "stream",
     "text": [
      "['strunga mica', 'gluma', 'nici', 'bisericesc', 'figura', 'afla', 'cositor, de', 'incepe', 'dans, figura de  - joc pe vine la ceamcu', 'stiulete', 'mandri', 'creste', 'voinic', 'somn - peste', 'talharie', 'intoarce']\n"
     ]
    },
    {
     "name": "stderr",
     "output_type": "stream",
     "text": [
      " 59%|█████▊    | 110/188 [05:35<02:21,  1.82s/it]"
     ]
    },
    {
     "name": "stdout",
     "output_type": "stream",
     "text": [
      "['baier', 'culoare', 'corabie', 'galeata', 'doctorita', 'nunta', 'ison', 'abia', 'maciuca', 'vames', 'caramiziu', 'deplasa', 'caprior - grinda', 'strecuratoare din lana', 'somnoros', 'pierit']\n"
     ]
    },
    {
     "name": "stderr",
     "output_type": "stream",
     "text": [
      " 59%|█████▉    | 111/188 [05:36<01:51,  1.45s/it]"
     ]
    },
    {
     "name": "stdout",
     "output_type": "stream",
     "text": [
      "['dupa', 'lejer', 'artagos', 'fus', 'castrat', 'salep, vanzator de', 'aripa', 'sarman', 'buimaci', 'napusti', 'dulap -in zidul casei', 'compatimi', 'stofa sau panza', 'vanatoare', 'disensiune', 'raspantie']\n"
     ]
    },
    {
     "name": "stderr",
     "output_type": "stream",
     "text": [
      " 60%|█████▉    | 112/188 [05:36<01:27,  1.15s/it]"
     ]
    },
    {
     "name": "stdout",
     "output_type": "stream",
     "text": [
      "['fata, pe', 'merisor', 'cand', 'butoi', 'sfarli la prajire', 'ramura de brad, pin', 'subtiliza', 'orz', 'sueratura de vapor', 'spaima', 'poarca - joc copilaresc', 'sta', 'sofran', 'randui', 'pastila', 'ghiaur - peiorativ, nemusulman']\n"
     ]
    },
    {
     "name": "stderr",
     "output_type": "stream",
     "text": [
      " 60%|██████    | 113/188 [05:37<01:12,  1.03it/s]"
     ]
    },
    {
     "name": "stdout",
     "output_type": "stream",
     "text": [
      "['termina', 'cotlon', 'lant', 'furca', 'libertin ', 'sufoca', 'urduros a deveni', 'dificil', 'basma  ', '- Prea bine!', 'oftica', 'fin - de calitate', 'rascruce de 3 drumuri', 'ostenire', 'Pe la chindie, mai racorindu-se nitel, s-au luat iar de arat. Bob-Naut, nici una, nici doua: sa are si el! Nu puisor, ca esti mic!, ii zise tata-sau, - dar el: Ba da!, vreau sa ar si eu!', 'dureros']\n"
     ]
    },
    {
     "name": "stderr",
     "output_type": "stream",
     "text": [
      " 61%|██████    | 114/188 [05:45<03:52,  3.14s/it]"
     ]
    },
    {
     "name": "stdout",
     "output_type": "stream",
     "text": [
      "['strigoaica', 'palma', 'nu', 'tocmi', 'gugustiuc', 'acolo', 'cel putin', 'carare in par', 'pagubi', 'foarfece', 'Mai!', 'instrainat', 'trece prin gand', 'prostut', 'carcotas', 'zburdalnici']\n"
     ]
    },
    {
     "name": "stderr",
     "output_type": "stream",
     "text": [
      " 61%|██████    | 115/188 [05:45<02:53,  2.38s/it]"
     ]
    },
    {
     "name": "stdout",
     "output_type": "stream",
     "text": [
      "['necaz', 'sterge', 'alerga', 'Femeia cea sarmana iesi in poarta si-l chema:', 'imprejur', 'prostanac', 'paduros', 'paine buna', 'caldaruse', 'nutri', 'valet - la carti', 'cotoi', 'saracie', 'fraged', 'odihni', 'torent']\n"
     ]
    },
    {
     "name": "stderr",
     "output_type": "stream",
     "text": [
      " 62%|██████▏   | 116/188 [05:46<02:18,  1.93s/it]"
     ]
    },
    {
     "name": "stdout",
     "output_type": "stream",
     "text": [
      "['putreziciune', 'grasuliu', 'maruntisuri', 'imediat', 'Pasarea se tot lasa mai jos, pe-o creanga, pan ce vulpea, cu tertipurile ei, odata tasni si o inhata:', 'carlig de impletit', 'uscare', 'randunica', 'mazare', 'amurg', 'copilas baiat', 'bolnav', 'masa joasa cu 3 picioare', 'prim', 'artar', 'centaur']\n"
     ]
    },
    {
     "name": "stderr",
     "output_type": "stream",
     "text": [
      " 62%|██████▏   | 117/188 [05:47<02:02,  1.73s/it]"
     ]
    },
    {
     "name": "stdout",
     "output_type": "stream",
     "text": [
      "['om fara rudenie', 'laolalta', 'barbier', 'fiere', 'Asta a zis, si i-l si lua.', 'a doua oara', 'cate', 'nonsalant', 'comun', 'drac', 'gelozie', 'bravo', 'transa', 'posibil', 'negricios la fata', 'simplu']\n"
     ]
    },
    {
     "name": "stderr",
     "output_type": "stream",
     "text": [
      " 63%|██████▎   | 118/188 [05:49<01:48,  1.55s/it]"
     ]
    },
    {
     "name": "stdout",
     "output_type": "stream",
     "text": [
      "['ravasi ', 'scurta', 'amar', 'usor', 'babesc', 'ghimpe', 'barza', 'ordona', 'coliva', 'starpitura', 'an', 'ranza', 'las', 'sortiment', 'iubi', 'asemana']\n"
     ]
    },
    {
     "name": "stderr",
     "output_type": "stream",
     "text": [
      " 63%|██████▎   | 119/188 [05:50<01:34,  1.37s/it]"
     ]
    },
    {
     "name": "stdout",
     "output_type": "stream",
     "text": [
      "['minte ', 'da un ban cuiva', 'Traia, prin partea locului, un imparat.', 'gravida', 'narcisa - floare', 'coplesi', 'sarpe', 'inalta', 'deveni', 'scorpion', 'butoi', 'rezema', 'lauda', 'hotar', 'independent', 'vas adanc de arama sau fonta pt mancare']\n"
     ]
    },
    {
     "name": "stderr",
     "output_type": "stream",
     "text": [
      " 64%|██████▍   | 120/188 [05:50<01:18,  1.16s/it]"
     ]
    },
    {
     "name": "stdout",
     "output_type": "stream",
     "text": [
      "['neinfrant', 'asa', 'verisoara mai mare', 'toamna  buna', 'poposi', 'curge', 'intrista', 'caracter', 'dumicare', 'dansa', 'Abia atunci isi dadu seama de prostia ce-o facuse: sa-i dea el lupului tocmai berbecul de frunte!', 'margaritar', 'ceas', 'toamna', 'carne de porc prajita', 'ciment']\n"
     ]
    },
    {
     "name": "stderr",
     "output_type": "stream",
     "text": [
      " 64%|██████▍   | 121/188 [05:51<01:17,  1.15s/it]"
     ]
    },
    {
     "name": "stdout",
     "output_type": "stream",
     "text": [
      "['incalci', 'hraparet', 'gresit', 'generozitate', 'colacel', 'salba', 'distruge', 'pacuraresc', 'Si asa, a ramas craia fara crai.', 'atunci', 'uratsi', 'scutec', 'ajunge ', 'tifla , a da cu - v', 'darama', 'matanii cu 24 piese']\n"
     ]
    },
    {
     "name": "stderr",
     "output_type": "stream",
     "text": [
      " 65%|██████▍   | 122/188 [05:52<01:07,  1.02s/it]"
     ]
    },
    {
     "name": "stdout",
     "output_type": "stream",
     "text": [
      "['nevastuica', 'sfoara de sfarleaza', 'pardesiu', 'concediat', 'negricios ', 'fasole', 'vedere', 'geros', 'oime - multe oi', 'mosmol - arbust', 'diavol', 'nedreptate', 'tinerete', 'medicament', 'lasa de , a se, v - ', 'dispare la orizont']\n"
     ]
    },
    {
     "name": "stderr",
     "output_type": "stream",
     "text": [
      " 65%|██████▌   | 123/188 [05:53<00:56,  1.15it/s]"
     ]
    },
    {
     "name": "stdout",
     "output_type": "stream",
     "text": [
      "['- In clipa asta sa ma pomenesc la harap, dincolo de Mare!', 'fierar', 'vorba', 'saruta', 'cununare', 'infrigurare', 'repauza', 'sarpe', 'vizita miresei, prima dupa nunta, la mama ei', 'astepta', '- Frumos nume! Sa-ti traiasca! - mai grai lupul.', 'convenire', 'suliman - fard', 'Fara sa mai intrebe usierul, a intrat in odaia unde manca imparatul si s-a asezat la masa.', 'lipitoare', 'piedica']\n"
     ]
    },
    {
     "name": "stderr",
     "output_type": "stream",
     "text": [
      " 66%|██████▌   | 124/188 [05:54<00:59,  1.08it/s]"
     ]
    },
    {
     "name": "stdout",
     "output_type": "stream",
     "text": [
      "['inrautatire', 'usurat ', 'lingura pieptului', 'trece prin gand', 'inconjura', 'despecetlui', 'craita - floare', 'sari', 'capatana', 'fluture metalic', 'brat lateral la razboiul de tesut', 'prost', 'curar - parte a hamului', 'linie', 'Feciorul insa nu era dintre cei ce se-ntorc cu tolba goala de la vanatoare.', 'batran']\n"
     ]
    },
    {
     "name": "stderr",
     "output_type": "stream",
     "text": [
      " 66%|██████▋   | 125/188 [05:55<01:00,  1.05it/s]"
     ]
    },
    {
     "name": "stdout",
     "output_type": "stream",
     "text": [
      "['imbuna', 'incet', 'sigur', 'restaurant', 'furios', 'buric', 'sterpet', 'fruntas', 'dafin', 'fierul lung al plugului', 'dincolo de', 'barbieri', '?', 'rochie', 'catun', 'rotunjire']\n"
     ]
    },
    {
     "name": "stderr",
     "output_type": "stream",
     "text": [
      " 67%|██████▋   | 126/188 [05:55<00:49,  1.25it/s]"
     ]
    },
    {
     "name": "stdout",
     "output_type": "stream",
     "text": [
      "['prunc', 'grup', 'pranzi', 'sora', 'pipernicit', 'bautura racoritoare', 'pepene', 'pomana', 'ardezie', 'grijuliu', 'cantari', 'hanger', 'jucator', 'aspect', 'lauzie', 'Dar ii sfatui sa dea mai repede mia de franci, ca altfel ma razgandesc si cer mai mult!']\n"
     ]
    },
    {
     "name": "stderr",
     "output_type": "stream",
     "text": [
      " 68%|██████▊   | 127/188 [05:56<00:55,  1.09it/s]"
     ]
    },
    {
     "name": "stdout",
     "output_type": "stream",
     "text": [
      "['prasila, de', 'sminti', 'cuteza', 'colier mic', 'munte, de', 'lasat de sec de carne', 'aripa', 'sta in culcus', 'maica', 'scrasni', 'celalalt', 'cotofana', 'intetit', 'de prisos', 'chinga', 'pisca']\n"
     ]
    },
    {
     "name": "stderr",
     "output_type": "stream",
     "text": [
      " 68%|██████▊   | 128/188 [05:57<00:45,  1.32it/s]"
     ]
    },
    {
     "name": "stdout",
     "output_type": "stream",
     "text": [
      "['satuc', 'potarniche', 'nervos', 'pandi', 'Nici vorba!', 'lugubru', 'laudarosenie', 'deget', 'stangaci', 'scripete', 'mila a i se face', 'spaima', 'mai striga o data baiatul la fiare - care o facura farame-faramitele, de nu mai ramase nimic din ea.', 'inveninare', 'gospodar', 'treisprezece']\n"
     ]
    },
    {
     "name": "stderr",
     "output_type": "stream",
     "text": [
      " 69%|██████▊   | 129/188 [05:58<00:55,  1.06it/s]"
     ]
    },
    {
     "name": "stdout",
     "output_type": "stream",
     "text": [
      "['surpa', 'menstruatie', 'teava de izvor', 'innebuni', 'port - costum', 'prezentabil', 'laba piciorului', 'coafura', 'pod de casa', 'par de capra', 'al nostru', 'astepta', 'comandant', 'plin  ', 'nouasprezece', 'Cand mai avea putin pana sa ajunga la ai sai, zari niste copii care legasera un caine undeva si se pusesera cu bataia pe el, sa-l omoare.']\n"
     ]
    },
    {
     "name": "stderr",
     "output_type": "stream",
     "text": [
      " 69%|██████▉   | 130/188 [06:01<01:25,  1.47s/it]"
     ]
    },
    {
     "name": "stdout",
     "output_type": "stream",
     "text": [
      "['decizie', 'piatra de ascutit', 'chiparos', 'pocai', 'foame', 'uita, se', 'altreilea', 'comerciant', 'calau', 'doliu', 'logofat', 'gara', 'sasiu - privire', 'mila', 'zari, a se', 'interes']\n"
     ]
    },
    {
     "name": "stderr",
     "output_type": "stream",
     "text": [
      " 70%|██████▉   | 131/188 [06:02<01:13,  1.29s/it]"
     ]
    },
    {
     "name": "stdout",
     "output_type": "stream",
     "text": [
      "['imediat', 'greata', 'ne-inceput', 'corcodus', 'garbovi', 'cenusar - care strange cenusa', 'da peste ceva rau', 'distruge ', 'scuipat', 'barca', 'arcan (cu)', 'surub', 'din alte timpuri', 'cu toate acestea', 'magiun', 'insira']\n"
     ]
    },
    {
     "name": "stderr",
     "output_type": "stream",
     "text": [
      " 70%|███████   | 132/188 [06:02<00:57,  1.03s/it]"
     ]
    },
    {
     "name": "stdout",
     "output_type": "stream",
     "text": [
      "['mandrie', 'rata', 'spinteca', 'pojar', 'piersic', 'par  - de pe cap', 'clipa', 'tocmai ', 'sufoca', 'aversiune', 'potrivi ', 'apuca', 'termina', 'frasin', 'hotie', 'invidios']\n"
     ]
    },
    {
     "name": "stderr",
     "output_type": "stream",
     "text": [
      " 71%|███████   | 133/188 [06:03<00:50,  1.08it/s]"
     ]
    },
    {
     "name": "stdout",
     "output_type": "stream",
     "text": [
      "['ruga', 'imbucatatire', 'doar', 'galbinicios', 'scos', 'gramada', 'corb', 'pieptene mic', 'zbura', 'junghi', 'simti', 'malaiet', 'garderoba in perete', 'macel', 'descoperi', 'sfarsit']\n"
     ]
    },
    {
     "name": "stderr",
     "output_type": "stream",
     "text": [
      " 71%|███████▏  | 134/188 [06:03<00:41,  1.29it/s]"
     ]
    },
    {
     "name": "stdout",
     "output_type": "stream",
     "text": [
      "['pepene galben', 'izbucni', 'salutare', 'seama, a lua in', 'zadarnici', 'iti', 'lingura de lemn', 'abject', 'calfa', 'agerime', 'chiar daca', 'frate de cruce', 'copilaresc', 'compot - specie de', 'jartiera', 'necaz']\n"
     ]
    },
    {
     "name": "stderr",
     "output_type": "stream",
     "text": [
      " 72%|███████▏  | 135/188 [06:04<00:35,  1.50it/s]"
     ]
    },
    {
     "name": "stdout",
     "output_type": "stream",
     "text": [
      "['curaj', 'incingere', 'altar', 'Cand le veni timpul sa plece in lume, tot impreuna plecara.', 'sofa fixa', 'canal', 'l-a intrebat el pe Bob-Naut.', 'anuntator la licitatie', 'hotel', 'orb', 'opiu', 'rupe', 'cutiuta', 'flacara', 'zbor', 'mugi']\n"
     ]
    },
    {
     "name": "stderr",
     "output_type": "stream",
     "text": [
      " 72%|███████▏  | 136/188 [06:05<00:39,  1.31it/s]"
     ]
    },
    {
     "name": "stdout",
     "output_type": "stream",
     "text": [
      "['infasa', 'sparge', 'ingrosa', 'derizoriu', 'fir de ata rasucit', 'insanatosire', 'sacai', 'closca', 'rezema', 'nu cumva', 'talpa la razboi', 'apare ', 'opritor', 'promt', 'piedica', 'manta cu capison']\n"
     ]
    },
    {
     "name": "stderr",
     "output_type": "stream",
     "text": [
      " 73%|███████▎  | 137/188 [06:05<00:33,  1.54it/s]"
     ]
    },
    {
     "name": "stdout",
     "output_type": "stream",
     "text": [
      "['nazuri', 'iubire', 'rau foarte', 'gramada', 'celibatariat', 'soldat turc', 'interes', 'neincetare', 'descrestere', 'batrane multe', 'logodi', 'avaritie', 'sau', 'penis', 'sfredelit', 'brici']\n"
     ]
    },
    {
     "name": "stderr",
     "output_type": "stream",
     "text": [
      " 73%|███████▎  | 138/188 [06:05<00:29,  1.67it/s]"
     ]
    },
    {
     "name": "stdout",
     "output_type": "stream",
     "text": [
      "['insela', 'decide', 'nefericit', 'receptiona', 'indiferent, a fi', 'avere', 'binecuvanta', 'taciune', 'irascibil', 'matura', 'desi', 'la mijloc', 'cuart', 'surghiunui', 'fermier', 'pricopseala']\n"
     ]
    },
    {
     "name": "stderr",
     "output_type": "stream",
     "text": [
      " 74%|███████▍  | 139/188 [06:06<00:27,  1.81it/s]"
     ]
    },
    {
     "name": "stdout",
     "output_type": "stream",
     "text": [
      "['mura - planta', 'orz', 'ghinion', 'incalzi la soare', 'Se duse asta, sta el la panda pana in miez de noapte - nimic.', 'mester sef', 'pieire ', 'eternitate', 'suprima', 'mobila', 'agale', 'bucura', 'vazduh', 'viclean, vicleana', 'placinta de lapte', 'pana']\n"
     ]
    },
    {
     "name": "stderr",
     "output_type": "stream",
     "text": [
      " 74%|███████▍  | 140/188 [06:08<00:46,  1.04it/s]"
     ]
    },
    {
     "name": "stdout",
     "output_type": "stream",
     "text": [
      "['pesmet', 'dormi', 'sticla de 2,5 l', 'stire rea', 'gandi', 'brun', 'zisifa - fructul zisifului', 'dans ', 'susoti', 'renume ', 'blond', 'nimic ca zgomot', 'bereta', 'incet', 'manz de doi ani', 'repezi, a se']\n"
     ]
    },
    {
     "name": "stderr",
     "output_type": "stream",
     "text": [
      " 75%|███████▌  | 141/188 [06:08<00:36,  1.27it/s]"
     ]
    },
    {
     "name": "stdout",
     "output_type": "stream",
     "text": [
      "['musafir, primire de', 'egal', 'Unde-a fi de gasit nasul?', 'escoriatie', 'pete rosii, cu', 'raschitor', 'capata', 'certaret', 'urmator', 'ceafa', '- Are dreptate Cotta, tatica, se vara si Culaie in vorba.', 'sulfura', 'intrucat', 'Iesind la vanat, dar, dau peste o oala cu miere.', 'avant', 'crede']\n"
     ]
    },
    {
     "name": "stderr",
     "output_type": "stream",
     "text": [
      " 76%|███████▌  | 142/188 [06:09<00:36,  1.25it/s]"
     ]
    },
    {
     "name": "stdout",
     "output_type": "stream",
     "text": [
      "['goni', 'anume', 'cui', 'prabusi', 'constrange', 'padure deasa de copaci tineri', 'dudruliu', 'iaurt', 'obraznicie', 'casa', 'lama', 'ars ', 'fanfaron', 'cioara', 'consiliu', 'Fac intotdeauna treaba buna!']\n"
     ]
    },
    {
     "name": "stderr",
     "output_type": "stream",
     "text": [
      " 76%|███████▌  | 143/188 [06:10<00:31,  1.41it/s]"
     ]
    },
    {
     "name": "stdout",
     "output_type": "stream",
     "text": [
      "['pleda', 'intrista', 'ofticat', 'fregata', 'adoptie', 'huiduiala', 'plictisi', 'baclava', 'siret, sireata', 'lac', 'impartasanie', 'hoarda', 'cearta', 'intepa', 'farmece', 'copita']\n"
     ]
    },
    {
     "name": "stderr",
     "output_type": "stream",
     "text": [
      " 77%|███████▋  | 144/188 [06:10<00:27,  1.59it/s]"
     ]
    },
    {
     "name": "stdout",
     "output_type": "stream",
     "text": [
      "['reglementa', 'Aceasta imparateasa, de cate ori ii harazi Dumnezeu copii, numai fete a nascut.', 'strica aproape integral', 'darui', 'multumire', 'supara, v - din fiere', 'suveica', 'da baccis', 'de cacat', 'iepure', 'zabovi', 'paza', 'direct', 'minti ', 'imbraca', 'Se certau, ba chiar erau gata sa se sfasie intre ei, un vultur, o viespe si o furnica.']\n"
     ]
    },
    {
     "name": "stderr",
     "output_type": "stream",
     "text": [
      " 77%|███████▋  | 145/188 [06:11<00:34,  1.23it/s]"
     ]
    },
    {
     "name": "stdout",
     "output_type": "stream",
     "text": [
      "['poticni', 'regret', 'raia', 'supraveghea', 'fluieras', 'asculta ', 'Cu mana goala nu m-am intors si nici n-am sa ma intorc vreodata acasa.', 'toiag', 'nenorocire', 'conta pe ceva', 'turta de grau', 'fugari', 'para', 'dascal', 'timp', 'dracui']\n"
     ]
    },
    {
     "name": "stderr",
     "output_type": "stream",
     "text": [
      " 78%|███████▊  | 146/188 [06:12<00:36,  1.16it/s]"
     ]
    },
    {
     "name": "stdout",
     "output_type": "stream",
     "text": [
      "['distins', 'insenina ', 'intriga', 'cursa - capcana', '- Nu te supara, fata mea, dar oaspetele nostru nu e in toata firea. Asculta ce gugumanie ii mai iesi din gura: Frumoasa casa, dar are hornul stramb!, a zis. Si doar - mai drept decat hornul nostru ai mai vazut tu?', 'bulevard', 'vis', 'poposi', '- Ehei!... Daca-i asa, se cam schimba treaba...', 'calari', 'iatagan', 'reconcilia', 'suras', 'uger, crestere in uger', 'maxilar', 'mocirla']\n"
     ]
    },
    {
     "name": "stderr",
     "output_type": "stream",
     "text": [
      " 78%|███████▊  | 147/188 [06:20<01:57,  2.86s/it]"
     ]
    },
    {
     "name": "stdout",
     "output_type": "stream",
     "text": [
      "['nas', 'Vazandu-le, ii veni baiatului inima la loc, de zicea ca se intoarce la viata - el, care pana atunci era ca un mort neingropat.', 'privire salbatica', 'Lupul-lup, cum sa priceapa el ca aci nu-i lucru curat? Du-te!. Asa i-a zis.', 'fosfor', 'bucurie', 'atat, atata, atati, atatea', 'pistrui', 'naiba', 'cep', 'apuca', 'presupunere', 'desertifica', 'cuvant', 'termina', 'mina']\n"
     ]
    },
    {
     "name": "stderr",
     "output_type": "stream",
     "text": [
      " 79%|███████▊  | 148/188 [06:23<01:57,  2.94s/it]"
     ]
    },
    {
     "name": "stdout",
     "output_type": "stream",
     "text": [
      "['invalmasi', 'dori cu ardoare', 'asemana ', 'merisor', 'poleire ', 'scanci', 'cerc trasat pe pamant', 'dura', 'mas - loc de innoptat', 'asemenea', 'cuvertura', 'post de observatie', 'boci', 'casatori', 'destrabalat', 'incapatana, se']\n"
     ]
    },
    {
     "name": "stderr",
     "output_type": "stream",
     "text": [
      " 79%|███████▉  | 149/188 [06:23<01:25,  2.19s/it]"
     ]
    },
    {
     "name": "stdout",
     "output_type": "stream",
     "text": [
      "['pliu', 'jurat - care judeca', 'da drumul', 'dor', 'stejaris', 'imbufnat a fi', 'beneficia', 'buzat', 'viteaz', 'rasa calugareasca', 'manuta', 'intins', 'cobi ?', 'placere', 'extermina', 'lana de pe cap, coada, picioare']\n"
     ]
    },
    {
     "name": "stderr",
     "output_type": "stream",
     "text": [
      " 80%|███████▉  | 150/188 [06:24<01:03,  1.68s/it]"
     ]
    },
    {
     "name": "stdout",
     "output_type": "stream",
     "text": [
      "['insista', 'imobil', 'prim ministru', 'fierbe in clocot', 'zapacit', 'Cu gandul la ce-avea in cap, fata se prefacu proasta si, la poarta palatului, cand iesea si cand intra imparatul, zicea cantecul asta:', 'manzara - ', 'din fata', 'doar', 'nevoie', 'cadou', 'borangic', 'inflama ', 'tacere', 'gandi', 'incerca']\n"
     ]
    },
    {
     "name": "stderr",
     "output_type": "stream",
     "text": [
      " 80%|████████  | 151/188 [06:25<01:00,  1.64s/it]"
     ]
    },
    {
     "name": "stdout",
     "output_type": "stream",
     "text": [
      "['fes alb', 'tezauriza', 'intrezari', 'chinina', 'obstacol', 'deranjat', 'ponegri', 'destinat', 'sirag', 'locuitorii din josul localitatii', 'mereu', 'zel', 'bat', 'Dand ei in boala certurilor si nemaiputand trai impreuna, si-au pus in cap sa se desparta.', 'rula urzitura pe sul', 'intarzietor']\n"
     ]
    },
    {
     "name": "stderr",
     "output_type": "stream",
     "text": [
      " 81%|████████  | 152/188 [06:27<00:54,  1.52s/it]"
     ]
    },
    {
     "name": "stdout",
     "output_type": "stream",
     "text": [
      "['porni', 'putina', 'admira', 'incet', 'juca', 'insurgent', 'sfant', 'topai', 'inmulti', 'flamand', 'sopti', 'bebelus', 'rau', 'rau de tot, om', 'botez', '- si scoase punga, le dadu asprul, lua cainele si-si urma drumul spre casa.']\n"
     ]
    },
    {
     "name": "stderr",
     "output_type": "stream",
     "text": [
      " 81%|████████▏ | 153/188 [06:28<00:48,  1.38s/it]"
     ]
    },
    {
     "name": "stdout",
     "output_type": "stream",
     "text": [
      "['tufis', 'supravietui', 'catolic albanez', 'Ti-ai gasit insa, caine, sa-nteleaga!', 'broasca raioasa', 'Huooo, lupe!', 'varsta - de o varsta cu....', 'varfuit', 'jgheab', 'planta', 'lung pana la pamant- parul', 'jos', 'aspect', 'parli prea tare', 'jur imprejur', 'reflectiune']\n"
     ]
    },
    {
     "name": "stderr",
     "output_type": "stream",
     "text": [
      " 82%|████████▏ | 154/188 [06:28<00:38,  1.14s/it]"
     ]
    },
    {
     "name": "stdout",
     "output_type": "stream",
     "text": [
      "['moartea', 'baliga', 'pahar', 'pat', 'disparea', 'pipera', 'sista', 'padure de castani', 'obosi', 'punct vulnerabil', 'liniste a pastra', 'Vazand el asta, ca-n zadar trudeste atata, ce se gandi?', 'tomniu, de toamna', 'necesar a fi', 'ordona', 'unge']\n"
     ]
    },
    {
     "name": "stderr",
     "output_type": "stream",
     "text": [
      " 82%|████████▏ | 155/188 [06:29<00:35,  1.08s/it]"
     ]
    },
    {
     "name": "stdout",
     "output_type": "stream",
     "text": [
      "['croitoreasa', 'zloata', 'nefericit', 'vaduv', 'taxa de oierit', 'cocos de munte', 'carafa', 'paduchios', 'Chervangii - vad ei boii, vad ca se ara aici, dar nu-l zaresc pe plugar!', 'coace', 'oricare', 'puica', 'interveni', '- Acuma, cainii sa te manance acolo, nefericitule de tine, ii zise negustorul.', 'pregeta, v - pierde timp', 'sustine']\n"
     ]
    },
    {
     "name": "stderr",
     "output_type": "stream",
     "text": [
      " 83%|████████▎ | 156/188 [06:30<00:34,  1.07s/it]"
     ]
    },
    {
     "name": "stdout",
     "output_type": "stream",
     "text": [
      "['cataclism', 'glorie', 'oua', 'Ii spune ce-l doare: asa-si-asa ii cere lui, craiul: si, daca nu-l asculta, sa-i aduca Pasarea-maiastra, o sa-l spanzure!', 'surd', 'insorit loc', 'afurisi', 'denigra - v', 'gusta', 'antreu - de casa', 'argintar', 'convorbi', 'sustine', 'tasni', 'oblon de fereastra', 'hot sef']\n"
     ]
    },
    {
     "name": "stderr",
     "output_type": "stream",
     "text": [
      " 84%|████████▎ | 157/188 [06:33<00:49,  1.59s/it]"
     ]
    },
    {
     "name": "stdout",
     "output_type": "stream",
     "text": [
      "['bat mic', 'asternut', 'educa', 'taios', 'dupa', 'iubi', 'Il asteptasera - ca pe-o cireasa coapta, pe baiat.', 'lucru', 'fapta rea ', 'caverna', '- Hornul o fi el stramb, dar fumul urca drept!', 'numai', 'boala', 'Cum sta el, feciorul, intins pe spate, aude nu stiu ce larma mare.', 'lua la intrecere', 'arama']\n"
     ]
    },
    {
     "name": "stderr",
     "output_type": "stream",
     "text": [
      " 84%|████████▍ | 158/188 [06:34<00:42,  1.41s/it]"
     ]
    },
    {
     "name": "stdout",
     "output_type": "stream",
     "text": [
      "['invesmanta', 'parasi', 'caca', 'buimaci', 'naiv', 'faur', 'ardoare', 'sul a face', 'voal ?', 'nefericit', 'acord', 'zavor', 'gatit', 'Bietele salbaticiuni ale lui Dona, plangeau tot timpul dupa stapanul lor si nu se miscau de langa el.', 'magar', 'pastrav']\n"
     ]
    },
    {
     "name": "stderr",
     "output_type": "stream",
     "text": [
      " 85%|████████▍ | 159/188 [06:35<00:39,  1.35s/it]"
     ]
    },
    {
     "name": "stdout",
     "output_type": "stream",
     "text": [
      "['batran ', 'maciuca', 'ingheta', 'vartelnita', 'rapos', 'acru foarte', 'neferici', 'bade', 'porni inainte ', 'omoplat', 'visina', 'intemeia, a se', 'Armanu', 'fructe', 'reface - se', 'slabiciune']\n"
     ]
    },
    {
     "name": "stderr",
     "output_type": "stream",
     "text": [
      " 85%|████████▌ | 160/188 [06:36<00:29,  1.06s/it]"
     ]
    },
    {
     "name": "stdout",
     "output_type": "stream",
     "text": [
      "['gentil', 'agata', 'cauta  insistent', 'vitraj - perete din ochiuri de geam', 'deci', 'bine, cu', 'branduse', 'Din pustia de-nchisoare,', 'ploaie tare', 'cumetrie', 'zapaci', 'capitula', 'Mai trece, ce trece, si, vazand vizirul ca fata mosului cam schioapata, a zis, in timp ce palavragea cu batranul:', 'caverna', 'micsora', 'ratoit']\n"
     ]
    },
    {
     "name": "stderr",
     "output_type": "stream",
     "text": [
      " 86%|████████▌ | 161/188 [06:41<01:07,  2.50s/it]"
     ]
    },
    {
     "name": "stdout",
     "output_type": "stream",
     "text": [
      "['tura - monograma sultanului', 'corabie', 'intampla - caz fericit', 'mazare', 'de vreme ce', 'dezgustat a fi de ceva, cineva', 'sfiala', 'sarman', 'corabie', 'pala', 'Aprinde el pana de furnica acum, si - poftim - s-a si aratat mititica asta in fata lui!', 'asculta ', 'loc pt oile de muls', 'Diavol', 'conflict', 'cheltui ']\n"
     ]
    },
    {
     "name": "stderr",
     "output_type": "stream",
     "text": [
      " 86%|████████▌ | 162/188 [06:43<00:54,  2.09s/it]"
     ]
    },
    {
     "name": "stdout",
     "output_type": "stream",
     "text": [
      "['Tot satul a ramas cu gura cascata la minunea asta.', 'artagoasa', 'dori cuiva ceva bun', 'celalalt', 'insailare', 'convoca', 'snur de matase', 'frunte', 'noroc', 'provovator', 'reveni dupa efort, refl', 'purtare buna', 'indestula', 'arenda pe termen lung', 'slabiciune', 'prajitura rasfoiata']\n"
     ]
    },
    {
     "name": "stderr",
     "output_type": "stream",
     "text": [
      " 87%|████████▋ | 163/188 [06:43<00:41,  1.68s/it]"
     ]
    },
    {
     "name": "stdout",
     "output_type": "stream",
     "text": [
      "['inghetata', 'minciuna', 'ulei de in', 'ajuta', 'loc adapostit de vant', 'scris', 'prostie', 'pupila ochiului', 'inmarmuri', 'gura-casca', 'indatora', 'usurare', 'invada', 'vietuitoare', 'VAMPIRA', 'venire']\n"
     ]
    },
    {
     "name": "stderr",
     "output_type": "stream",
     "text": [
      " 87%|████████▋ | 164/188 [06:44<00:35,  1.47s/it]"
     ]
    },
    {
     "name": "stdout",
     "output_type": "stream",
     "text": [
      "['dupa', 'rusina', 'grajd', 'arhanghel', 'zgaiba', 'om de nimic', 'dezmorti', 'ura', 'fulg', 'cocostarc', 'iute', 'unelte de potcovit', 'fiert', 'adanc', 'impodobi', 'rugat']\n"
     ]
    },
    {
     "name": "stderr",
     "output_type": "stream",
     "text": [
      " 88%|████████▊ | 165/188 [06:45<00:26,  1.16s/it]"
     ]
    },
    {
     "name": "stdout",
     "output_type": "stream",
     "text": [
      "['stang', 'laditsa', 'turcoaica', 'poate', 'stralucitor', 'Il ia in plisc si hai!, sa-l duca mosului.', 'criza', 'panica', 'bogdaproste', 'linisti', 'scrie', 'bot', 'nefericit', 'maniera', 'douazeci si patru', 'tigru']\n"
     ]
    },
    {
     "name": "stderr",
     "output_type": "stream",
     "text": [
      " 88%|████████▊ | 166/188 [06:45<00:21,  1.00it/s]"
     ]
    },
    {
     "name": "stdout",
     "output_type": "stream",
     "text": [
      "['douazeci si opt', 'cadea de acord', '- Ce-ar fi sa mi-l dai mie, piciul asta? - ii zice tatalui lui Bob-Naut. Mi-ar mana caii. Iti dau parale bune pe el!', 'oaches', 'grumaz', 'anula ', 'amesteca', 'sanziana - floarea din parul zanelor', 'inocent', 'tineret', 'chemare', 'negativ', 'trece', 'Asa cum ne-a fost si intelegerea, si - daca mai ai chef, grabeste-te sa te mai intreci si cu-altcineva din minciuni...', 'stampila', 'pozitie']\n"
     ]
    },
    {
     "name": "stderr",
     "output_type": "stream",
     "text": [
      " 89%|████████▉ | 167/188 [06:47<00:25,  1.20s/it]"
     ]
    },
    {
     "name": "stdout",
     "output_type": "stream",
     "text": [
      "['orfan a deveni aproape', 'asfixiat', 'rataci', 'informatie', 'bolnav de splina', 'incapatanare', 'intruna', 'vizir, mare', 'multiplica', 'varsare, de sange', 'intrigant', 'de vreme ce', 'inspaimanta', 'tabaci', 'cauza', 'conform']\n"
     ]
    },
    {
     "name": "stderr",
     "output_type": "stream",
     "text": [
      " 89%|████████▉ | 168/188 [06:48<00:19,  1.00it/s]"
     ]
    },
    {
     "name": "stdout",
     "output_type": "stream",
     "text": [
      "['termen', 'tiv', 'baca - fruct', 'nesiguranta', 'tavali', 'gravida', 'incercui  ', 'mustar', 'flacara mare', 'des-supara', 'neinteles, om de ', 'cincilea, al', 'eparhie', 'turta-placinta', 'barza', 'agata ']\n"
     ]
    },
    {
     "name": "stderr",
     "output_type": "stream",
     "text": [
      " 90%|████████▉ | 169/188 [06:48<00:15,  1.19it/s]"
     ]
    },
    {
     "name": "stdout",
     "output_type": "stream",
     "text": [
      "['canapea', 'zbarci', 'cartilagiu', 'fasie', 'inca ', 'deal golas', 'secret, in', 'domina', 'convorbire', 'untdelemn', 'dezgust ', 'suferinte mari', 'chiparos', 'altar', 'geambas - negustor de cai', 'spori']\n"
     ]
    },
    {
     "name": "stderr",
     "output_type": "stream",
     "text": [
      " 90%|█████████ | 170/188 [06:48<00:13,  1.36it/s]"
     ]
    },
    {
     "name": "stdout",
     "output_type": "stream",
     "text": [
      "['bulgare', 'salba', 'arsic ', 'galagie', 'lipi, v ', 'albastru', 'veni', 'lapte, crema lui', 'in afara de', 'suferi', 'sine', 'costita', 'Feciorul se purta si cu asta - precum si cu ceilalti.', 'tradare', 'apa', 'mult']\n"
     ]
    },
    {
     "name": "stderr",
     "output_type": "stream",
     "text": [
      " 91%|█████████ | 171/188 [06:49<00:12,  1.32it/s]"
     ]
    },
    {
     "name": "stdout",
     "output_type": "stream",
     "text": [
      "['lasa pe altadata', 'mucozitate', 'dezgusta', 'rasuna', 'sfera', 'paianjen', 'stana', 'strengar', '?', 'tocmi', 'ticaloasa', 'apare ', 'Era dorul lor cel mare.', 'arsic', 'pe sarite', 'bolovan']\n"
     ]
    },
    {
     "name": "stderr",
     "output_type": "stream",
     "text": [
      " 91%|█████████▏| 172/188 [06:50<00:10,  1.47it/s]"
     ]
    },
    {
     "name": "stdout",
     "output_type": "stream",
     "text": [
      "['batranet', 'dar', 'afurisi', 'termina', 'adulmecat', 'adolescent', 'apune', 'sarma', 'de calitate slaba', 'curte', 'nesatios', 'lovitura', 'emana', 'pisica', 'incarca', 'Mitru, milos ca de obicei, se-nduiosa iara, si-a cumparat si sarpele - dand si asprul ce-i mai ramasese.']\n"
     ]
    },
    {
     "name": "stderr",
     "output_type": "stream",
     "text": [
      " 92%|█████████▏| 173/188 [06:52<00:15,  1.00s/it]"
     ]
    },
    {
     "name": "stdout",
     "output_type": "stream",
     "text": [
      "['infigere', 'tare, glas', 'mot', 'naframa', 'creta', 'lege', 'jeli', 'daca', 'calatorie', 'barbieri', 'Au asteptat ei cat au asteptat, un ceas, doua, trei, nimic!', 'copil vitreg', 'nepacatuit', 'neincetare', 'zise dansa, parca mie placea sa tot nasc fete?', 'incrucisa']\n"
     ]
    },
    {
     "name": "stderr",
     "output_type": "stream",
     "text": [
      " 93%|█████████▎| 174/188 [06:52<00:13,  1.03it/s]"
     ]
    },
    {
     "name": "stdout",
     "output_type": "stream",
     "text": [
      "['biet', 'plasa', 'ornat', 'gratios', 'bea apa', 'jos', 'moarte', 'derbedeu', 'ardei', 'mai mult', 'vui', 'baltag', 'rata', 'primi ', 'baston', 'prost']\n"
     ]
    },
    {
     "name": "stderr",
     "output_type": "stream",
     "text": [
      " 93%|█████████▎| 175/188 [06:53<00:10,  1.20it/s]"
     ]
    },
    {
     "name": "stdout",
     "output_type": "stream",
     "text": [
      "['ramazan', 'obliga(se)', 'frumusel', 'adunare', 'congestiona', 'rapa', 'baltos', 'turcime', 'ruga la Sf Maria', 'ranchiuna', 'muri ', 'fiara', 'vatra', 'hoata', 'rindea mare', 'inaltime']\n"
     ]
    },
    {
     "name": "stderr",
     "output_type": "stream",
     "text": [
      " 94%|█████████▎| 176/188 [06:53<00:08,  1.37it/s]"
     ]
    },
    {
     "name": "stdout",
     "output_type": "stream",
     "text": [
      "['sur', 'turba', 'scrobi', 'Tunis ', 'imagina', 'prapad', 'saltand', 'ascutit', 'demisie', 'limpezi', 'Septembrie', 'paine dumicata in lapte', 'zi', 'intreba', 'ilic', 'rau - om']\n"
     ]
    },
    {
     "name": "stderr",
     "output_type": "stream",
     "text": [
      " 94%|█████████▍| 177/188 [06:54<00:06,  1.58it/s]"
     ]
    },
    {
     "name": "stdout",
     "output_type": "stream",
     "text": [
      "['descoperire ', 'sfii', 'chei portuare', 'mugur', 'incepe', 'dar', 'ajunge', 'har', 'poala', 'feciorie', 'tuberculoza', 'plapand', 'piezis', 'varf', 'inzestra', 'inteti']\n"
     ]
    },
    {
     "name": "stderr",
     "output_type": "stream",
     "text": [
      " 95%|█████████▍| 178/188 [06:54<00:05,  1.74it/s]"
     ]
    },
    {
     "name": "stdout",
     "output_type": "stream",
     "text": [
      "['curvie', 'fulg', 'palid si umflat', 'stralucitor', 'colacar - cavaler de onoare calare care anunta sosirea alaiului de nunta', 'apoplexie', 'robi', 'cota', 'copiii', 'suspin', 'moment', 'nevoie', 'Ma-sa, biata de ea, nu stia cum sa-i scoata din cap gargaunii astia.', 'inavuti', 'semi-bea', 'matraguna']\n"
     ]
    },
    {
     "name": "stderr",
     "output_type": "stream",
     "text": [
      " 95%|█████████▌| 179/188 [06:55<00:06,  1.43it/s]"
     ]
    },
    {
     "name": "stdout",
     "output_type": "stream",
     "text": [
      "['voinicel', 'ingeresc', 'da in vileag', 'dar', 'dejunat', 'minune', 'sociabil, om', 'strugure salbatec', 'satean', 'calugar', 'fantezie', 'odata', 'Decembrie', 'sara', 'vacarm', 'Se facu pastor, dar turma i-o pastea mai mult Viroana - cateaua lui - decat dansul, care alerga tot timpul dupa cuibare de vrabii si dupa ochi de codane.']\n"
     ]
    },
    {
     "name": "stderr",
     "output_type": "stream",
     "text": [
      " 96%|█████████▌| 180/188 [06:58<00:11,  1.45s/it]"
     ]
    },
    {
     "name": "stdout",
     "output_type": "stream",
     "text": [
      "['femur', 'boiereste', 'scarpina', 'bronzat', 'examen', 'postav din lana', 'rasari', 'greier', 'mandruta ', 'lira - instrument muzical', 'mijloc de rezolvare', 'duhoare', 'bucura', 'furculita', 'paine', 'combatant']\n"
     ]
    },
    {
     "name": "stderr",
     "output_type": "stream",
     "text": [
      " 96%|█████████▋| 181/188 [06:59<00:07,  1.14s/it]"
     ]
    },
    {
     "name": "stdout",
     "output_type": "stream",
     "text": [
      "['umili', 'bunica', 'poiana', 'oparire', 'placere', 'vreuna', 'ratoi', 'Mergand el asa, iata ca-i iese in drum fiul craiului.', 'salata', 'invidia', 'magiun', 'nimfa', 'menstruatie', 'intunecare', 'panglica', 'rapa']\n"
     ]
    },
    {
     "name": "stderr",
     "output_type": "stream",
     "text": [
      " 97%|█████████▋| 182/188 [07:00<00:06,  1.11s/it]"
     ]
    },
    {
     "name": "stdout",
     "output_type": "stream",
     "text": [
      "['albastru azuriu', 'flacara  ', 'uri', 'destepta', 'climat', 'cheltuiala', 'vesta fara maneci', 'abroga ', 'tribut', 'prefera', 'sine', '- Ba, chiar ma gandeam!', 'smerit', 'slobozi', 'cizmar', 'hagealac']\n"
     ]
    },
    {
     "name": "stderr",
     "output_type": "stream",
     "text": [
      " 97%|█████████▋| 183/188 [07:00<00:04,  1.06it/s]"
     ]
    },
    {
     "name": "stdout",
     "output_type": "stream",
     "text": [
      "['in persoana', 'talanga mica', 'minuna, a se', 'sumbru', 'falsitate', 'Zanele, ce sa faca, n-au incotro! Nu asta, dar orice le-ar fi cerut, ar fi facut, si-n foc ar fi sarit - daca le zicea el sa sara. Asa stand lucrurile, numaidecat i-au inviat ele pe fratii mezinului. Totusi, ti-ai gasit sa le dea el camasile cu una cu doua, bietele zane!', 'codobatura', 'matura cuptorul cu pamatuful', 'asternut', 'atentie', 'boala de inima', 'zefirina - panza de bumbac', 'eroare', 'mahni', 'rivaliza', 'preamari']\n"
     ]
    },
    {
     "name": "stderr",
     "output_type": "stream",
     "text": [
      " 98%|█████████▊| 184/188 [07:24<00:30,  7.65s/it]"
     ]
    },
    {
     "name": "stdout",
     "output_type": "stream",
     "text": [
      "['invarti', 'stiulete', 'fotoliu', 'pasare', 'turtire', 'arsita', 'astepta,a se -  v', 'cand', 'iaurt', 'boiereste', 'invesmanta', 'umflatura', 'usura', 'intrece, a se', 'manie', 'femeie']\n"
     ]
    },
    {
     "name": "stderr",
     "output_type": "stream",
     "text": [
      " 98%|█████████▊| 185/188 [07:24<00:16,  5.49s/it]"
     ]
    },
    {
     "name": "stdout",
     "output_type": "stream",
     "text": [
      "['carpen', 'necioplit', 'burdusel', 'negricios', 'rosiatic', 'motiv', 'admonesta', 'pasui', 'ceafa', 'mandrie', 'insirui', 'inainte', 'sufoca ', 'intelege cu cineva', 'foarte', 'fard']\n"
     ]
    },
    {
     "name": "stderr",
     "output_type": "stream",
     "text": [
      " 99%|█████████▉| 186/188 [07:25<00:07,  3.97s/it]"
     ]
    },
    {
     "name": "stdout",
     "output_type": "stream",
     "text": [
      "['naut', 'nazuri', 'treia zi', 'izma', 'spargere', 'prea bine-', 'clopotel', 'ingriji', 'pojar', 'bogat', 'taragana', 'inserare', 'netuns', 'imbraca', 'Mahnit adanc, porni spre casa, rusinat de neizbanda lui, de parca se ducea la taierea capului.', 'excrement']\n"
     ]
    },
    {
     "name": "stderr",
     "output_type": "stream",
     "text": [
      " 99%|█████████▉| 187/188 [07:27<00:03,  3.39s/it]"
     ]
    },
    {
     "name": "stdout",
     "output_type": "stream",
     "text": [
      "['innopta', 'voal', '- Astuia-i zisei Jumatica, fiindca a fost fata de-asta data.', 'netot', 'pregatit', 'monoton ', 'samur', 'podoaba', 'capaci', 'invesmanta', 'acum', 'nenorocit']\n"
     ]
    },
    {
     "name": "stderr",
     "output_type": "stream",
     "text": [
      "100%|██████████| 188/188 [07:29<00:00,  2.39s/it]\n"
     ]
    },
    {
     "name": "stdout",
     "output_type": "stream",
     "text": [
      "BLEU = 11.77 17.8/7.8 (BP = 1.000 ratio = 1.203 hyp_len = 7507 ref_len = 6242)\n",
      "chrF2++ = 20.36\n",
      "BLEU = 12.14 17.4/9.0 (BP = 0.968 ratio = 0.969 hyp_len = 5931 ref_len = 6121)\n",
      "chrF2++ = 19.81\n"
     ]
    }
   ],
   "source": [
    "df_ro_rup_test['ro_pred'] = ''\n",
    "df_ro_rup_test['rup_pred'] = ''\n",
    "# Loop through the DataFrame in chunks of 16\n",
    "test_len = len(df_ro_rup_test)\n",
    "for i in tqdm(range(0, test_len, 16)):\n",
    "    end_index = min(i + 16, test_len)  # Ensure not to exceed the DataFrame length\n",
    "    \n",
    "    # Extract the chunk of data\n",
    "    ro_texts = df_ro_rup_test.loc[i:end_index-1, 'ro'].tolist()\n",
    "    ls = [len(x) for x in ro_texts]\n",
    "    if max(ls) > 1000:\n",
    "        continue\n",
    "    rup_texts = df_ro_rup_test.loc[i:end_index-1, 'rup'].tolist()\n",
    "    print(ro_texts)\n",
    "    # Only perform translation if the input list is not empty\n",
    "    if ro_texts:\n",
    "        # Translate works in the following way: I have texts in romanian(ro_texts), I want to translate them to aromanian (aromanian <- romanian)\n",
    "        df_ro_rup_test.loc[i:end_index-1, 'rup_pred'] = translate(ro_texts, 'aromanian', 'romanian')\n",
    "    \n",
    "    if rup_texts:\n",
    "        df_ro_rup_test.loc[i:end_index-1, 'ro_pred'] = translate(rup_texts, 'romanian', 'aromanian')\n",
    "\n",
    "\n",
    "# Calculate the BLEU score\n",
    "bleu_calc = sacrebleu.BLEU(max_ngram_order=2, effective_order=False)\n",
    "chrf_calc = sacrebleu.CHRF(word_order=2)\n",
    "print(bleu_calc.corpus_score(df_ro_rup_test['ro'].to_list(), [df_ro_rup_test['ro_pred'].to_list()]))\n",
    "print(chrf_calc.corpus_score(df_ro_rup_test['ro'].to_list(), [df_ro_rup_test['ro_pred'].to_list()]))\n",
    "print(bleu_calc.corpus_score(df_ro_rup_test['rup'].to_list(), [df_ro_rup_test['rup_pred'].to_list()]))\n",
    "print(chrf_calc.corpus_score(df_ro_rup_test['rup'].to_list(), [df_ro_rup_test['rup_pred'].to_list()]))"
   ]
  },
  {
   "cell_type": "code",
   "execution_count": 23,
   "metadata": {},
   "outputs": [
    {
     "name": "stderr",
     "output_type": "stream",
     "text": [
      "Some non-default generation parameters are set in the model config. These should go into a GenerationConfig file (https://huggingface.co/docs/transformers/generation_strategies#save-a-custom-decoding-strategy-with-your-model) instead. This warning will be raised to an exception in v4.41.\n",
      "Non-default generation parameters: {'max_length': 200}\n"
     ]
    },
    {
     "data": {
      "text/plain": [
       "('nllb_aromanian_splitted\\\\tokenizer_config.json',\n",
       " 'nllb_aromanian_splitted\\\\special_tokens_map.json',\n",
       " 'nllb_aromanian_splitted\\\\tokenizer.json')"
      ]
     },
     "execution_count": 23,
     "metadata": {},
     "output_type": "execute_result"
    }
   ],
   "source": [
    "model.save_pretrained(\"nllb_aromanian_splitted\")\n",
    "tokenizer.save_pretrained(\"nllb_aromanian_splitted\")"
   ]
  },
  {
   "cell_type": "code",
   "execution_count": 9,
   "metadata": {},
   "outputs": [
    {
     "name": "stdout",
     "output_type": "stream",
     "text": [
      "BLEU = 5.62 17.8/7.8/3.7/1.9 (BP = 1.000 ratio = 1.203 hyp_len = 7507 ref_len = 6242)\n",
      "chrF2 = 21.91\n",
      "BLEU = 5.18 17.4/9.0/3.6/1.4 (BP = 0.968 ratio = 0.969 hyp_len = 5931 ref_len = 6121)\n",
      "chrF2 = 22.08\n"
     ]
    }
   ],
   "source": [
    "bleu_calc = sacrebleu.BLEU()\n",
    "chrf_calc = sacrebleu.CHRF()\n",
    "print(bleu_calc.corpus_score(df_ro_rup_test['ro'].to_list(), [df_ro_rup_test['ro_pred'].to_list()]))\n",
    "print(chrf_calc.corpus_score(df_ro_rup_test['ro'].to_list(), [df_ro_rup_test['ro_pred'].to_list()]))\n",
    "print(bleu_calc.corpus_score(df_ro_rup_test['rup'].to_list(), [df_ro_rup_test['rup_pred'].to_list()]))\n",
    "print(chrf_calc.corpus_score(df_ro_rup_test['rup'].to_list(), [df_ro_rup_test['rup_pred'].to_list()]))"
   ]
  },
  {
   "cell_type": "code",
   "execution_count": 10,
   "metadata": {},
   "outputs": [],
   "source": [
    "t1 = ['Grira tu oara laie, ca - na!, iu la s-feate un nic, si-atel isi fu feata-vobira! Ma, a lor la si paru c-amintara na vasilie-ntreaga, - canda la se-aminta Stamaria-n casa! Te s-dzit? - l-aridea inima, ca terlu cindu-i soarle analtu!', '- Dati la oarfan, dati!', 'Una dzua - nu-are lucru - acata si-u-ntreaba ma-sa:', 'Doli ficiori aesti, cari criscura totna deadun, s-loara ahinta vreare, ca bana s-dadea un tr-alantu.', 'E! Nu u da - cara!', 'S-featira fartat treili: hililu-de-avinator, Mica-multu si thiriulu Alumta-caliuri. S-pale li-u deadira-nclo! Ghine ma, Alumta-caliuri nu eara invitat s-imna preayalea, ca virnu satut; ili lo ingricica doli sot si acata s-imna - imnatic de-a lui, cum isi stia. Tu una dzua - featira cale de-un an!', 'Vrura sotli s-li-u suta mintea, s-nu intra tu Padurea-Laie, ca va-si cheara bana; el, prit una ureacle li-intra, prit alanta li-isea.', 'Se-aleapida vulturlu tu nior, si-si paste oclili divarliga. Diparte, diparte - largu multu, andzareaste un puiliu cu un pucic in cioc. S-aurneaste pri nis, lu-acata, s-li-ul lea puciclu, implin cu apa-yie, athanata, si u adute la ficior.', 'Sant indoaua inveturi, cari si aminta masi cu ghivasirea, i cu avdzarea. Sant si indoaua alte lucri, cari nu intra tu caplu a omlui pina s-nu li videm s-cu ocli. Cat banam - multe avdzam si multe videm, ma cu tute aiste - tiva nu stim, pina s-nu bagam mana ca s-adram atea ti na si pare ca stim. Cu alte zboara, voi ca s-dzic eu - ca teoria easte buna, di multe ori, ama cate unoara armane multu ma-nghios di practica.', 'Un carvanar il baga tu ocliu si vru s-ul lea:', 'Museata-loclui, tu fuga, s-toarna si-li cafta a ma-sai s-li da thiriulu si apa-yie, fara moarte. Ma-sa, cu tut ca tinea la lucrile aeste ahardzite, - s-nu-li fringa inima, - li li deade.', '- Ghine, gri mulearea, du-te si lea-u hile-mea, ma - ia ti easte luyuria: la mine suntu patrudzat di feate. Tute museate, si tute s-u aduc una cu alanta. Museata-loclui easte cu nise. S-putearii s-u cunosti - a ta s-hiba!', 'Prota intribare te-li feate ali-nveaste, cind u vidzu, fu:', '- Maca pot tine ahintu lisor s-fat un ahtare lucru, pina mine s-ni adari na cale astirnuta masi cu asime, di la palatea mea pina la a ta. S-puteari s-u fat aesta, va-t dau giumitat di amirarile si hile-mea inveasta.', '- Ti numa-li bagasi, Chira-Mara?', 'Ma vidzu ca nu s-mina virnu, tut s-cama apruchea dhicunarlu. Aproachi-te, aproachi-te, li-u deade nurizma, di pita tu nari, si cindu si-u baga dininte, da-li, s-da-li - prota peturlu di pri-supra, apoia veardzile, calcinile, peturlu di pri-ghios - nu-si alasa tiva.']\n",
    "t2 = ['Di un, de-alantu, vine la ciurlu-papa sa-ncarca yiplu. Ghine ma, preftu - tut cinticlu te si stea:', 'Pri aestu munte, virnu nu putea sa se-alina. Cum s-faca si cum s-adara emburlu, s-lu-alina ficiorlu? Acata di-l coase tu na cheale, s-lu-arunca tu cuprii. Aoa s-adunara corghili si ornili, s-tradze un, tradze-alantu, il mutara pri muntile cu yi            zi. Ficiorlu, dupa te arupsira corghili chealea, isi dit ea si s-baga s-aduna yiamandzi. Atumtea ili gri emburlu:', 'Prota intribare te-li feate ali-nveaste, cind u vidzu, fu:', 'Cindu agiumse maratlu gione-n hoara, li se-arupse inima di te vidzu: casile tute - ponde s-erme! Canda tricu pusclea pre-aclo: ni cipit di om si di pravda nu se-avdza! Ili vine a lui ergu, ca vombira va le-adra tute aeste laet.', '- Barbate - ili dzitea mulearea - alasa-te de-avinare s-mutrea de-acata virnu altu lucru! Ca, nu vedz pri ti cale agiumsim?', 'Dupa te mutri tu toate partile si nu putu s-lu andzareasca, ili yinea s-creapa di foc s-di arau, cum s-doarma si-li ascapa pulilu.', 'Tradze ficiorlu ninga una, s-ninga una, s-ninga una - pina li guli tute fusechile, si lamnea, cu tuta goada ti-li fatea, nu cadea!', 'Armase vasilia fara domnu. Atumtea ficiorlu - ca atel cama gionile ti se-afla, s-alina pri scamnu si s-feate nis amira, iar Museata-loclui, amiroane, - s-binara na bana di domni!', 'Apoia intra la cinile mare. Cu pirgaclu a neu il dipuse si pe-aistu si lo citi paradz di amalama putu s-poarta. Inclise udaia museat, si cindu s-iasa, s-aduse aminte ca agirsi minarlu! Mina barnul, tra s-iasa nafoara, si cindu agiundue pi budza di gura, lu intreaba moasa:', '- Cinta s-ni dai mulile cit cama ayonea, s-ni dai s-yiptul, s-tute! Acsi na fu acatatura s-ligatura noastra, si - maca te ariseaste, da-te cu d-alaga s-te-acat s-cu altu la minciuni...', '- E, ti numa-li bagasi s-a noului vleat?', 'Dupa te-li vatamara tut, si scoala, incarca avutamea adunata di ani di dzile aclo, di la urfane, s-baga di adara na casa in triyeaua, iu arminea calitori dit patrule parti a loclui, s-mica, s-bea si s-nu plateasca pindara.', 'Duse aestu, avigle-avigle pina neadza-nopti, nu s-vidzu tiva. Durnea iapile tu protlu somnu. Citra te-adoara, s-deade ficiorlu pri mina - s-agirseasca natheama, ca dzitea nis: Maca pina tora nu s-vidzu zulapea, niti de-aoa si-nclo nu va yina.', 'Avde vasilelu ca hililu-museat-de-avinator s-u-ncruna feata, si foc s-aprinde! Pitreate niscinti oamini di la palate, s-lu vatama. Cari oamini - t-ul acata si-l fac filii-filii!', 'Tri Viroana si-ni alag;', 'S-apruche, si-li gri:']"
   ]
  },
  {
   "cell_type": "code",
   "execution_count": 11,
   "metadata": {},
   "outputs": [
    {
     "name": "stdout",
     "output_type": "stream",
     "text": [
      "16 16\n"
     ]
    }
   ],
   "source": [
    "print(len(t1), len(t2))\n",
    "['- Vai de mine si de mine, se mira asta! Eu credeam ca doar vergeaua mea e ce e!', 'Si-l asteapta feciorul pe Inghite-drumuri, il asteapta - dar asta, nimic! Cade pe ganduri baiatul - ce-o fi cu tovarasul sau? Pe unde o fi taind frunza la caini, de-ntarzie atata, ca doar nu-i trebuia mai mult de un ceas, sa se duca si sa se intoarca!', 'Si iar o-ntinde cocosul inspre palatul craiului. Ii iese-n drum raul, care-l opreste in loc.', '- Daca te cheama, du-te!, zise lupul.', 'De-aceea, o si porni, pe loc, spre casa.', 'Asaa... Nu trec insa trei-patru zile, ca iepele lor - ei erau oameni cuprinsi! - si incep a se rari. Herghelegiul innebunea vazand ca-i piere in fiecare zi cate-o iapa, si nu pricepea ce fiara i le omoara: vreun lup, vreun urs - vreun drac, habar n-avea!', 'Zapusala ajunsese in toiul ei. Si-i zice vizirul mosului, care tacea, de parca era fara grai;', 'Si, suparandu-se, imparateasa n-a mai vrut sa-l vesteasca pe imparat ca, de asta data, are fecior.', 'Imparatul, care avea chef in ziua aceea, nu-i zise nimic sateanului, dar astepta sa vada ce-are de gand sa faca omul asta.', 'FATA MOSULUI CEA ISTEATA', '- Era, parintele draga - pe vremea tineretilor mele! Intr-o zi, cand tocmai se nastea taica-miu, ma aflam la bunici si trageam din ciubuc. Cand, pe cine vad - pe strabunicii mei chiar, care veneau in fuga mare, sa dea de veste: Haide, ca s-a nascut tata-tau! Si ce daca s-a nascut? - intreb eu - ce vreti de la mine? Cum, ce vrem - ca trebuie sa te duci dupa nas, sa vina sa-l boteze! - zic ei, bietii batrani.', 'Feciorul, care bagase de seama cat ii cazuse de drag Frumoasei-lumii, isi opri fata pentru el, n-a vrut s-o mai deie craiului. Numai el stia cate patise, pana s-o castige - si acu s-o lase craiului, pica para malaiata? Nici gand!', 'Voinicu, numai ce-o vede si-o si cunoaste, dupa chip, dupa glas, ca era soru-sa, pentru care nu avea el somn de-atata vreme! Dintr-un salt e langa dansa, o imbratiseaza, o saruta cu drag, plang amandoi in hohote, de-ti sfasie inima: de mai bine de trei ani, sarmanii, nu se mai vazusera, nu si-au mai auzit glasul!', '- Haide, ca va dau un aspru - numai n-o omorati, le zise el.', 'Si asteapta el un ceas, asteapta doua ceasuri, dar Nastratin, nicaieri. Pierzandu-si judele rabdarea, trimite un aprod dupa el, sa-l cheme. Cand ajunse aprodul la Nastratin, il gasi fierband niste grau. I-a spus ca e asteptat la judecatorie si ca sa se grabeasca. Nastratin ii zise ca vine numaidecat, ca uite, graul e gata, fiert, creste apoi ca din apa. Bietul aprod, la asemenea traznai - nu mai stiu cum sa se inchine de mirare!', 'Dupa care, isi vazura de drum, unu p-aci, alalalt pe dincolo.']\n",
    "['Unde-a fi de gasit nasul? Rastorn pamantul, dupa el, ma uit, cotrobai - nasul, nicaieri! O fi pe la bunul Dumnezeu, ma gandesc eu, daca pe pamant nu-i. Si chiar ca acolo era!', 'Sahul Persiei a poftit, de mult, sa stie cati prosti are in imparatia lui, si-l puse pe un vizir al sau sa-i intocmeasca o lista cu ei. Vizirul intocmi lista, dar trecu in capul ei tocmai pe Sahul! Cand vazu Sahul una ca asta, foc se facu!', 'A fost odata - ce nu s-a mai vazut!', 'Vorbi acum si Dona:', 'Chitu se aseza frumusel, gospodareste, si-i dadu drumul:', 'Zi de zi, se trezeau cu vorba asta pe buze: Vai! Doamne, nu ne dai si noua o fetica?!', 'Afland imparatul ca harapul ii scapa fata si omori si balaurul, nu mai putea de bucurie! Ce sa-i deie, ce bine sa-i faca, - hai sa-i dea pe fiica-sa de nevasta. Tocmai pe gandul harapului! Intr-o saptamana urma sa se faca nunta.', '- De ce sa nu-l iau!', 'iar eu m-am intors de acolo, si va aduceam cate o pereche de ghete, dar ghetele fiind ele rosii, si trecand eu pe langa curtea lui Tosi - se repezira cainii, latosii, si mi le smulsera din maini, fiindca li s-a parut lor c-ar fi niscai ficati...', 'Le dadu si lor un aspru, si lua cu el si mata.', '- Tine tava asta, si furculita - sa te joci cu ele, pana gatesc eu ceva de mancare, jos.', '- Mai, magar nerusinat! - zice craiul, nu-ti ajunse cate imi facusi, si inca ma mai injuri! Prindeti-l, ceru dansul, si sa mi-l ardeti in cuptor, scrum sa-l vad!', 'Si - cucurigu-cucurigu... - iata lupul, iata vulpea, care nu asteptara sa fie chemati de doua ori, si se si repezira la iepe, - hap!, hap!, una dupa alta inghitindu-le, de n-a mai ramas nici picior din toata herghelia.', 'In timp ce-l jeleau asa, poftim ca se lasa in jos o pasare cantatoare, care incepe a zice din pliscul ei micut:', 'Si ii zice lui Aude-tot:', nan]"
   ]
  },
  {
   "cell_type": "code",
   "execution_count": 15,
   "metadata": {},
   "outputs": [],
   "source": [
    "sentences = [\"Lepurle ansare d-iu nu te-astept\", # Iepurele sare de unde nu te aştepţi.\n",
    "             \"Si mveaste tu stranile a cafigiluis-acata s-naura ca na catuse pi ninga usa iu durna amiralu.\", # Se îmbracă în straiele cafegiului şi începe să miaune ca o pisică pe lângă uşa unde dormea împăratul.\n",
    "             \"Ca-telo-agudi si ficorlu, measa, ntriba Araplu\", # De ce îl lovişi pe băiat, masă, întrebă arapul.\n",
    "             \"Nu ti carteasce varnu, ca va la si para ca escu mine.\", # Nu se va lega nimeni de tine, căci o să li se pară că sunt eu.\n",
    "             \"Și s-nu pistipsiri, misura tine diznou!\", # Și dacă nu crezi, măsoară tu din nou!\n",
    "             \"Nu mi bati, ca t-aduc s-alti petali io!\", # Nu mă bate, că ţi-aduc şi-alte potcoave eu!\n",
    "            ]\n",
    "correct_translations = [\"Iepurele sare de unde nu te astepti.\",\n",
    "                        \"Se imbraca in straiele cafegiului si incepe sa miaune ca o pisica pe langa usa unde dormea imparatul.\",\n",
    "                        \"De ce il lovisi pe baiat, masa, intreba arapul.\",\n",
    "                        \"Nu se va lega nimeni de tine, caci o sa li se para ca sunt eu.\",\n",
    "                        \"Si daca nu crezi, masoara tu din nou!\",\n",
    "                        \"Nu ma bate, ca ti-aduc si-alte potcoave eu!\"]"
   ]
  },
  {
   "cell_type": "code",
   "execution_count": 43,
   "metadata": {},
   "outputs": [
    {
     "name": "stdout",
     "output_type": "stream",
     "text": [
      "Original: Lepurle ansare d-iu nu te-astept\n",
      "Translated: rup Lupul nu te supara\n",
      "Correct translation: Iepurele sare de unde nu te astepti.\n",
      "\n",
      "Original: Si mveaste tu stranile a cafigiluis-acata s-naura ca na catuse pi ninga usa iu durna amiralu.\n",
      "Translated: rup Si, pe la urma, cafea turceasca isi chema si dansa ca o mata a adormit pe usa, unde dormea imparatul.\n",
      "Correct translation: Se imbraca in straiele cafegiului si incepe sa miaune ca o pisica pe langa usa unde dormea imparatul.\n",
      "\n",
      "Original: Ca-telo-agudi si ficorlu, measa, ntriba Araplu\n",
      "Translated: rup Il intreba cel ce-o fi si ficorul ce-o fi, ce-o fi, ce-o fi, pe harapul casei.\n",
      "Correct translation: De ce il lovisi pe baiat, masa, intreba arapul.\n",
      "\n",
      "Original: Nu ti carteasce varnu, ca va la si para ca escu mine.\n",
      "Translated: rup Nimic nu-ti da la o parte, ca-i sa iei si tu, parca sunt eu...\n",
      "Correct translation: Nu se va lega nimeni de tine, caci o sa li se para ca sunt eu.\n",
      "\n",
      "Original: Și s-nu pistipsiri, misura tine diznou!\n",
      "Translated: rup Si, ca sa nu creada nimeni, iarasi maceste!\n",
      "Correct translation: Si daca nu crezi, masoara tu din nou!\n",
      "\n",
      "Original: Nu mi bati, ca t-aduc s-alti petali io!\n",
      "Translated: rup Nu ma batute, ca ti-aduc si alt placinte!\n",
      "Correct translation: Nu ma bate, ca ti-aduc si-alte potcoave eu!\n",
      "\n"
     ]
    }
   ],
   "source": [
    "model = AutoModelForSeq2SeqLM.from_pretrained('nllb_aromanian')\n",
    "tokenizer = AutoTokenizer.from_pretrained('nllb_aromanian')\n",
    "model.cuda()\n",
    "def translate(\n",
    "    text, src_lang='ro', tgt_lang='rup', \n",
    "    a=32, b=3, max_input_length=1024, num_beams=4, **kwargs\n",
    "):\n",
    "    \"\"\"Turn a text or a list of texts into a list of translations\"\"\"\n",
    "    tokenizer.src_lang = src_lang\n",
    "    tokenizer.tgt_lang = tgt_lang\n",
    "    inputs = tokenizer(\n",
    "        text, return_tensors='pt', padding=True, truncation=True, \n",
    "        max_length=max_input_length\n",
    "    )\n",
    "    model.eval() # turn off training mode\n",
    "    result = model.generate(\n",
    "        **inputs.to(model.device),\n",
    "        forced_bos_token_id=tokenizer.convert_tokens_to_ids(tgt_lang),\n",
    "        max_new_tokens=int(a + b * inputs.input_ids.shape[1]),\n",
    "        num_beams=num_beams, **kwargs\n",
    "    )\n",
    "    return tokenizer.batch_decode(result, skip_special_tokens=True)\n",
    "\n",
    "# translate(\"Se imbraca in straiele cafegiului si incepe sa miaune ca o pisica pe langa usa unde dormea imparatul.\", 'romanian', 'aromanian')\n",
    "for i, s in enumerate(sentences):\n",
    "    print(f\"Original: {s}\")\n",
    "    print(f\"Translated: {translate(s, 'ro', 'rup')[0]}\")\n",
    "    print(f\"Correct translation: {correct_translations[i]}\")\n",
    "    print()"
   ]
  },
  {
   "cell_type": "code",
   "execution_count": 24,
   "metadata": {},
   "outputs": [],
   "source": [
    "model = AutoModelForSeq2SeqLM.from_pretrained('nllb_aromanian')\n",
    "tokenizer = AutoTokenizer.from_pretrained('nllb_aromanian')"
   ]
  }
 ],
 "metadata": {
  "kernelspec": {
   "display_name": "aromanianLLM",
   "language": "python",
   "name": "python3"
  },
  "language_info": {
   "codemirror_mode": {
    "name": "ipython",
    "version": 3
   },
   "file_extension": ".py",
   "mimetype": "text/x-python",
   "name": "python",
   "nbconvert_exporter": "python",
   "pygments_lexer": "ipython3",
   "version": "3.12.5"
  }
 },
 "nbformat": 4,
 "nbformat_minor": 2
}
