{
 "cells": [
  {
   "cell_type": "code",
   "execution_count": 1,
   "metadata": {
    "ExecuteTime": {
     "end_time": "2023-12-03T11:30:11.197408200Z",
     "start_time": "2023-12-03T11:30:10.897412800Z"
    },
    "collapsed": true
   },
   "outputs": [],
   "source": [
    "import os\n",
    "# import conllu\n",
    "# import Levenshtein as lev\n",
    "import numpy as np\n",
    "import re\n",
    "import tqdm\n",
    "import json\n",
    "from bs4 import BeautifulSoup\n",
    "from collections import defaultdict"
   ]
  },
  {
   "cell_type": "code",
   "execution_count": 3,
   "metadata": {
    "ExecuteTime": {
     "end_time": "2023-12-03T11:30:14.471664200Z",
     "start_time": "2023-12-03T11:30:14.450158200Z"
    },
    "collapsed": false
   },
   "outputs": [],
   "source": [
    "def levenshtein_distance(s1, s2):\n",
    "    l_s1 = len(s1)\n",
    "    l_s2 = len(s2)\n",
    "    dist = np.zeros((l_s1 + 1, l_s2 + 1))\n",
    "\n",
    "    # Distanta de la prefixul care incepe pe pozitia i din s1 la sirul vid\n",
    "    for i in range(l_s1 + 1):\n",
    "        dist[i, 0] = i\n",
    "    for i in range(l_s2 + 1):\n",
    "        dist[0, i] = i\n",
    "\n",
    "    for i in range(1, l_s1 + 1):\n",
    "        for j in range(1, l_s2 + 1):\n",
    "            # daca ultimul caracter este acelasi\n",
    "            if s1[i - 1] == s2[j - 1]:\n",
    "                dist[i, j] = dist[i - 1, j - 1]\n",
    "            else:\n",
    "                deletion = dist[i - 1, j]\n",
    "                insertion = dist[i, j - 1]\n",
    "                substitution = dist[i - 1, j - 1]\n",
    "                dist[i, j] = 1 + min(deletion, insertion, substitution)\n",
    "    \n",
    "    return dist[l_s1, l_s2]"
   ]
  },
  {
   "cell_type": "code",
   "execution_count": 4,
   "metadata": {
    "ExecuteTime": {
     "end_time": "2023-12-03T11:30:15.861207300Z",
     "start_time": "2023-12-03T11:30:15.124513800Z"
    },
    "collapsed": false
   },
   "outputs": [],
   "source": [
    "file = open(\"./dataset/Tales.train.ro\", \"r\", encoding=\"utf-8\")\n",
    "all_words_ro = set()\n",
    "for line in file:\n",
    "    line = line.strip()\n",
    "    regex = re.compile(r\"(\\w+)\")\n",
    "    words = re.findall(regex, line)\n",
    "    for word in words:\n",
    "        all_words_ro.add(word)"
   ]
  },
  {
   "cell_type": "code",
   "execution_count": 5,
   "metadata": {
    "ExecuteTime": {
     "end_time": "2023-12-03T11:30:21.375375600Z",
     "start_time": "2023-12-03T11:30:21.346810200Z"
    },
    "collapsed": false
   },
   "outputs": [],
   "source": [
    "file = open(\"dataset/Tales.train.rup\", \"r\", encoding=\"utf-8\")\n",
    "all_words_aro = set()\n",
    "for line in file:\n",
    "    line = line.strip()\n",
    "    regex = re.compile(r\"(\\w+)\")\n",
    "    words = re.findall(regex, line)\n",
    "    for word in words:\n",
    "        all_words_aro.add(word)"
   ]
  },
  {
   "cell_type": "code",
   "execution_count": 6,
   "metadata": {
    "ExecuteTime": {
     "end_time": "2023-12-03T11:30:22.798522Z",
     "start_time": "2023-12-03T11:30:22.775209200Z"
    },
    "collapsed": false
   },
   "outputs": [],
   "source": [
    "json_file_path = \"candidates.json\"\n",
    "\n",
    "def get_candidates():\n",
    "    candidates_dict = {}\n",
    "    all_words_ro_list = list(all_words_ro)\n",
    "    all_words_aro_list = list(all_words_aro)\n",
    "    for word in tqdm.tqdm(all_words_aro_list, desc=\"Processing\", unit=\"element\"):\n",
    "        best_candidates_dist = [levenshtein_distance(word, candidate) for candidate in all_words_ro_list]\n",
    "        best_candidates_ind = np.argsort(best_candidates_dist)\n",
    "        candidates_dict[word] = [all_words_ro_list[ind] for ind in best_candidates_ind[:10]]\n",
    "    # print(candidates_dict)\n",
    "\n",
    "\n",
    "    with open(json_file_path, 'w') as json_file:\n",
    "        json.dump(candidates_dict, json_file)\n",
    "    print(f\"Dictionary saved to {json_file_path}\")\n"
   ]
  },
  {
   "cell_type": "code",
   "execution_count": null,
   "metadata": {
    "ExecuteTime": {
     "end_time": "2023-12-03T11:30:23.875222900Z",
     "start_time": "2023-12-03T11:30:23.865604500Z"
    },
    "collapsed": false
   },
   "outputs": [],
   "source": []
  },
  {
   "cell_type": "markdown",
   "metadata": {},
   "source": [
    "\n",
    "îndoauă = unele (distanta mare) -- *Sunt unele deprinderi* - *Sănt îndoauă învețuri*\\\n",
    "îndoauă = in doua _minute_(distanta mica), rapid  -- *Tricură ași îndoauă minute*\\\n",
    "îndoauă ~ indata, in doua (gasite cu distanat Levenshtein)\n",
    "\n",
    "\n"
   ]
  },
  {
   "cell_type": "code",
   "execution_count": 7,
   "metadata": {
    "ExecuteTime": {
     "end_time": "2023-12-03T11:30:57.129197Z",
     "start_time": "2023-12-03T11:30:57.086835900Z"
    },
    "collapsed": false
   },
   "outputs": [
    {
     "name": "stdout",
     "output_type": "stream",
     "text": [
      "['îndată', 'înceapă', 'două', 'învață', 'înecată', 'întoarcă', 'încoace', 'Îndată', 'doară', 'înhață']\n"
     ]
    }
   ],
   "source": [
    "with open(json_file_path, 'r') as json_file:\n",
    "    candidates_dict_test = json.load(json_file)\n",
    "\n",
    "print(candidates_dict_test['îndoauă'])"
   ]
  },
  {
   "cell_type": "code",
   "execution_count": null,
   "metadata": {
    "ExecuteTime": {
     "end_time": "2023-11-27T17:52:17.232707500Z",
     "start_time": "2023-11-27T17:51:58.258862300Z"
    },
    "collapsed": false
   },
   "outputs": [],
   "source": [
    "# Aici am incercat sa parsez dictionarul Cunia\n",
    "\n",
    "# html_file = open(\"Dictionar_Cunia.html\", \"r\", encoding=\"utf-8\")\n",
    "# soup = BeautifulSoup(html_file, \"html.parser\")\n",
    "# print(soup.prettify()[0:10000])\n",
    "# def find_root_word(tag):\n",
    "#     return tag.name == 'span' and tag.get('style') == 'text-decoration: none'\n",
    "# def find_translation(tag):\n",
    "#     return tag.name == 'font' and tag.get('style') == 'font-size: 10pt' and tag.get('size') == '2'\n",
    "# def find_def_and_ex(tag):\n",
    "#     return tag.name == 'font' and tag.get('face') == 'Times New Roman, serif'\n"
   ]
  },
  {
   "cell_type": "code",
   "execution_count": null,
   "metadata": {
    "ExecuteTime": {
     "end_time": "2023-11-27T18:19:13.845829Z",
     "start_time": "2023-11-27T18:19:13.844823600Z"
    },
    "collapsed": false
   },
   "outputs": [],
   "source": [
    "def_ex = soup.find_all(find_def_and_ex)\n",
    "for el in def_ex[:100]:\n",
    "    print(el.text)"
   ]
  },
  {
   "cell_type": "code",
   "execution_count": 9,
   "metadata": {
    "collapsed": false
   },
   "outputs": [
    {
     "data": {
      "text/plain": [
       "'\\nwith open(\\'dataset/Tales.train.rup\\', \\'r\\', encoding=\\'utf-8\\') as file:\\n    text_aro = file.read()\\n\\nwith open(\\'dataset/Tales.train.ro\\', \\'r\\', encoding=\\'utf-8\\') as file:\\n    text_ro = file.read()\\n\\n\\nfrom nltk.tokenize import word_tokenize\\nwords_dialect1 = word_tokenize(text_aro)\\nwords_dialect2 = word_tokenize(text_ro)\\n\\n\\nfrom collections import Counter\\n\\nco_occurrences = Counter()\\n\\nfor word1 in set(words_dialect1):\\n    for word2 in set(words_dialect2):\\n        if word1 in words_dialect1 and word2 in words_dialect2:\\n            co_occurrences[(word1, word2)] += 1\\n\\n\\nfor (word1, word2), count in co_occurrences.most_common():\\n    print(f\\'Co-occurrence of \"{word1}\" and \"{word2}\": {count} times\\')\\n\\n'"
      ]
     },
     "execution_count": 9,
     "metadata": {},
     "output_type": "execute_result"
    }
   ],
   "source": [
    "\n",
    "\"\"\"\n",
    "with open('dataset/Tales.train.rup', 'r', encoding='utf-8') as file:\n",
    "    text_aro = file.read()\n",
    "\n",
    "with open('dataset/Tales.train.ro', 'r', encoding='utf-8') as file:\n",
    "    text_ro = file.read()\n",
    "\n",
    "\n",
    "from nltk.tokenize import word_tokenize\n",
    "words_dialect1 = word_tokenize(text_aro)\n",
    "words_dialect2 = word_tokenize(text_ro)\n",
    "\n",
    "\n",
    "from collections import Counter\n",
    "\n",
    "co_occurrences = Counter()\n",
    "\n",
    "for word1 in set(words_dialect1):\n",
    "    for word2 in set(words_dialect2):\n",
    "        if word1 in words_dialect1 and word2 in words_dialect2:\n",
    "            co_occurrences[(word1, word2)] += 1\n",
    "\n",
    "\n",
    "for (word1, word2), count in co_occurrences.most_common():\n",
    "    print(f'Co-occurrence of \"{word1}\" and \"{word2}\": {count} times')\n",
    "\n",
    "\"\"\""
   ]
  },
  {
   "cell_type": "code",
   "execution_count": null,
   "metadata": {
    "collapsed": false
   },
   "outputs": [
    {
     "name": "stdout",
     "output_type": "stream",
     "text": [
      "['îndată', 'înceapă', 'două', 'învață', 'înecată', 'întoarcă', 'încoace', 'Îndată', 'doară', 'înhață']\n"
     ]
    },
    {
     "name": "stderr",
     "output_type": "stream",
     "text": [
      "100%|██████████| 8356/8356 [00:10<00:00, 780.14it/s]\n",
      "100%|██████████| 8356/8356 [00:00<00:00, 45965.52it/s]\n"
     ]
    }
   ],
   "source": [
    "import json\n",
    "import pandas as pd\n",
    "\n",
    "reviewd_candidates = defaultdict(list)\n",
    "\n",
    "json_file_path = \"candidates.json\"\n",
    "with open(json_file_path, 'r') as json_file:\n",
    "    candidates_dict_test = json.load(json_file)\n",
    "\n",
    "print(candidates_dict_test['îndoauă'])\n",
    "\n",
    "excel_path = \"Papahagi.xls\"\n",
    "df = pd.read_excel(excel_path, header = None)\n",
    "\n",
    "df.columns = [\"POS\", \"aro\", \"ro\", \"origine\", \"IDK\", \"autor\"]\n",
    "df.head()\n",
    "\n",
    "nr_neacoperite_de_dictionar = 0\n",
    "for aro_word, values in tqdm.tqdm(candidates_dict_test.items()):\n",
    "    if df[df[\"aro\"] == aro_word].shape[0] == 0:\n",
    "        nr_neacoperite_de_dictionar += 1\n",
    "        continue\n",
    "\n",
    "    rev = [val for val in values if val in df[df[\"aro\"] == aro_word][\"ro\"].values.tolist()]\n",
    "    if rev != []:\n",
    "        reviewd_candidates[aro_word] = rev\n",
    "\n",
    "reviewd_without_allignment = defaultdict(list)\n",
    "for word, value in tqdm.tqdm(candidates_dict_test.items()):\n",
    "    remaining = [val for val in value if word in df[\"ro\"]]\n",
    "    reviewd_without_allignment[word] = remaining\n",
    "\n"
   ]
  },
  {
   "cell_type": "code",
   "execution_count": 14,
   "metadata": {},
   "outputs": [
    {
     "name": "stdout",
     "output_type": "stream",
     "text": [
      "dict_values([['apus'], ['drept'], ['degeaba'], ['o'], ['bou'], ['încolo'], ['înăuntru'], ['vostru'], ['doi'], ['meu'], ['apoi'], ['din'], ['sub'], ['încolo'], ['domn'], ['înapoi', 'apoi'], ['încoa'], ['Bosnia'], ['în'], ['aproape'], ['semn'], ['întru'], ['putere'], ['lucru'], ['codru'], ['dacă'], ['lemn'], ['înainte'], ['voi'], ['noi'], ['suflet'], ['furnică'], ['seu'], ['la'], ['cu'], ['tu'], ['para'], ['herghelie'], ['tău'], ['curând'], ['cum'], ['nou'], ['ta'], ['zmeu'], ['ca'], ['untdelemn'], ['mai'], ['mort'], ['traistă'], ['larg'], ['greu'], ['de'], ['după'], ['rău'], ['care'], ['cal'], ['ieri'], ['întru'], ['ea'], ['cale'], ['singur'], ['apoi'], ['socru'], ['bun'], ['prin'], ['pe'], ['vânt'], ['albastru'], ['mea'], ['frate'], ['alaltăieri'], ['nu'], ['lung'], ['el'], ['lângă'], ['apoi'], ['întru'], ['armânesc'], ['rău'], ['iar'], ['gard'], ['contra'], ['când'], ['mult'], ['cuib'], ['mai'], ['că'], ['soi'], ['mormânt'], ['un'], ['trei'], ['pe'], ['acolo'], ['ars']])\n",
      "94\n",
      "8037\n",
      "8356\n"
     ]
    }
   ],
   "source": [
    "print(reviewd_candidates.values())\n",
    "print(len(reviewd_candidates.values()))\n",
    "print(nr_neacoperite_de_dictionar)\n",
    "\n",
    "print(len(reviewd_without_allignment.values()))"
   ]
  },
  {
   "cell_type": "markdown",
   "metadata": {},
   "source": [
    "#### Doar 94 dintre cuvintele din aromana pastreaza candidati in romana dupa verificarea daca acestia exista in dictionar(dintre cele procesate cu distanta Levenshtein).\n",
    "#### 8037 dintre cuvintele care apar in textele in aromana nu se gasesc in dictionar\n",
    "#### 8356 se gasesc in dictionar dar nu neaparat ca traducere a cuvantului corespunzator"
   ]
  },
  {
   "cell_type": "code",
   "execution_count": 13,
   "metadata": {},
   "outputs": [],
   "source": [
    "import numpy as np\n",
    "from sklearn.feature_extraction.text import CountVectorizer\n",
    "from sklearn.metrics.pairwise import cosine_similarity\n",
    "from nltk.tokenize import word_tokenize\n",
    "with open('./dataset/Tales.train.ro', 'r', encoding='utf-8') as file:\n",
    "    ro_text = file.read()\n",
    "\n",
    "with open('./dataset/Tales.train.rup', 'r', encoding='utf-8') as file:\n",
    "    aro_text = file.read()\n",
    "\n",
    "ro_tokens = word_tokenize(ro_text.lower())\n",
    "aro_tokens = word_tokenize(aro_text.lower())\n",
    "vectorizer = CountVectorizer()\n",
    "\n",
    "\n",
    "# co_occurrences_matrix = []\n",
    "# for aro_token in aro_tokens:\n",
    "#     for ro_token in ro_tokens:\n",
    "#         co_occurrences_matrix.append((aro_token, ro_token))\n",
    "\n",
    "# X = vectorizer.fit_transform(co_occurrences_matrix)\n",
    "\n",
    "        \n",
    "\n",
    "# similarity_scores = cosine_similarity(X)\n",
    "# print(similarity_scores)\n",
    "# threshold = 0.6\n",
    "\n",
    "# aligned_indices = np.where(similarity_scores >= threshold)\n"
   ]
  },
  {
   "cell_type": "code",
   "execution_count": 24,
   "metadata": {},
   "outputs": [
    {
     "name": "stderr",
     "output_type": "stream",
     "text": [
      "100%|██████████| 66268/66268 [00:40<00:00, 1620.65it/s]\n"
     ]
    }
   ],
   "source": [
    "direct_translation = dict()\n",
    "for word in tqdm.tqdm(aro_tokens):\n",
    "    if word in df[\"aro\"].values.tolist():\n",
    "        # print(word)\n",
    "        # print(df[df[\"aro\"] == word][\"ro\"].values.tolist())\n",
    "        direct_translation[word] = df[df[\"aro\"] == word][\"ro\"].values.tolist()\n",
    "        "
   ]
  },
  {
   "cell_type": "code",
   "execution_count": 39,
   "metadata": {},
   "outputs": [
    {
     "name": "stdout",
     "output_type": "stream",
     "text": [
      "299\n",
      "66268\n"
     ]
    }
   ],
   "source": [
    "print(len(direct_translation))\n",
    "print(len(aro_tokens))"
   ]
  },
  {
   "cell_type": "markdown",
   "metadata": {},
   "source": [
    "Codul de mai jos incearca sa gaseasca o aliniere intre cuvinte folosind un window de 4 cuvinte in ambele parti si pozitia unui cuvant.\\\n",
    "Pentru toate cuvintele dureaza ~ 6 ore :| + consuma foarte multa memorie, salvand fiecare cuvant din text care apare la o distanta de +- 4 pentru fiecare alt cuvant.\\\n",
    "Repeta de prea multe ori unele cuvinte din ferestre."
   ]
  },
  {
   "cell_type": "code",
   "execution_count": 32,
   "metadata": {},
   "outputs": [
    {
     "name": "stderr",
     "output_type": "stream",
     "text": [
      " 25%|██▌       | 5/20 [00:00<00:00, 41.54it/s]"
     ]
    },
    {
     "name": "stdout",
     "output_type": "stream",
     "text": [
      "ro_word ,\n",
      "ro_context despre\n",
      "ro_word ,\n",
      "ro_context ele\n",
      "ro_word ori\n",
      "ro_context câștigi\n",
      "ro_word ori\n",
      "ro_context doar\n",
      "ro_word ori\n",
      "ro_context citind\n",
      "ro_word ori\n",
      "ro_context ,\n",
      "ro_word ori\n",
      "ro_context vorbindu-ți-se\n",
      "ro_word ori\n",
      "ro_context despre\n",
      "ro_word ori\n",
      "ro_context ele\n"
     ]
    },
    {
     "name": "stderr",
     "output_type": "stream",
     "text": [
      " 70%|███████   | 14/20 [00:00<00:00, 39.37it/s]"
     ]
    },
    {
     "name": "stdout",
     "output_type": "stream",
     "text": [
      "ro_word ori\n",
      "ro_context .\n",
      "ro_word vorbindu-ți-se\n",
      "ro_context doar\n",
      "ro_word vorbindu-ți-se\n",
      "ro_context citind\n",
      "ro_word vorbindu-ți-se\n",
      "ro_context ,\n",
      "ro_word vorbindu-ți-se\n",
      "ro_context ori\n",
      "ro_word vorbindu-ți-se\n",
      "ro_context despre\n",
      "ro_word vorbindu-ți-se\n",
      "ro_context ele\n",
      "ro_word vorbindu-ți-se\n",
      "ro_context .\n",
      "ro_word vorbindu-ți-se\n",
      "ro_context dar\n",
      "ro_word despre\n",
      "ro_context citind\n"
     ]
    },
    {
     "name": "stderr",
     "output_type": "stream",
     "text": [
      "100%|██████████| 20/20 [00:00<00:00, 39.31it/s]"
     ]
    },
    {
     "name": "stdout",
     "output_type": "stream",
     "text": [
      "ro_word despre\n",
      "ro_context ,\n"
     ]
    },
    {
     "name": "stderr",
     "output_type": "stream",
     "text": [
      "\n"
     ]
    }
   ],
   "source": [
    "from collections import defaultdict\n",
    "import numpy as np\n",
    "\n",
    "\n",
    "context_window = 4\n",
    "\n",
    "def get_context_words(tokens, index, window):\n",
    "    start = max(0, index - window)\n",
    "    end = min(len(tokens), index + window + 1)\n",
    "    return tokens[start:index] + tokens[index + 1:end]\n",
    "\n",
    "\n",
    "ro_context_pairs = [(word, context_word) \n",
    "                    for index, word in enumerate(ro_tokens)\n",
    "                    for context_word in get_context_words(ro_tokens, index, context_window)]\n",
    "aro_context_pairs = [(word, context_word) \n",
    "                     for index, word in enumerate(aro_tokens)\n",
    "                     for context_word in get_context_words(aro_tokens, index, context_window)]\n",
    "\n",
    "\n",
    "word_co_occurrence = defaultdict(lambda: defaultdict(int))\n",
    "for (ro_word, ro_context) in tqdm.tqdm(ro_context_pairs[100:120]):\n",
    "    print(\"ro_word\", ro_word)\n",
    "    print(\"ro_context\", ro_context)\n",
    "    for (aro_word, aro_context) in aro_context_pairs:\n",
    "        # print(\"ro_word\", ro_word)\n",
    "        # print(\"ro_context\", ro_context)\n",
    "        # print(\"aro_word\", aro_word)\n",
    "        # print(\"aro_context\", aro_context)\n",
    "        if ro_context == aro_context:\n",
    "            word_co_occurrence[ro_word][aro_word] += 1\n",
    "\n",
    "\n"
   ]
  },
  {
   "cell_type": "code",
   "execution_count": 33,
   "metadata": {},
   "outputs": [
    {
     "name": "stdout",
     "output_type": "stream",
     "text": [
      "dict_keys(['ori', 'vorbindu-ți-se', 'despre'])\n"
     ]
    }
   ],
   "source": [
    "print(word_co_occurrence.keys())"
   ]
  },
  {
   "cell_type": "code",
   "execution_count": 35,
   "metadata": {},
   "outputs": [
    {
     "name": "stdout",
     "output_type": "stream",
     "text": [
      "defaultdict(<class 'int'>, {'„': 132, 'sănt': 1, 'îndoauă': 3, 'învețuri': 1, 'cari': 175, 'si': 264, 'amintă': 5, 'mași': 61, 'cu': 660, 'ghivăsirea': 1, 'i': 940, 'avdzărea': 1, '.': 1188, 'și': 1097, 'alte': 19, 'lucri': 5, 'nu': 562, 'intră': 32, 'tu': 506, 'avdzăm': 1, 'multe': 33, 'videm': 2, 'ma': 393, 'tute': 77, 'aiste': 11, '-': 1411, 'țiva': 74, 'știm': 2, 'pînă': 118, 's-nu': 84, 'băgăm': 3, 'măna': 1, 'zboară': 6, 'voi': 25, 'ca': 401, 's-dzîc': 4, 'eu': 53, 'că': 637, 'teoria': 3, 'easte': 84, 'bună': 26, ',': 2808, 'di': 1223, 'ori': 45, 'ama': 1, 'căte': 1, 'unoară': 9, 'armăne': 1, 'un': 346, 'auș': 16, 'minte': 18, 'cătră-ndoi': 1, 'tiniri': 3, 'ninga': 31, 'avea': 61, 'ișetă': 1, 'dit': 72, 'școală': 2, 'aveau': 1, 'ideia': 1, 'știe': 9, 'năși': 8, '...': 199, 'tut': 65, 'ți-azboairă': 2, 's-măcă': 4, '!': 693, 's-lă': 16, 'va': 168, 'dzîșu': 1, 'pîn': 24, 'aua': 10, 'ascultaț': 2, 'ți': 126, 'aleaptă': 4, 'părăvulie': 2, 'alăgat': 1, 'căt': 2, 'vreț': 3, 'își': 66, 'dzîse': 184, 'spună': 5, 'nîscînte': 6, 'singură': 3, 'agiută': 3, 'cît': 92, 'lipseaște': 23, 'atunțea': 3, 's-acl': 1, '’': 1774, 'eamă': 13, 'omlu': 16, 'mintimen': 2, 'cănd': 3, 'pi': 39, 'teorie': 2, 'are': 20, 'puțînă': 12, 'practică': 2, 'tr-ațea': 17, 'să': 65, 's-a-duchească': 1, 'ghine': 118, 'aist': 5, 'lucru': 36, 'băgă': 31, 'el': 97, 'amirălu': 52, 'nolgica': 7, 'ună': 265, 'odă': 2, 'lungă': 6, 'din': 51, 'opt': 2, 'coț': 2, 'largă': 2, 'ținți': 6, 'cățăn': 1, 'mare': 91, 'plin': 2, 'pileaf': 4, 'dulțe': 22, 'aduse': 6, 'doauă': 49, 'oamiñi': 22, 'laolu': 1, 'lă': 70, 'facă': 21, 'proț-viziri': 1, 's-puteare': 1, 'li': 67, 'videț': 2, 'ația': 9, 'fără': 61, 's-mișcaț': 1, '“': 121, 'șuțîră': 1, 'si-anvîrtiră': 2, 'lail': 3, 'i-nvitaț': 2, 'vidzîndalui': 6, 'putură': 5, 's-facă': 39, 'îl': 156, 'dzîsiră': 9, 'ațea': 46, 'caftă': 29, 'năs': 5, 'vărnă': 2, 'oară': 94, 'poate': 26, 'imă': 6, 'alt': 2, 'om': 49, 'știa': 35, 'ahîntă': 13, 'carte': 9, 'eara': 114, 'multă': 15, 'ti': 72, 'cum': 288, 'află': 24, 'minduire': 6, 'a': 403, 'lai': 38, 'fărtate': 6, 'l': 266, 'ea': 110, 'ș-mine': 7, 'altă': 36, 'lingură': 1, 'ta': 12, 's-trec': 4, 'după': 73, 'feațiră': 10, 'ași': 62, 'înălțară': 1, 'coada': 9, 'lingurilor': 1, 'cățănlu': 1, 'ațel': 60, 'practica': 1, 'timse': 2, 'săturară': 1, 'vidzute': 1, 'tuț': 56, 'oamiñil': 8, 'adunaț': 4, 'aclo': 72, 's-mutrească': 4, 'aduchiră': 3, 's-putea': 1, 'vinea': 1, 's-l': 64, 'ina': 6, 'horiat': 1, 'simplu': 1, 'sunt': 7, 'toți': 4, 'horiațl': 2, 'ș-u': 16, 's-întreabă': 1, 'ușierlu': 1, 'oda': 3, 'nostru': 10, 'și-avea': 5, 'adusă': 3, 'deacasă': 1, 'tru': 36, 'tavă': 2, 'găl': 5, 'ină': 3, 'umplută': 2, 'făstăț': 2, 'stafidz': 2, 'orez': 2, 'care': 30, 'chefe': 3, 'dzua': 28, 'nu-l': 33, 'horiatlui': 1, 'aștipta': 8, 's-veadă': 15, ';': 94, 'areapitle': 1, 'ficiorilor': 4, 'cicioarle': 4, 'huzmichiarlor': 3, 'mesea': 4, 'împlină': 4, 'și-u': 11, 'țînu': 8, 'tră': 77, 'acăță': 17, 'putu': 19, 's-aravdă': 1, 'inei': 1, 'e': 120, 'dreaptă': 2, 'partea': 6, 'cama': 74, 'iartă-me': 1, 'doamne': 30, 'mine': 56, 'feci': 1, 'țî': 21, 'ded': 7, 'caplu': 64, 'tine': 105, 'ești': 8, 'ilor': 7, 'voștri': 1, 'vă': 21, 'suntu': 15, 'niște': 26, 'areapite': 2, 'agiutorlu': 1, 'vostru': 3, 'dedu': 1, 'fac': 28, 'în': 95, 'ghios': 1, 'escu': 11, 'mese': 7, 'țînui': 2, 'la': 346, 'arîse': 4, 'mult': 8, 'și-l': 82, 'deade': 46, 'totîna': 10, 'măñile': 5, 'arse': 2, 'țupate': 3, 'guvojdzî': 3, 'petale': 3, 's-țingă': 2, 'pala': 1, 'gioñi': 8, 'și-aco': 3, 'munte': 17, 'sala': 1, 'ș-cu': 24, 'tufechea': 11, 'di-anumira': 1, 's-acață': 7, 'chirîgiadzl': 3, 'p-lă': 1, 'ia': 48, 'lui': 67, 'ficiori': 24, ':': 280, 'cotta': 7, 'cola': 2, 'albul': 5, 'ș-ni': 1, 'ni': 23, 'dauă': 4, 'țimsiră': 2, 'umplură': 2, 'trastile': 2, 'păne': 6, 'eara-mpline': 1, 'își-acățară': 2, 'aumbră': 4, 'groasă': 5, 'diparte': 33, 'calea-mare': 3, 'țeși': 3, 'păndică': 4, 'fățea': 12, 'planuri': 5, 'dzălile': 4, 'trițea': 15, 's-videa': 6, 'de': 40, 'țe': 316, 'cîfta': 2, 'iu': 221, 'teși': 4, 'frică': 30, 's-mină': 9, 's-ducă': 24, 'hoară': 46, '?': 247, 'bre': 21, 'afende': 2, 'dzăse': 8, 'dzățea': 4, 'dada': 2, 'dzățe': 1, 'ore': 21, 'afendi': 2, 'i-u': 27, 'toară': 1, 'așe': 5, 'lăi': 9, 'hil': 101, 's-nă': 6, 'turăm': 1, 'inăm': 1, 'dicăt': 1, 'ñi-u': 8, 'căti': 1, 'lîieț': 1, 'și-așe': 1, 'furi': 12, 'dumidză': 1, 'fu': 30, 'puțăn': 1, 'și-cănd': 2, 'ascăpită': 2, 'doamne-doamne': 1, 'trei': 41, 'dzăli': 1, 'bănară': 1, 'cu-amuri': 1, 's-bitisiră': 1, 'ș-năse': 1, 'hală': 1, 'prindea': 6, 'moară': 8, 's-caftă': 2, 'se-aprucheară': 2, 'cănile': 2, 'ahurhi': 5, 's-alatră': 2, 'ei': 87, 'murare': 1, 'gri': 58, 'γiftul': 3, 'ligat': 7, 'intrară': 8, 'murarlu': 4, 'bîgă': 3, 'trî': 23, 'turtă': 2, 'iar': 61, 'gioñil': 5, 'dinț': 5, 'turta': 3, 'anvirigată': 1, 'ascheri': 2, 'pi-ascumta': 1, 'ascundeț-vă': 2, 'γine': 28, 'ascherea': 3, 'unu': 8, 'tatăl': 12, 'lor': 39, 'nu-apruftusi': 1, 's-ascundă': 1, 'iară': 24, 'moreee': 1, 'săndze': 8, 'au': 8, 'chealea': 12, 'ș-săndzile': 1, 'nu-i': 21, 'efendim': 6, 'ascumt': 1, 'grită': 3, 'vrea': 57, 's-avea': 7, 'ascăpată': 1, 'greai': 1, 'vre': 5, 'glare': 1, 'armasă': 2, 'mini': 3, 'grescu': 11, 's-mi-alăsaț': 2, 'ș-tine': 14, 'gaie': 2, 'hi': 2, 'fur': 5, 'lu-anciupară': 1, 'cîndu': 177, 'lu-adusiră': 1, 'hristolu': 2, 's-lu-ncrăfusească': 2, 'cruțe': 5, 'dușmañil': 3, 'mări': 17, 'le-adusiră': 2, 'na': 41, 'treațe': 8, 'pri-aclo': 3, 's-dirină': 1, 'picurarlu': 20, 's-șuță': 2, 'se-nvîrteaște': 2, 'da': 60, 'dulăi': 3, 'di-avarligalui': 2, 'ș-feațe': 3, 'feațe': 51, 'ș-căleaște': 1, 'cîte': 66, 'hristolui': 4, 'vidzură': 16, 'penurle': 2, 'lipsescu': 1, 'acățară': 23, 'turbațl': 1, 'mutrescu': 13, 'încoa': 11, 'înclo': 12, 'căipe': 1, 's-feațiră': 8, 'penurli': 1, 'nîși': 29, 'more': 9, 'lo': 65, 'șiștisiț': 2, 'ș-vîr': 2, 'putea': 10, 's-dzîcă': 13, 'aduchească': 2, 'tu-ațea': 1, 'γiftu': 2, 'alantu': 29, 'di-aua': 3, 'di-aclo': 7, 'penure': 3, 'căftaț': 2, 'zborlu': 19, 'măcaț': 2, 'inima': 24, 'v-aduc': 2, 'ș-ma': 4, 'buni': 1, 'și-ași': 4, 's-dusi': 1, 'di-adră': 1, 'niști': 4, 'penuri': 1, 'γiftești': 1, 'si-l': 48, 'truplu': 4, 'vidzu': 76, 'maratlu': 10, 'nividzutile': 1, 's-turnă': 17, 'cătră': 32, 'picurar': 18, 'picurare': 6, 'mi': 95, 'vruși': 1, 'furtu': 1, 'mînă': 29, 'tradzi': 1, 'ș-necă': 1, 's-vedz': 4, 's-paț': 1, 'apoia': 44, 'hăire': 1, 's-nu-ai': 2, 'putes': 6, 'pîntica': 3, 'nafoară': 26, 's-imñi': 2, 'totna': 6, 'dispul': 3, 'iat': 1, 'cacurizic': 1, 'di-atumțea': 2, 'γiftamea': 1, 'țe-l': 21, 'dzîc': 18, 'fara': 5, 'tradze': 18, 'nitraptile': 2, 'bun': 28, 'ș-curaț': 2, 's-hibă': 39, 'tehnea': 2, 'mîcară': 3, 'ș-biură': 1, 'noaptea': 30, 'întreagă': 6, 'dimineața': 7, 'vîrnă': 16, 'mîcare': 3, 'hîzîre': 1, 'hearse': 1, 'vîrî': 1, 'dzeațe': 1, 'băgară': 10, 'socoteală': 1, 'somnul': 7, 'mîcarea': 2, 'ș-biutura': 2, 'iarba': 7, 'cal': 18, 'si-și': 18, 'aducă': 7, 'aminte': 14, 'niți': 32, 'hîngilu': 8, 'dzațile': 1, 'oauă': 4, 'se-aspună': 5, 'tiñisit': 1, 'acl': 12, 'iamă': 1, 'ascultă': 2, 'dzimă': 2, 'ima': 2, 's-trei': 1, 'añi': 51, 'noi': 38, 'aveam': 21, 'traptă': 4, 'ñi-aduc': 2, 'multu': 71, 'oaspe': 14, 'i-u-are': 2, 'ved': 32, 'nu-ñi': 25, 'prinde': 11, 'tora': 49, 's-poate': 3, 'aestă': 72, 'călătorl': 2, 'nacă': 5, 'vrei': 16, 's-t-arîdz': 1, 'arîd': 2, 'ș-dip': 1, 'îñi': 15, 'γroși': 4, 'huchiumate': 2, 'zboarile': 2, 'hîngilui': 1, 's-duse': 15, 'di-l': 9, 'alantă': 29, 'viñiră': 8, 'clisile': 1, 'ș-la': 9, 'noauă': 17, 'fața': 12, 'catilui': 1, 'aspuse': 6, 's-mîcă': 15, 'agiumse': 26, 'dzați': 3, 'nîs': 136, 'vrea-ñi': 4, 'dzațe': 4, 'puil': 46, 'cathi': 1, 'veara': 5, 'capite': 20, 'cathe': 9, 'cap': 22, 'treia': 8, 'veară': 2, 's-fac': 9, 'pisti': 2, 'domnule': 4, 'giudicător': 2, 'caftu': 5, 'dicît': 11, 'soi': 2, 'vai': 31, 'catilu': 4, 'armase': 9, 'pri': 237, 'ș-după': 7, 'mutra': 2, 'undzea': 1, 's-da': 9, 'iși': 27, 'ș-di': 13, 'aγoñia': 2, 'avocat': 1, 'chiorlu': 1, 'nastradin-hogea': 1, 'avocatlu': 2, 'călătorlu': 1, 'i-aspuse': 5, 'nastradin': 5, 'cunuștea': 1, 'adastă': 4, 'ș-nastradin': 2, 'acasă': 49, 'lu-află': 2, 'hirbea': 1, 's-γină': 27, 'unășiună': 1, 'grînlu': 4, 'etim': 1, 'agru': 9, 's-lu': 60, 'seamină': 5, 'hertu': 6, 'creaște': 3, 'aγonia': 1, 'cruțea': 5, 'cînd': 32, 'avdzî': 16, 'aeste': 36, 'zboare': 6, 'cîțe': 2, 'amînași': 3, 'ahînt': 7, 'lu-ntribă': 2, 'nîscîntu': 2, 'grîn': 6, 'ș-nu': 28, 'puteam': 7, 'alas': 1, 'pitrec': 5, 'cama-n': 3, 'γie': 7, 'așițe': 12, 'acreaște': 2, 'ș-cama': 6, 'ha': 6, 'drațl': 6, 's-ti': 35, 'glar': 1, 'glari': 1, 'hiț': 2, 'aesti': 2, 'ascîpă': 1, 'bileaie': 3, 'nările': 4, 'dipuse': 12, 'le-adună': 1, 'persie': 1, 'chiro': 8, 'vru': 26, 'știbă': 7, 'cîț': 5, 'u': 148, 'șahlu': 1, 's-năiri': 7, 'foc': 26, 'amirălu-a': 1, 'meu': 32, 'vizirlu': 14, 'dzîlile': 5, 'tricute': 3, 'deadiși': 1, 'paradz': 9, 'mulțî': 9, 'si-s': 1, 'ducă': 3, 's-ț-ancupără': 1, 's-toarnă': 11, 'se-aștergu': 1, 'numa': 11, 'scriu': 1, 'numile': 1, 's-feațe': 26, 'șumuroñlu': 1, 'oarfăn': 7, 'unăoară': 3, 'γiñe': 6, 'hrănea': 1, 'avut': 20, 'șacaie': 1, 'zilipsi': 1, 'aistă': 16, 'sone': 9, 's-plîngă': 7, 'judecător': 1, 'tr-aistă': 2, 'nidriptate': 2, 'judecătorlu': 3, 'atumțea': 38, 'lu-acl': 3, 'pri-avut': 1, 'năiriț': 1, 'aide': 9, 's-ñeardzim': 2, 's-videț': 1, 'zburaște': 1, 'piste': 11, 'noapte': 13, 'avutlu': 4, 'ul': 5, 'i-su': 6, 'înviscu': 2, 'samure': 2, 'ficior': 51, 'ficiorlu': 98, 'năuntru': 4, 'mîne': 28, 'oara': 43, 'optu': 1, 's-γiñim': 1, 's-întribăm': 1, 'cui': 10, 'avutlui': 1, 'dzuă': 55, 'zburătă': 2, 's-dusiră': 6, 's-u': 47, 'întreabă': 14, 'γiñea': 2, 'turlie': 2, 'zăpisti': 1, 'învirinat': 6, 'nidriptatea': 2, 'blăstimă': 1, 'sum': 24, 'loc': 32, 'eta': 3, 'tută': 47, 'luñină': 9, 'veaăd': 1, 'de-atumțea': 5, 'aiștui': 6, 'bată': 2, 'bate': 3, 'flueara': 5, 'prumuveara': 5, 'cîndu-nvirdzăscu': 2, 'vulodzli': 2, 'știi': 31, 'trîși': 3, 'cupiile': 1, 'armîñilor': 1, 'mușat': 1, 'munțî': 10, 'ș-nîs': 12, 'turma': 6, 'zbor': 25, 'calil': 1, 'bătea': 5, 'nă': 293, 'boațe': 15, 'stai': 8, 'si-u-asculț': 1, 'saturi': 2, 'nîsă': 60, 'arupse': 3, 'tufa': 3, 'păduril': 1, 'pul': 4, 'ilu': 33, 's-lu-acață': 3, 'mintea': 35, 'ficiurească': 1, 'alîsă': 2, 'ț-aflași': 1, 'se-alăsa': 2, 'băteare': 2, 'aestu': 60, 'azbuira': 4, 'ma-nclo': 8, 's-bagă': 9, 'se-apunea': 2, 'dădea': 10, 'alaga-fuga': 1, 'cătr-aclo': 1, 'se-andrupă': 1, 'puțîn': 21, 'curmat': 3, 'mortu': 12, 'bagă': 19, 'ș-mușata': 1, 'băetare': 1, 'canda': 41, 'ñiare': 1, 'cădzu': 9, 'somnu': 17, 'fîră': 3, 's-bată': 6, 'γiu': 19, 'dzîțeai': 13, 'că-l': 11, 'tu-agîrșirea': 1, 'durñi': 6, 'andzărească': 1, 'γinea': 35, 'arău': 9, 's-doarmă': 7, 'turmă': 5, 's-ciudusi': 4, 's-mărmurisi': 1, 'di-mprostu': 1, 'cît-cît': 4, 'agîrși': 4, 'și-aua': 2, 'naparte': 11, 'și-altă': 2, 'neise': 1, 'harauă': 26, 'cîtă': 4, 's-dzîți': 1, 'loclu': 25, 'lu': 85, 'încăpea': 2, 'hărisea': 1, 'cîñili': 1, 'uițîle': 1, 'masturlu-nicola': 2, 'luplu': 16, 'iu-l': 4, 'pricade': 2, 'oaie': 1, 'luplui': 1, 'țîne': 4, 'haramu-fai': 1, 'chică': 9, 'ahîntu': 18, 'tr-aestă': 7, 'si-u': 15, 'agiudeai': 2, 'curșumea': 1, 'sîndze': 7, 'n-adră': 1, 'cupii': 1, 'fui': 4, 'io': 33, 'domnu-ñiu': 2, 'viroane': 1, 'iuva-și-iuva': 1, 'ahît': 24, 'ș-lo': 6, 'nividzută': 3, 'sculă': 12, 'i-arucă': 3, 'nu-are': 20, 'viroană': 3, 'u-angană': 3, 'viroana': 6, 's-cîrti': 1, 'videai': 8, 'nicară': 1, 'cirăγile': 1, 'și-alîgă': 2, 'alîgă': 3, 'nu-alîgă': 2, 'zbura': 13, 'ștea': 5, 'viñe': 24, 'căciula': 4, 'diavarliga': 1, 'pricădzu': 2, 'dumnidzale': 4, 'dă-ñi': 10, 'peane': 6, 'tîmbare': 4, 'căciulă': 4, 'zărculă': 3, 'corbu': 1, 'si-ñi': 15, 'alag': 4, 'lailu-ñi': 3, 'armîn': 3, 's-me-adun': 1, 'zîrculă': 2, 'și-astîndză': 1, 'se-acl': 2, 'și-și': 15, 'angană': 2, 'cățaua': 7, 'alinîndalui-si': 1, 'cîtră': 39, 'bunlu': 13, 'dumnidzău': 26, 'u-află': 1, 'și-angănarea': 1, 'cut-cut': 2, 'vir': 3, 'mea': 45, 'ș-cîñil': 1, 'cher': 2, 'vor': 10, 's-l-arucă': 1, 'u-aspune': 1, 'zîrcula': 1, 'ghini': 2, 'aflaț': 1, 'lu-acîță': 2, 'toamna': 3, 'ploiurle': 1, 's-imnă': 2, 'm-anclo': 1, 'acși': 30, 'avdzîi': 4, 'v-aspuș': 4, 'ahîti': 1, 'oarfîn': 2, 'căpăit': 1, 's-alăsa': 2, 'de-avinare': 2, 'de-andzare': 2, 'seara': 24, 'semnu': 15, 'trădzea': 4, 'gugoșlu': 1, 'vimtu': 8, 's-duțea': 11, 's-eara': 1, 'pricea': 1, 'agudea': 1, 's-muleare-sa': 1, 'însurat': 2, 'altu': 31, 'vedz': 29, 'băga': 2, 'intra': 2, 's-tragă': 10, 'lumea': 35, 'aduchi': 13, 'nu-avea': 19, 'adrată': 4, 'avinarea': 3, 'vîră': 18, 'prucuchie': 2, 'barim': 4, 'ñic': 20, 's-nu-apucă': 1, 'torlu': 7, 'tată-sui': 8, 'dzîțeam': 1, 'dicara': 7, 'avinătorlu': 1, 'că-ncarcă': 2, 'noastră': 7, 'se-apruche': 6, 'ș-acl': 1, 'mul': 49, 'fațe': 28, 'eare': 18, 'feciu': 11, 'ș-u-arucutii': 2, 'bana': 18, 'proñi': 2, 'ș-el': 7, 'calea': 46, 'dupu': 11, 's-mor': 9, 's-li': 9, 'eai': 10, 'patrudzăț': 5, 'guve': 1, 's-le-ascundzî': 1, 'tra': 50, 'și-ncl': 1, 'ise': 9, 'ocl': 57, 'il': 25, 'trapse': 16, 'lu-ngrupară': 2, 'țe-și': 2, 'earea': 12, 'cara-l': 2, 'plîmse': 10, 'cornu': 2, 'grairle': 1, 'bărbatu-sui': 2, 'mutrea': 17, 'tehne': 3, 'rauă': 2, 'cum-ți-s-hibă': 2, 'ș-u-are': 2, 'scoasă': 6, 'pînea': 4, 'ficiorlui': 6, 'lucurlu': 3, 'se-aștira': 1, 's-aibă': 7, 'tufechi': 12, 'cordzî': 3, 's-ampatrulă': 2, 'pădurle': 2, 'ș-munțîl': 1, 'n-avea': 1, 'fărină': 1, 'hămbare': 1, 'sicletisea': 1, 'dip-ș-dip': 1, 'mă-sa': 36, 'maică': 1, 'adra': 2, 'tată-ñiu': 9, 'prota': 9, 'i-aspună': 3, 'videa': 9, 'seamne': 4, 'bune': 7, 'căra-l': 1, 'bană': 9, 'se-aurî': 1, 's-ñi-apuñi': 1, 'le-are': 2, 'armatle': 4, 's-mi': 34, 'duc': 9, 'avinare': 4, 'mărata': 11, 'șuță': 8, 'u-avea': 1, 'acățată': 3, 'γumarlu': 4, 'se-ascapă': 5, 'maninte': 6, 'le': 8, 'le-aștearse': 2, 'le-aumse': 3, 'ș-mușeat': 7, 'de-anumirea': 3, 'ia-ț-lu': 2, 's-dipărtă': 2, 'de-acasă': 4, 'veade': 12, 'mușeat': 21, 'arbure': 3, 'agudeaște': 1, 'tragă': 2, 'soț': 18, 'imnară': 17, 'bătură': 4, 'văl': 8, 'iuri': 18, 'păduri': 11, 'grei': 5, 's-află': 17, 'avinat': 2, 'agiumsiră': 12, 'pădurea': 8, 'țînea': 12, 'aușaticlu': 3, 'vîrnu': 37, 'călcată': 1, 'cutidza': 5, 's-intră': 5, 'aoa': 30, 'lamñe': 13, 'avigl': 5, 'avdza': 3, 'calcă': 8, 's-aurñea': 1, 'pălatea': 5, 'trastul': 1, 'gol': 6, 'tra-țea': 1, 'alîntor': 1, 'intru-m': 2, 'pădure': 16, 'naca': 2, 'aflu': 4, 'me-am': 1, 'turnată': 5, 'necă': 5, 'am': 43, 'pădurea-laie': 3, 'va-și': 1, 'cheară': 7, 'prit': 32, 'ureacl': 6, 'i-intra': 1, 'soțl': 6, 'cara': 42, 'vîr': 8, 'trop': 3, 'alăsară': 3, 'dusiră': 3, 'iu-mușeat-de-avinător': 5, 'si-nhipse': 4, 'și-ți': 2, 's-iasă': 14, 'drășcl': 2, 'și-na': 2, 'ma-n': 3, 'sus': 36, 'ursă': 8, 'buval': 2, 'ș-fricoasă': 2, 'lamñea': 18, 'se-astrapse': 2, 'hii': 33, 'cutedz': 1, 's-ñi': 17, 'calțî': 1, 'ș-umple': 1, 'fechea': 2, 'ună-ș-ună': 3, 'ș-amină': 2, 'în-cot': 1, 'chirea': 3, 'milăñile': 1, 'îm-pade': 5, 'nu-acăța': 1, 'pliumbul': 2, 'lămñile': 2, 'nu-au': 1, 'ș-ninga': 5, 'guli': 1, 'fușechile': 2, 'goada': 1, 'ți-l': 8, 'cădea': 8, 'greaște': 23, 's-ți': 1, 'mîcă-mi': 1, 'dzîțe': 45, 'singurlu': 2, 'ficiorlu-a': 3, 'și-ñi': 13, 'pari': 2, 'gione': 31, 'aspuñi': 6, 'ți-apufusiși': 1, 's-aruț': 1, 'dzîț': 13, 'ertu': 4, 'mîc': 1, 'știu': 32, 'tată-tu': 3, 'irtatlu': 2, 'duml': 1, 'eartă-l': 1, 'dată-i': 1, 's-aviñi': 1, 'bili': 3, 'ursa': 2, 'vătămată': 2, 'se-aștipta': 5, 'veadă': 16, 'turnat': 1, 'vășil': 10, 'elu': 16, 'va-l': 19, 'mușeatile': 2, 's-u-aducă': 2, 'dhoară': 1, 'vindzî': 1, 'vindu': 6, 'u-aduc': 1, 'umplu': 3, 'de-ahîț': 1, 'te-am': 2, 'pîne': 10, 'minuta': 4, 'ñ-ai': 1, 'aduțeare-aminte': 2, 'ș-aestu': 6, 'nicunuscut': 3, 'pișcheșe': 6, 'mușeată': 14, 'cuvenda': 1, 'γinate': 1, 'lu-arușnă': 1, 'întră': 1, 'țea': 12, 'să-nțapă': 1, 'fitil': 1, 'să-l': 10, 'dzîcă': 11, 's-aveai': 1, 'griră': 6, 'pălate': 18, 'dimîndă': 8, 'avdzî-ncoa': 1, 'ți-adusiși': 2, 's-ñi-aduț': 3, 'ș-puil': 2, 'hrisusit': 3, 'al': 80, 'iumtrea': 7, 'fudze': 1, 's-mindui': 18, 'frîmse': 2, 'hrisusiț.': 1, 'duse': 26, 'spindzură': 3, 'buț': 1, 'una': 3, 'umpl': 3, 'cinușe': 8, 'ș-alantă': 1, 'apă': 31, 'γină': 8, 'se-adapă': 1, 'mîna': 15, 'ș-acață': 4, 'sănătate': 4, 'azboairă': 3, 'urdie': 1, 'brutea': 1, 'vrură': 10, 'trac': 3, 'ță': 1, 'lu-acăță': 2, 'unlu': 9, 'se-aveare': 1, 'mușeata-loclui': 8, 's-poartă': 1, 's-faț': 3, 'ș-mușeata-loclui': 1, 's-ñi-u-aduț': 1, 'te-aspindzur': 1, 'fuga': 5, 'năpoi': 10, 'lamnea': 1, 'zdrudea': 2, 'lu-nviță': 6, 'her': 5, 'veargă': 6, 'se-andoapîră': 2, 'tu-ascăpitata': 1, 'soarilui': 1, 'se-aproache': 7, 'șuța': 1, 'friptal': 5, 'mîșcături': 1, 'minută': 5, 'mîcă': 39, 'aproape': 9, 's-apruche': 2, 'bună-ț': 2, 'lalo': 4, 'viniși': 2, 'nipoate': 5, 'cu-aeste': 2, 'nifînătilu': 1, 'tease': 3, 'brațîle': 2, 'ah': 4, 's-avearim': 1, 'vîră-ndoi': 1, 's-mîț': 1, 'hiu': 13, 'ningă': 38, 'fîrtaț': 1, 'dol': 24, 'loară': 14, 'largu': 8, 'aroacute': 2, 'marea': 5, 'lișureață': 1, 'thiriulu': 11, 'i-agiumse': 1, 'hiliu-mușeat-de-avinător': 1, 'încărcat': 3, 'cu-ahînte': 1, 's-poț': 2, 's-aladz': 1, 's-are': 2, 'vidzută': 10, 'avdzîtă': 6, 'ș-io': 30, 'piul': 1, 'duț': 12, 'ilu-de-avinător': 1, 'mîcă-multu': 2, 'alumtă-căl': 7, 'deadiră-nclo': 1, 'învițat': 1, 'preaγalea': 1, 'sătut': 1, 'imnatic': 1, 'de-a': 9, 'priste': 10, 'lac': 1, 'durñea': 10, 'țe-adari': 1, 'nu-ai': 4, 'păreacl': 1, 'macă-i': 7, 'acșițe': 20, 'ș-nu-am': 1, 'avde-tute': 3, 'numă': 9, 'fărtaț': 5, 'patrul': 2, 'patru': 9, 'se-aspune': 1, 'arîu': 21, 'faț': 11, 'me-agioc': 2, 'treacă': 8, 'nu-am': 8, 'întunicară': 1, 'șidea': 17, 'tes': 5, 'avde': 3, 'vreavă': 4, 'd-iu': 19, 'ișea': 9, 'vreava': 2, 'cura': 4, 'vultur': 3, 'ș-ună': 7, 'γeaspe': 4, 'furnigă': 5, 's-încăcea': 1, 'aflată': 2, 'leșe': 2, 'multa': 1, 'γeaspil': 1, 'furnigăl': 1, 'armasiră': 3, 'treile': 3, 'suflite': 2, 'îmunate': 1, 'vulturlu': 8, 'furniga': 4, 'γeaspea': 7, 'peană': 3, 'va-ñi': 11, 'ai': 31, 'ananghea': 3, 'te-afli': 1, 'strimtură': 1, 'aprinde': 6, 'peana': 6, 'γin': 21, 'acșițe-l': 1, 'pe-aradhă': 2, 'deadiră': 10, 'ș-aștiră': 1, 'ea-nveastă': 1, 'dau': 26, 'elui': 1, 'hoara-ț': 1, 'ș-apoia': 10, 's-aspuneț': 2, 'giunețle': 2, 's-vă': 17, 'tăi': 3, 'minduescu': 4, 'ți-aduc': 1, 'giuvapea': 1, 'si-ntreabă': 1, 'îngl': 6, 'ita': 3, 'dipriună': 7, 'vîrnăoară': 5, 'nu-s': 13, 'șicaie': 5, 'lu-aduse': 2, 'muma': 15, 'ali': 37, 'feate': 13, 'dininte': 3, 'pîñile': 1, 'tac-tuc': 2, 'dipină': 1, 'nu-și': 2, 'sătură': 2, 'nifînătitlu': 2, 'aruptul': 2, 'nu-aveț': 1, 'întribă': 22, 'lî': 20, 'scoate': 12, 'ș-dzîse': 2, 'vidzui': 14, 'luγria': 1, 'mes': 5, 'cale': 39, 'fîntînă': 4, 'isa': 1, 'ț-u': 9, 'feata': 86, 'sînătate': 5, 'na-l': 16, 'fudzea': 11, 'vimtul': 11, 'aγoñea': 6, 'închisiră': 3, 's-ță': 16, 's-ascuchi': 4, 'vaslu': 3, 'apa': 13, 'de-amalamă': 3, 'trag': 6, 'somn': 2, 'frătic': 7, 's-me-antrițeare': 1, 'lu-are': 2, 'acață': 10, 'soțu-su': 4, 'cheare': 7, 'de-amînă': 2, 'țe-avdza': 2, 'morțîl': 3, 'durñițl': 2, 's-videm': 3, 'zburăscu': 3, 's-tease': 2, 'împade': 6, 'ciuli': 2, 'doarme': 2, 'coațe': 1, 's-agiuca': 3, 'di-ngl': 1, 'surghindalui': 2, 'arîulu': 11, 'și-apoia-l': 1, 'vumea': 1, 'poț': 8, 'diștepțî': 2, 'stăi': 3, 's-dișteaptă': 3, 'upărit': 1, 'surghi': 1, 'întreg': 4, 'slăghi': 1, 'alumtă': 1, 'căl': 5, 'ț-ul': 4, 'amol': 1, 'lu-arăți': 1, 's-astrapse': 2, 'împrostu': 7, 'friptu': 2, 'căftă': 7, 'vas': 1, 'se-avea': 11, 'virsată': 3, 'alant': 1, 'tricu': 22, 's-umplă': 2, 'agiundze': 8, 'agiumtă': 1, 'cicior': 8, 'pr': 1, 'cu-alantu': 3, 'hoara': 12, 'mușeatil': 2, 'ei-a-loclui': 1, 'patru-țințe': 2, 'oare': 2, 'naintea': 4, 'thiriului': 1, 'acumtinată': 3, 'ș-cu-aestă': 1, 'giucăreale': 1, 'ș-că': 7, 'de-aradă': 1, 'ligătură': 2, 'greu': 9, 'si-mpartă': 2, 's-minduia': 5, 'sufsească': 1, 'poată': 5, 'avinător': 1, 's-ñi-aducă': 1, 'gură': 23, 'apa-γie': 2, 'athanată': 4, 'de-aflăș-tine': 1, 'fure-că': 1, 'apă-γie': 7, 'de-ahtare': 1, 'sta': 18, 'ciuciteaște': 1, 'scol': 3, 'cură': 10, 's-fure-că': 2, 's-lți-aducă': 2, 'moarte': 12, 'ahtare': 25, 'de-alantă': 3, 'parte': 16, 'vrea-l': 2, 'tornu': 2, 'poate-poate': 3, 'se-aleapidă': 1, 'nior': 8, 'paște': 3, 'divarliga': 4, 'andzăreaște': 2, 's-aurñeaște': 1, 'lu-acață': 2, 'ș-l': 15, 'i-ul': 1, 'puciclu': 1, 'împlin': 5, 'aduțe': 2, 's-turna': 4, 'doamnă-sa': 1, 'păța': 2, 'armănea': 1, 'cădzut': 2, 'tu-acățarea': 2, 'imnînda': 2, 'nu-azbuirînda': 2, 'ș-amînă': 2, 'nu-ț': 8, 'alt-țiva': 1, 'numa-l': 3, 'hîmbare': 3, 'gongale': 2, 'mel': 20, 'ordzu': 1, 's-lu-aledz': 1, 'ahorγea': 3, 'ordzul': 3, 'ș-alante': 1, 'iase': 5, 'de-aclo': 18, 'ia-u': 1, 'ñicăza-n': 1, 'față-l': 1, 'lișor': 5, 'ș-aduse': 4, 'soațăle': 1, 'furnigamea': 3, 'și-mpărțî': 2, 'lucrulu': 5, 'de-adoară': 4, 'feata-ț': 2, 'du-te': 19, 'ea-u': 3, 'e-mea': 2, 'mușeate': 11, 'aduc': 1, 'arîdea': 1, 'mustăț': 1, 'murafețle': 1, 'γininda': 3, 'gaileie': 1, 'aților': 1, 'înțap': 1, 'mutreaște': 8, 'pe-aradă': 1, 'luna': 9, 'ș-ca': 7, 'stealile': 11, 'soarle': 10, 'ș-li': 3, 's-cheară': 4, 'scriata': 1, 'mușeate-a-loclui': 1, 's-mărită': 2, 'e-sa': 2, 'doaule': 4, 'bășe': 6, 'ș-ficiorlu': 1, 'frîmte': 2, 'grai': 4, 'duțeț-vă': 3, 'să-ñi': 2, 'bînaț': 1, 's-v-avdu': 1, 'ghinețle': 1, 'fugă': 12, 'lucrile': 9, 'ahărdzite': 1, 's-nu-l': 16, 'frîngă': 1, 'dumnidză': 10, 'ș-tora': 10, 'ilu-mușeat-de-avinător': 1, 'ș-u-ncrună': 1, 's-aprinde': 1, 'vatămă': 7, 'aești': 6, 'thiriu': 1, 'mume-mea': 1, 'ș-cari': 1, 'ș-mîcă': 5, 'tal': 10, 'îli': 2, 'scîpită': 2, 'strañe': 17, 'armate': 1, 'diñică': 2, 'gionile': 20, 'se-afla': 6, 's-alină': 2, 'scamnu': 5, 'amiră': 26, 'amiroañe': 3, 'ș-bînară': 2, 'ș-earam': 1, 'aduțeam': 1, 'brîn': 5, 'fustanelă': 3, 'țăruhi': 2, 'iatină': 2, 'trițeam': 2, 'sîlghiră': 2, 'cîñil': 6, 'gap-gup': 7, 'păru': 7, 'țăruhile': 1, 'hicate': 7, 'brînlu': 3, 'mață': 2, 'fustanela': 3, 'plăstură': 2, 'de-aoa': 9, 'ñi': 19, 'le-arupsiră': 1, 'ș-ñi': 1, 'lumea-ntreagă': 2, 'se-aspunea': 3, 'gura': 18, 'hăsca': 1, 's-thămăsea': 1, 'fratile-a': 8, 'zămane': 4, 'cari-ști': 6, 'bunăoară': 4, 'prîndzul': 4, 'vini': 2, 'vizire': 1, 'fluria': 5, 'estă': 13, 's-ñi-adari': 1, 'ișiși': 1, 'flurie': 11, 's-ñi-acumpări': 1, 'birbec': 4, 's-ul': 1, 'măcă': 1, 's-fațe': 11, 'ș-cîrnoasă': 3, 'ș-lăptoasă': 3, 'fățeare': 1, 'va-ț': 5, 'bea': 16, 'curcubeta': 1, 'aduchiși': 1, 'aduchii': 2, 'mărite': 3, '(': 8, 'oile': 11, 'oi': 8, 'lipsească': 1, 'săturat': 1, 'spindzurat': 5, 'canda-l': 3, 'alăgă': 4, 'scoată-n': 2, 'se-astăl': 2, 'oară-bună': 2, 'buneață': 4, 's-ai': 8, 'aușlui': 2, 'tățea': 3, 'ea-mi': 1, 'căvală': 10, 'eau': 9, 's-tradze': 3, 'aușlu': 24, 'mutri': 10, 'mintea-l': 2, 'hursească': 1, 'mihali': 1, 'măratlu': 14, 'giuglu': 3, 'zbor-zbor': 4, 'cupăsi': 1, 'aoațe': 5, 'feată': 61, 'diștiptată': 2, 'tată-su': 26, 'oaspile': 7, 'pare': 8, 'scînduri': 2, 'fure': 4, 'ia-ș-ia': 1, 'glăriñi': 1, 's-mi-ncaliăc': 2, 's-lu-ncalic': 2, 'scutem': 3, 'lișorl': 1, 'macă': 21, 'zburî': 1, 'greil': 1, 'scoatiț': 1, 'pară': 1, 'nătheam': 1, 'scl': 3, 'ioapică': 2, 'ș-tăl': 1, 'bună-i': 1, 'casa': 28, 'ugeaclu-i': 3, 'strîmbu': 5, 's-grească': 3, 'mințî': 1, 'ș-easte': 1, 'taman': 5, 'ș-lu-avdzî': 2, 'fumlu': 2, 's-duțe-ndreptu': 2, 'udă': 11, 'să-ndreagă': 3, 'measa': 4, 's-filipsească': 1, 'aestă-i': 2, 'păriguria': 1, 'grai-grai': 1, 'muri': 20, 'chirută': 2, 'didinte': 2, 'erțî': 2, 'feata-ñi': 2, 'casa-i': 1, 'ma-ndreptu': 1, 'ugeaclu': 2, 'dzî': 4, 'tată': 28, 'șcl': 4, 'ioapă': 1, 'ioapic': 1, 'de-ațea': 4, 'că-ñi': 8, 'penură-n': 2, 'vidzuși': 1, 'grii': 3, 's-dzîțem': 4, 'că-i': 10, 's-avdzî': 1, 'azi': 7, 'țe-ntribă': 1, 'arîs': 2, 'hrii': 2, 'ș-aoa': 2, 'moarte-l': 2, 'poartă': 11, 'nu-alasă': 2, 's-nu-alasă': 2, 's-alăstare': 1, 'de-alihea': 5, 'alagă': 8, 'γitrie': 2, 'asculta': 2, 'uși': 4, 'părintile': 1, 'le-avdzî': 1, 'cicioarele': 1, 'ș-nîsă': 11, 'ariptle': 2, 'dișteptu': 5, 's-țînă': 2, 'ș-u-ntribă': 1, 'feata-l': 2, 'tată-ñui': 2, 'țîia': 5, 'cicioare': 3, 'ananghe': 5, 's-tradz': 1, 'ărichile': 1, 'featile': 8, 'him': 23, 'arichi': 2, 'azbuirăm': 2, 'ș-nă': 7, 'fățem': 2, 'casă': 39, 'grî': 2, 'ahîte': 10, 'dai': 15, 'ia-și-ia': 2, 's-adar': 7, 'vilendză': 5, 'flucată': 1, 's-acumpăr': 2, 's-ñi-arîmănă': 1, 'acumpără': 2, 'armîñi': 4, 'nitumtu': 1, 'tunde': 1, 'birbeclu': 2, 'lîna': 5, 'dă-ñi-u': 2, 's-u-nțas': 2, 'tu-arăzboi': 1, 's-ț-adar': 1, 'flucate': 1, 'vindză': 1, 'ș-una': 1, 'țîñi': 4, 'vilendza': 1, 'avdzîndalui': 4, 'căscată': 8, 'înviță': 7, 'strease': 3, 'se-aspună-ndreptu': 3, 'ațilui': 4, 'tinir': 8, 'diștiptăciunea': 1, 'featil': 16, 'înveastă': 8, 'si-ncrunară': 2, 's-loară': 5, 'multu-puțîn': 4, 'polim': 9, 'șuiră': 6, 'caselă': 1, 's-dizvulusească': 1, 'vula': 3, 'peril': 1, 'să-nviscu': 2, 'bărbătești': 2, 'hăbare': 8, 'și-apoia': 8, 'închisi': 10, 'oaste': 3, 'taha': 10, 'agiutor': 2, 'ș-avea': 4, 'băgată': 2, 'nică': 8, 's-bătea': 2, 'dușmanlu': 3, 's-acățară': 2, 's-gioacă': 8, 'cărțî': 2, 'giocurle': 2, 'dinafoară': 1, 'bătu': 4, 'dizvulusi': 2, 'casela': 1, 'amirăroañea': 8, 'chirătoañe': 3, 'se-alăsă': 7, 'bătută': 3, 'se-adră': 3, 'fitești': 4, 'amirălui': 18, 'gioc': 3, 'calu': 12, 'alăntui': 4, 's-lu-ncalică': 1, 'dzîle': 25, 'iapa': 1, 'pitricu': 10, 'scărchi': 1, 'na-ț-ul': 4, 'ș-amirălu': 4, 'merlu': 2, 'aroșu': 1, 'ali-nveaste': 1, 'dimîndăciuñile': 1, 'meale': 4, 'țe-adrași': 1, 'ți-ñi': 6, 'dimăndași': 2, 'adrai': 2, 'bărbate': 4, 'acși-l': 1, 'andămusi': 1, 'arîslu': 7, 'budză': 4, 's-păli': 2, 'mindui': 2, 'sirmae': 1, 'zboarlie': 1, 's-armînă': 2, 'greauă': 12, 'chiruta': 1, 'aducheaște': 1, 'ghina': 1, 'cheatră-n': 2, 'mata': 2, 'seaspune': 1, 's-agiura': 1, 'si-ntriba': 1, 'ș-mi': 3, 'duș': 2, 's-u-ntreb': 2, 'luγrie': 1, 'părăvulia': 2, 'arape': 6, 'v': 3, 'aspuș': 4, 'ș-avoauă': 2, 'putui': 3, 'vombira': 6, 'ș-eara': 8, 'celnic': 4, 'duzină': 1, 'ahîț': 2, 'ș-ardea': 1, 'mărațl': 7, 's-culca': 2, 'ș-a': 8, 'tu-apirită': 8, 'scula': 6, 'să-ncl': 2, 'ști': 2, 'las': 9, 'ș-vombiră': 1, 'vrem': 2, 'hibă': 16, 'laie': 10, 'și-ațel': 1, 'feată-vobiră': 2, 'c-amintară': 1, 'văsilie-ntreagă': 1, 'se-amintă': 4, 'l-arîdea': 2, 'țerlu': 9, 'cîndu-i': 1, 'tricură': 11, 'trei-patru': 3, 'iapile': 3, 'minte-n': 2, 'lup': 1, 'drac': 7, 's-il': 3, 'i-aduțea': 2, 'chel': 1, 'ile': 15, 'de-ația': 3, 'zghilea': 2, 'lu-ncăpea': 2, 'gazepe': 2, 'vălmălu': 4, 'furlu': 3, 's-dzîț': 6, 'de-aeri': 2, 'de-aoaltari': 1, 'ahînțî': 2, 's-plîmse': 2, 'domnu-su': 3, 'scoată': 7, 'căpestrulu': 1, 's-avegl': 1, 'marile': 2, 'fă-l': 1, 'e-avigl': 1, 'ñeadză-nopțî': 2, 's-vidzu': 6, 'te-adoară': 1, 's-deade': 1, 's-agîrșească': 2, 'nătheamă': 3, 'dzîțea': 11, 'zulapea': 1, 'și-nclo': 2, 'agîrșî': 1, 'negură': 4, 'îndisată': 3, 'anvîrligă': 1, 'maslu': 2, 's-trapse': 2, 'niorlu': 1, 'iape': 7, 'măratle': 3, 'înveaste': 3, 'ñila': 6, 'sculîndalui': 1, 'se-astindzea': 2, 'foclu': 10, 'lăiața': 2, 'zore': 11, 'se-apiră': 1, 'de-a-ghinealui': 1, 'cîrtit': 1, 'creapă': 4, 'de-anda': 3, 'chiderea': 2, 's-bînăm': 2, 'doua-dz': 4, 'lăeață': 1, 'culcă': 2, 'țată': 1, 'tu-apirita': 1, 'diștiptîndalui-si': 1, 'pățî': 10, 'frati-su': 2, 'mîrșe': 1, 'durea': 8, 'i-eara': 7, 'frațl': 8, 's-aveagl': 1, 'alasă': 11, 'pată': 3, 'torñi': 1, 'țimse': 1, 'pălăștile': 1, 'apala': 5, 'gușe': 17, 'năinte': 14, 'lu-nviștea': 2, 'dorlu': 7, 'cripă': 3, 'ș-na-ț-u': 2, 'negura': 2, 'ș-niorlu': 2, 'chisa': 2, 'se': 28, 'ñiclu': 20, 'e-are': 2, 'zmuldze': 3, 'dîldăseaște': 2, 'se-anciupă': 2, 'tufă': 2, 'ș-dă': 3, 'dă': 11, 'scoate-n': 1, 'mîñile': 11, 'gionilui': 1, 'nîpoi': 14, 'cumu-și': 2, 'arcarea': 2, 'lăvui': 1, 'dzidzitic': 1, 'tihisi': 1, 's-bătu': 1, 'ș-cum': 11, 'spunea': 2, 'ș-arcă': 2, 'ñica': 1, 'sărmăniță': 3, 'diñic': 3, 'nîsă-i': 6, 'pupu-pu': 1, 'v-adari': 3, 'zghili': 6, 'ș-lu-acățară': 3, 'țînură': 4, 'alăgă-alăgă': 1, 'xeane': 14, 'alăsă': 3, 'nealăgat': 1, 'prumuveară': 2, 'si-nsurina': 2, 'soare': 12, 'părințî': 5, 'tutipută': 3, 'lăcriñile': 12, 'ș-lu-arupse': 1, 'plîngu': 13, 'jil': 1, 'ios': 1, 's-doare': 3, 'loclu-ț': 1, 'vatra': 2, 'părintească': 2, 's-dor': 1, 'oamiñl': 1, 'l-iundară': 1, 'lișură': 1, 'fitarea': 1, 'țe-ñi': 14, 'feațiși': 7, 'semnul': 2, 'angusă': 1, 'aprinde-l': 3, 'ș-aclo': 8, 'me-aflu': 3, 's-ț-agiut': 1, 'limba': 5, 'si-ș': 1, 's-bea': 7, 'chetre': 1, 'ș-de-alantă': 1, 'seate': 4, 'umple': 1, 'per': 9, 'ea-l': 3, 'perlu': 13, 'ananghie': 2, 'imnă': 14, 'ș-deade': 2, 'lupoañe': 2, 'o-ascăpă': 1, 'ș-ea': 9, 's-o-acl': 1, 'gione-n': 1, 'se-arupse': 1, 'ergu': 2, 'le-adră': 1, 'casă-l': 1, 'te-aspăreai': 1, 'tățeare': 3, 'cîñi': 6, 'avlie': 4, 'dip': 9, 'nu-apucă': 1, 'scara': 3, 'na-ț-u': 3, 'se-aspăre': 2, 'γunusi': 2, 'vasile': 2, 'cîndu-l': 12, 's-lu-anduplică': 1, 'aplan': 2, 'ș-hoara': 6, 'dințîl': 7, 'tăpsia': 1, 'furculița': 1, 's-te-agioț': 2, 's-γin': 2, 'ducu-n': 2, 'țilar': 6, 's-mîcăm': 1, 'fudzi': 7, 'iu-ț': 3, 'șoaric': 4, 'mărate': 2, 'mîșcătură': 3, 'umpli-ț': 1, 'zmeana': 3, 'ieși': 3, 'buhare': 3, 'spindzură-ț': 2, 'lea-ț': 1, 'șoariclu': 3, 'zdrang': 3, 'tăpsie': 1, 'asuna': 7, 'turnîndalui': 1, 's-aveadă': 1, 'dulăchi': 1, 'părțîle': 6, 'zmeanile': 2, 'cînile': 20, 'sîrgl': 6, 'arapsa': 2, 'ungl': 7, 's-lu-arapă': 2, 'arupeare': 2, 'cinușa': 1, 'ș-vidzu': 1, 'videala': 1, 'zurla': 2, 'pluchi': 1, 'se-angîrlimă': 1, 'aγonea-aγonea': 1, 'surpă': 5, 'pluplu': 4, 'loa': 11, 's-cadă': 2, 'se-arca': 1, 'pre-alantu': 1, 'doi': 38, 'bobo': 2, 'măratlu-ñi': 3, 'vombiră': 2, 'dinăoară': 4, 'i-ascăpiră': 1, 'undară': 1, 'mînearlu': 1, 'le-aprease': 1, 'ia-le': 2, 'zulăchile': 11, 'iu-și': 2, 'sssî': 1, 'făși-făși': 5, 'scuteț': 1, 'eale': 2, 'se-aurñiră': 3, 'țîneț-u': 4, 'plup': 3, 's-dipunea': 6, 'părințîl': 9, 'prăvdzîle': 4, 'duñeauă': 1, 'mîcai': 1, 'zulăchilor': 3, 'scoasiră': 9, 'nu-armase': 1, 'tăl': 19, 'eat': 4, 'plăndzea': 2, 'lăcriñle': 2, 'pruna': 3, 'moartea': 5, 'părințîlor': 4, 'părigurie': 1, 'seului': 1, 'chicută': 4, 'seu': 3, 'cuțur': 1, 'pluchil': 1, 'alanțî': 7, 'ș-viñiră': 1, 'aumse': 1, 'înγeară': 2, 'soea': 2, 'tutiputa': 4, 'v-aspuneam': 1, 's-aveț': 3, 'hatră': 1, 'zlăchilor': 1, 'ș-părințîl': 4, 's-bînedz': 2, 'ne-ascăpași': 2, 'bunile': 4, 'saclu': 3, 'gionului': 2, 'l-ascăpă': 1, 'se-ascăpă': 1, 'staț': 3, 'daț-le': 1, 'le-arap': 2, 'ș-fac': 2, 's-me-acață': 2, 'me-avinară-avinară': 2, 'agiumșu': 4, 'me-acață': 1, 'le-arunc': 1, 'ș-lă': 3, 'luγuria': 4, 'loaț': 5, 's-turnară': 4, 'acasă-lă': 1, 'viñiu': 5, 'aspun': 4, 'voauă': 3, 'părămithlu': 4, 'ș-altu': 1, 'țeațirle': 3, 'nu-aminta': 1, 'îm-brață': 1, 'însuraț': 2, 'nipoț': 1, 'l-armănea': 1, 'aeșțî': 1, 'seară': 15, 'dă-nă': 4, 'părăcălia': 1, 'ș-alas': 1, 'ș-cît': 3, 'căftărle': 1, 'țeațire': 13, 'numățiră': 1, 'tata-su': 2, 's-airă': 2, 'muma-l': 1, 'cripa': 2, 'ș-căñisea': 1, 'ș-avdzî': 1, 'arsări': 3, 'crechi': 2, 'mamă': 9, 'scumplu': 1, 'mume': 1, 's-hiu': 4, 'pot': 9, 'i-l': 1, 'țe-ai': 2, 'γumar': 13, 'angătan': 3, 'în-calar': 2, 'arsărea': 5, 'γumarlui': 1, 'grea': 6, 'pravatos': 2, 'prîî': 2, 'uș': 2, 'schină-l': 2, 'căpul': 4, 'ie': 5, 'strañile': 5, 'haralauă': 1, 'agiumsiși': 1, 's-aduț': 1, 'prîndziră': 1, 'mușeat-mușeat': 1, 'dizjugară': 1, 'boil': 1, 'se-apusiră': 1, 'tu-aumbrată': 1, 'coacă': 2, 's-treacă': 11, 'aγia': 1, 'căroaril': 1, 'mirinde': 2, 'apîrñi': 3, 's-avreadză': 2, 'se-anduplică': 1, 'arsărinda': 1, 'bou': 1, 'agrulu': 1, 'prima': 1, 'cărvane': 2, 'boi': 1, 'airare': 2, 'ș-aestă': 9, 'le-avdza': 2, 'aira': 1, 'cărvănarl': 2, 'căftară': 1, 'de-arîdeare': 1, 'boea': 1, 'a-ñia': 1, 'suflitli': 1, 'hicatile-a': 1, 'vedu-ntr-ocl': 1, 'stătea': 5, 'groșl': 4, 'i-adră': 2, 's-nu-ț': 3, 's-aduchească': 2, 's-duțe': 3, 'ascumta': 3, 'groșli': 1, 'unui': 7, 'strigarea': 3, 'alăsa': 3, 's-lișina': 1, 'arisute': 1, 'ș-o-avea': 2, 'armas': 2, 'singur': 16, 'calvi': 1, 'cumu': 4, 's-băligă': 2, 'mulă': 4, 'baligă': 1, 'țeațirte': 3, 'mutus': 2, 'frica': 5, 'mutriră': 4, 'madzîre': 1, 'u-angănară': 1, 'dipu': 1, 'dzeană': 5, 'u-adună': 2, 'calea-calea': 7, 'pom': 3, 'preftu': 9, 'teasă': 1, 'țeașire': 2, 'aγalea': 4, 'pre-aγalea': 3, 'duțe': 7, 'huhuteaște': 2, 'acățaț': 2, 'preftul': 13, 'bilim': 1, 'sturnarea': 1, 'păpuțăle': 1, 'ș-acață-l': 2, 'liturγii': 2, 'arbines': 2, 'trastu': 3, 'domnu': 5, 'pravdăl': 2, 'cuțachea': 2, 'sumar': 1, 'su-aumbrata': 2, 'pomlui': 2, 'ș-aiștui': 3, 'mădularile': 1, 'arbineslui': 1, 'cîtră-n': 3, 'dă-l': 19, 'le-aflași': 2, 's-le-aflu': 1, 'liturγiile': 1, 'ciurlu-păpă': 3, 'fluriile': 2, 'niși': 2, 'le-amintă': 1, 'furată': 3, 'ñi-earam': 1, 'ș-a-ñia': 2, 'v-acumpărai': 3, 'vinită': 2, 'iră': 1, 'minciună': 7, 'pap': 9, 'marle': 6, 'dzîțem': 3, 'mitu': 1, 'mitlu': 2, 'se-acumpără': 1, 'ciurlu-păpălu': 1, 'vindeare': 2, 'păradz': 4, 'vinde': 1, 'aspuneari': 1, 'aspunearim': 1, 'isape': 3, 'chirutlui': 1, 'γiptul': 1, 'zgărmaț': 1, 's-ligară': 2, 'cărvănarlu': 4, 'protlu': 2, 'cărțîneaște': 1, 'hane': 3, 'ti-nchidicai': 1, 'tihilailu': 1, 'chirutlu': 5, 'eee': 1, 'ou': 1, 'me-alinai': 2, 'ș-bărțire': 1, 'cărciliu': 2, 'oului': 2, 'hima-nghios': 2, 'chețri': 4, 'ș-pri': 8, 'bărțiri': 1, 'arucutea-te': 3, 'oulu': 4, 'disica': 1, 'arîsturna': 2, 'bărțirle': 2, 'înghios': 6, 'di-ț': 2, 'părea': 16, 'gîr-găr-gîr': 1, 'gîr-gîr-gîr': 1, 'trîș': 7, 'vale': 6, 'nou-nifrîmtu': 2, 'uat': 1, 'glărimea': 2, 'țe-adră': 1, 'o': 14, 'adună': 4, 'acasă-l': 2, 'ș-na': 3, 'mulile': 5, 'căpestru': 1, 'după-alantă': 1, 'fratile': 12, 'pitlu': 3, 'să-ncarcă': 2, 'γiptu': 4, 'părinte': 10, 'minciuñi': 2, 'acață-te': 1, 'ș-o-avu': 1, 's-arîd': 1, 'ciurlu': 1, 'păpă': 1, 'chiru': 5, 'angiurîndalui': 2, 'dinăpoi': 9, 'muli': 1, 'aiștor': 3, 'doare': 9, 'cherdz': 1, 'frate': 28, 'chitlu': 7, 'de-alantu': 3, 'γiplu': 1, 'cînticlu': 3, 'adrat': 1, 'mule': 5, 'țe-are': 4, 'agre': 3, 'șo-avea': 1, 'dzî-u': 1, 'minciuna': 4, 'erț': 2, 'ma-ntră': 2, 'tine-nu': 1, 'ies': 3, 's-acaț': 2, 'îți': 6, 'laile-și': 3, 'se-aștirnu': 2, 'ghine-mușeat': 1, 'añl': 2, 's-amintă': 8, 'tată-ñu': 5, 'șideam': 2, 'pap-ñu': 1, 'beam': 1, 'ciubuchea': 4, 'viniră': 2, 'sihăriche': 4, 'alăgînda': 1, 'aveț': 1, 'țe-avem': 1, 'nunlu': 4, 'grești': 2, 's-păteadză': 2, 'marațl': 2, 'nun': 1, 'sti': 11, 'muta': 7, 'și-n': 5, 'suț': 1, 'me-anvîrtescu': 1, 's-aflu': 2, 'scară': 3, 's-me-alin': 2, 'caftu-n': 1, 'sin': 5, 'curcubetă': 2, 'strănipoată': 2, 'heartă': 1, 'simință': 1, 'ñi-armase': 1, 'siminai': 1, 'criscu': 5, 'nunlui': 1, 'de-acl': 1, 'alăgînda-alăgînda': 1, 'pascu': 3, 's-ved': 2, 'țe-i': 9, 'anγeadză': 1, 'γumară': 1, 'psoahe': 1, 'grîț-grîț': 1, 'curcubete': 1, 'o-adră': 1, 'chita': 4, 'zgrîmam': 2, 'știam': 6, 'ac': 2, 'cînde': 1, 'tindu': 4, 'cîtră-nghios': 1, 'ș-antreațe': 1, 'hirlu': 3, 'nod': 6, 's-dipun': 2, 'troară': 4, 'furtună': 8, 'grindine': 1, 'limea': 1, 'me-adun': 1, 'furtuna': 5, 'stătu': 3, 'dipuș': 4, 'le-aflai': 2, 'lucurle-ndreapte': 2, 'turna': 6, 'pătidzare': 1, 'plăndze': 2, 'ti-ntreb': 2, 'nune': 2, 'zghileaște': 2, 'cucoașe': 1, 'cucoș': 1, 'ș-acaț': 1, 's-lu-slumtu': 1, 'chetrile': 1, 'le-aduș': 1, 'orixi': 3, 'prefte': 3, 'bana-ñi': 3, 'le-ascăpita': 1, 'cucoașile': 1, 'coji': 1, 'nu-apucai': 1, 'șed': 4, 's-mi-ncăldzăscu': 2, 'nipot': 1, 'lală': 2, 'c-andornic': 3, 'arap': 11, 'țupata': 5, 'dianumirea': 3, 'adun': 3, 'γumari': 1, 'cîtră-ncoa': 2, 'cîtră-nclo': 2, 'dinaparte': 7, 'ț-acață': 3, 'iul': 11, 'lăia': 1, 'dupus': 2, 'alăcea': 2, 's-mutrești': 2, 'treț': 3, 'tu-ahtare': 1, 'ma-l': 9, 'bag': 3, 'intru': 3, 'ș-io-și-l': 1, 'ișii': 1, 'străbat': 3, 'mardzine': 4, 'tu-alantă': 1, 'crucișalui': 2, 's-dau': 6, 'arbune': 2, 'lemnu': 8, 'tîcă': 1, 's-facu': 1, 'pal': 7, 'adar': 3, 'furtii': 1, 'duțeam': 1, 'me-acăță': 2, 'căloare': 2, 'dugoare': 1, 'căsmete': 1, 'aflai': 3, 'bureate': 1, 'freadze': 2, 'căloarea': 1, 'încărcai': 1, 'γumarl': 2, 'leamne': 3, 'haide-haide': 5, 'seatea': 2, 'puț': 8, 'cuvă': 2, 'șe': 2, 'aruc': 3, 'nuntru': 20, 'agîrșit': 1, 'trapșu': 3, 'sițira': 1, 'nu-aveam': 3, 'băgai': 5, 'discărcai': 1, 'dispiturai': 1, 'plăscănești': 1, 'vrui': 3, 's-intru': 4, 'călivă': 9, 'țupată': 2, 'scîrpă': 1, 'se-acăța': 1, 'praglu': 3, 'ptiu': 1, 'așternu': 3, 'scîrpa': 3, 'sărmănița': 2, 'bitisii': 2, 'mi-ndridzeam': 1, 'țe-aveț': 2, 'arîdeț': 2, 'u-aduse': 1, 'stămăria': 4, 'arîdem': 2, 'tumte': 1, 'ș-lai': 1, 'chirute': 2, 'pustupsescu': 1, 'ahulescu': 2, 'îlmîca': 2, 'vulpe': 2, 'apres': 2, 'earam': 7, 'di-ñi': 1, 'scînteal': 1, 'printr-ocl': 1, 'loai': 7, 'cheatră': 14, 'i-aminai': 1, 'pîngîna': 3, 'firmane': 2, 'cînta': 7, 'tăcu': 3, 'să-nveață': 1, 'scria': 1, ')': 7, 'cîntă': 6, 'firmanea': 1, 'ș-γiptul': 2, 'ș-tute': 2, 'acățătura': 1, 'ș-ligătura': 1, 'te': 10, 'ariseaște': 1, 'dă-te': 1, 'd-alagă': 1, 's-te-acaț': 1, 'plăti': 3, 's-dzîțe': 2, 'și-avu': 1, 'masturlu': 1, 'palmă-nghios': 1, 'nu-avu': 1, 'aspunea': 1, 'ftoh': 2, 'agiundzea': 5, 'neavearea-l': 1, 'linăvos': 2, 'ftohlu': 4, 's-lucreadză': 4, 'apirea': 2, 'ascăpita': 1, 's-muta': 1, 'agiuta': 1, 'amalamă': 5, 's-acăța': 1, 's-fățea': 9, 'sărbătoare': 4, 'hevtile': 1, 'lu-acăța': 2, 'paști': 1, 'ñel': 12, 'agiun': 1, 'ș-cîndu': 6, 's-minduea': 2, 'i-si': 1, 'ficiorl': 13, 'i-s': 1, 'angîrlima': 1, 'acumpărași': 1, 'adusiși': 2, 'scoală': 16, 'arondu-arondu': 2, 'ñeardze': 3, 'frate-su': 6, 'baz': 2, 'era': 108, 'stres-stres': 1, 'cl': 4, 'eaia': 1, 'draclui': 1, 's-avdă': 6, 'aridă': 1, 'hărsescu': 1, 'fumeal': 12, 'neavutlu': 9, 'lu-avea': 5, 'subaș': 1, 'tamam': 1, 'ñelu': 3, 'ș-o-adună': 1, 'draț': 1, 'carcandzal': 1, 'șute': 2, 'bagă-ți-u': 2, 'haraua': 2, 'șutlui': 2, 'i-fațe': 2, 'să-ț': 1, 'zarzavuli': 1, 'ti-ntreabă': 1, 'lire': 10, 'asimcadz': 4, 'γeamandzî': 3, 'irtare': 3, 'chirut': 3, 's-alas': 2, 'γroșl': 1, 'γeamandzîl': 1, 'zburățti': 1, 'chirturi': 1, 'hunerea': 1, 'cafțî': 4, 'ți-u': 3, 'ț-viñiră': 1, 'căpărle': 1, 'luγurie': 4, 'zburîndalui': 3, 'imnîndalui': 3, 'valea-l': 1, 'șut': 1, 'iți': 8, 'hrisusita': 1, 'urnipsit': 2, 'și-nvițat': 2, 'ñică': 4, 'piper': 1, 'aștirnut': 3, 'i-scîntel': 1, 'scumpe': 5, 'flurii': 17, 's-va': 3, 'moara': 8, 'ș-ul': 1, 'țînă': 3, 'încolo': 2, 'livade': 2, 'foame': 4, 's-aștirnu': 1, 'fuviros': 4, 'mîcări': 10, 'hîbări': 4, 'ș-mîcărle': 1, 'apîrñiră': 1, 's-urdină': 1, 'ciuduseai': 1, 'di-iu': 1, 'es': 1, 'ahînte': 10, 'ahtări': 6, 'buneț': 1, 's-fînîti': 1, 'imnu': 1, 's-me-aducă': 1, 'ș-iu': 2, 'ș-beare': 1, 's-vrei': 6, 's-arucutești': 1, 'toarnă': 5, 'mîcărle': 1, 'scoasiși': 1, 'furtie': 1, 'luγie': 4, 'gepe': 2, 'le-avuși': 2, 'ș-neavutlu': 2, 'i-mbăiră': 1, 'lele': 1, 'vearga': 9, 'loare': 2, 'cruea-l': 1, 'doaua': 1, 'ș-moara': 1, 'mușuteț': 3, 'curate': 5, 'e-li': 1, 's-le-aspună': 2, 'amlu': 1, 'grailu': 5, 'tiflupendar': 2, 'bisearică': 7, 'grailu-mare': 1, 'ancl': 1, 'igat': 1, 'curat': 5, 'minduiră': 1, 'averea-l': 2, 'altoară': 1, 'cățălic': 1, 'pitreațe': 3, 'si-li': 2, 'grească': 6, 'o-află': 2, 's-cupăsească': 2, 'se-aprease': 3, 'scutea': 9, 'nări': 1, 'si-ñiluaduțeț': 1, 'giuvape': 1, 'daț': 1, 'vap': 1, 'țî-l': 2, 'arucutea-m-pade': 1, 'mușca': 1, 'astingă': 2, 'oastea': 1, 'arăulu': 3, 'ș-acși': 4, 'di-altoară': 1, 'si-mbunară': 2, 'le-acățară': 2, 'aloaturle': 2, 'ticlife': 1, 'ñi-aeram': 1, 'și-ncălicai': 1, 'aroș': 9, 'bîna': 2, 'avdzîț': 1, 'lumil': 1, 'lăețli': 1, 'țe-avea': 7, 'faptă': 9, 's-easă': 4, 'apuca': 2, 'drîșcl': 1, 'ș-cădea': 1, 'fură': 9, 'dispoal': 5, 'adunară-adunară': 2, 'mală': 2, 'furl': 6, 'mărat': 1, 'nîscîte': 4, 'întunică': 1, 'vățle': 1, 'anvîrligară': 1, 'pre-ascumta': 2, 'aștiptară': 3, 's-îndridzea': 1, 's-fugă': 10, 'avdu': 2, 'dișcl': 17, 'murmintlu': 1, 'îngrupat': 1, 'ñeadză-noapte': 2, 'stamulă': 3, 'stamule': 3, 'așteaptă': 7, 'soală': 2, 'stamula': 7, 'ea-ngustarea': 2, 's-ciurtuească': 1, 'dodzele': 1, 'livendul': 3, 's-alagă': 5, 'tăxiră': 2, 'cărare': 2, 's-aducă': 2, 'știre': 1, 'nelu': 7, 'ascălnat': 2, 's-la': 4, 's-adună': 1, 'surțeale': 5, 'căldare': 2, 'lu-aspune': 1, 'livendu': 8, 'anvîrteaște': 1, 'cămeașe-l': 1, 'leagă': 4, 'disfac': 1, 'peatic': 1, 'lau': 1, 'cămeașa': 1, 'ș-țimse': 1, 'coarda': 1, 'di-anumirea': 2, 'ș-un': 12, 'încălicară': 1, 'azburători': 1, 'mîca': 7, 'niorl': 3, 'se-alipidară': 1, 's-ascapă': 4, 'furilor': 1, 'aγri': 3, 'mușata': 6, 'călcară': 4, 'spil': 3, 'curmaț-arupțî': 2, 'căpăiț': 2, 'întunicoasă': 1, 'ligară': 2, 'ș-pădurea': 1, 'l-avea': 1, 'nicălcat': 1, 'soie-di-soie': 1, 'prici': 2, 'zulăchi': 2, 'veacl': 1, 'ete': 2, 'alăgară': 3, 'pritu': 2, 'udadzl': 1, 'apărγisită': 1, 'alogară': 1, 'și-ntunicoasă': 1, 'boț': 12, 'didinde': 1, 'lume': 12, 's-alinară': 1, 'naima': 1, 'analtu': 13, 'ș-mutriră': 3, 'ș-iar': 3, 'ascultară': 4, 'cărbuñi': 2, 'niori': 7, 'ișiră': 5, 'încl': 11, 'isă': 6, 'alăgară-alăgară': 1, 'plîndzea': 11, 'mira': 4, 'laia': 4, 'mărara': 1, 'cunuscu': 4, 'sor-sa': 1, 's-bașe': 2, 's-vidzură': 2, 'ș-avdzîră': 1, 's-fațim': 2, 'deadun': 29, 'soțu-tu': 2, 's-te-află': 1, 'me-aspar': 1, 'surică': 1, 'sută': 6, 'țîn': 5, 'bam': 1, 'bum': 1, 'i-arucutiră': 2, 'birbețl': 2, 'vătămară': 1, 'încarcă': 2, 'avuțamea': 1, 'adunată': 3, 'urfañe': 2, 'ș-bagă': 2, 'adară': 2, 'triγeauă': 1, 'armînea': 1, 'călitori': 1, 'patrule': 3, 'părțî': 2, 'loclui': 9, 'plătească': 1, 'mumile': 2, 'criscură': 4, 'palmă': 3, 'numțî': 2, 'soțu-sui': 1, 'giucară': 2, 'arsăriră': 2, 'șidzutlu': 1, 'pade': 11, 'stămînă': 1, 'numta': 7, 'giucai': 3, 'arsării': 2, 'curmai': 2, 'sculai': 5, 'părămith': 6, 'lucrare': 1, 'ficiorli': 1, 'lucra': 1, 'duțea': 2, 'ș-sînătate': 1, 'că-ncot': 1, 's-pidipdeaște': 2, 'agunseaște': 2, 's-alăxescu': 1, 'min': 2, 'iuva': 9, 'cu-ațel': 1, 'de-analt': 2, 'nu-adără': 1, 'lucră': 1, 'aspri': 1, 'tut-tut': 1, 'trei-trei': 1, 'pungă': 2, 'să-și': 5, 'părințl': 2, 'auși': 3, 's-agiungă': 2, 'nîscînțî': 3, 'scoase': 17, 'punga': 2, 'asprul': 3, 'alțî': 9, 'ligată': 5, 'cătușe': 5, 'mitre': 22, 'aspru': 3, 'vătămaț': 2, 'cătușa': 16, 'de-apoia': 2, 'tihea': 4, 'omlui': 1, 'astăl': 4, 'acățață': 2, 'șarpe': 6, 'ñilăos': 2, 'curmă': 2, 'ascumpără': 2, 'șarpile': 14, 'adetea': 3, 'dipărtoase': 1, 'șică': 1, 'bașe': 13, 'n-adusiși': 1, 'aduțeț': 1, 'tisădzle': 1, 'ș-pînă': 4, 'psusiră': 1, 'stog': 1, 'țe-aduș': 1, 'îmbăiră': 2, 'avdzîră': 5, 'anvîrligalui': 1, 'fărmac': 2, 'mîrațl': 2, 'lu-aștipta': 2, 'amintat': 2, 'lucre': 5, 's-lă-aducă': 1, 'cîne': 25, 'dusă': 5, 'guvă-ntru-apă': 2, 'șarpișe': 1, 'băna': 3, 'fraț': 5, 'șarpelui': 1, 'șerchi': 6, 'cheatra': 16, 'limbă': 6, 's-căftai': 2, 'ș-agiumsiră': 1, 'ș-nîpîrtiț': 1, 'șuira': 1, 'lua': 1, 'cîtu-l': 2, 'ilu-a': 1, 's-cama': 5, 'tricută': 9, 'adră': 5, 's-discumpără': 2, 'furtiile': 1, 'luγurii': 3, 'de-ațeale': 2, 'scumpile': 2, 'șerchilor': 2, 's-șuțîră': 2, 'se-anvîrtiră': 2, 'vrură-nu': 5, 'dat': 2, 'și-aoa': 1, 'nă-intrată': 2, 'citiea': 1, 'boie': 4, 'se-anălța': 6, 'chiruț': 2, 's-ciudisea': 1, 'ș-dzîțea': 2, 'lu-adără': 1, 'adrași': 1, 'adari': 1, 'aștirnută': 2, 'asime': 3, 's-puteari': 1, 'giumitat': 1, 'avu': 5, 'ș-giumitate': 1, 'amirăril': 5, 'numtă': 7, 'dumnească': 4, 'na-ț-lu': 3, 'dzinire': 1, 's-frîndzea': 5, 'γaglară': 1, 'ponda-l': 1, 'vrearea': 5, 'ascapă': 8, 'evă': 1, 'tîcăni': 2, 'ñi-aspuñi': 3, 'ițe': 6, 'tîcîneaște': 1, 's-arîse': 2, 'deapoia': 2, 'mistirγipsești': 2, 'muleare': 1, 'dintîñi': 2, 'ș-pre-anarga-narga': 2, 's-me-aflu': 1, 'araplu': 15, 'amare': 12, 'îm': 1, 'araplui': 3, 'cațaua': 1, 'tahina': 8, 's-plăscînească': 1, 'ș-pălatea': 1, 'trițeare': 1, 'de-amare': 7, 'pălatea-l': 1, 'se-aștearse': 1, 's-lu-agudeai': 2, 'și-nfîrmîcatu-nciumirat': 1, 's-adară': 9, 'eari-sa': 2, 'se-arcă': 2, 'udaie': 3, 'ș-dupu': 1, 'ș-cătușa': 1, 'minduit': 3, 'spune': 3, 'nî': 3, 'duțem': 1, 'furăm': 2, 'fug': 1, 'trec': 4, 'anarea': 2, 'agiungu': 4, 'nîsa': 1, 'na-îl': 1, 'ease': 1, 's-hiu-museaște': 1, 'ș-lu-acăță': 1, 'te-alas': 4, 'untulemnu': 2, 'pri-agalea-galea': 2, 'de-a-bușala-de-a-bușala': 2, 'i-u-nhidze': 1, 'strănută': 1, 'ș-tu': 4, 'stărnutarea': 2, 'i-ansări': 1, 'fudz': 4, 'alaga-alaga': 2, 'u-adunară': 1, 'imnă-imnă': 3, 'apiriră': 2, 'budza': 9, 'încalică': 1, 'țîne-u': 1, 'ghine-n': 1, 'cadă': 7, 'ciupuliclu': 1, 'aspune-u': 1, 'soie': 5, 's-u-aspun': 2, 'ñi-u-aspuñi': 1, 'te-arunc': 1, 'tu-amare': 4, 's-u-aspună': 1, 'cade': 4, 'dincoa': 2, 'adîncoasă': 2, 'anciupă': 1, 'aman': 1, 'ascapă-mi': 2, 'căva-ț': 2, 'ascachi': 1, 's-mutrescu': 2, 'u-are': 3, 's-misură': 1, 'lipsea': 5, 'lîndzit': 3, 'ș-trădzea': 2, 'cîrtire': 1, 'alăga': 6, 'diznou': 4, 'di-nă-cale': 1, 'sînătos': 2, 'ună-și-ună': 3, 'anălță': 1, 'pălățle': 1, 'mușutețle': 1, 'însură': 2, 'de-amiră': 21, 'bînă': 2, 'șteam': 2, 'turnai': 5, 'păpuță': 1, 'aroșe': 6, 'tricui': 1, 'toșe': 1, 'ș-u-avură': 1, 'ș-loară': 2, 'vreare': 6, 'ș-dădea': 1, 'xeanile': 1, 'chinsiră': 2, 'șidzură': 4, 'undari': 2, 'luchi': 3, 'urși': 2, 'vulchi': 2, 'ș-alte': 2, 's-încăciară': 1, 'tu-mpărțîre': 1, 'pricile': 2, 'mascuri': 2, 'theaminle': 1, 'ș-alăxiră': 1, 'nealile': 1, 'sîndzineadză': 1, 'chindhin': 1, 'ș-alantu': 3, 'iagiută': 1, 'dona': 14, 'mușată': 4, 'curma': 2, 'curmară': 2, 'buisescu': 1, 'nîscîndă': 1, 'suflit': 8, 'eaște': 3, 'apile': 4, 'astăndzî': 1, 'bînedz': 2, 'bag-u': 3, 'strîmbă': 3, 'cafta': 1, 'apucă': 2, 'ghine-ghine': 1, 'u-mbăirară': 1, 'față': 9, 's-diștiptă': 3, 'alante': 3, 'aγriñilor': 2, 'armu': 1, 'se-aleapse': 1, 'ciol': 2, 's-gurleadză': 1, 'iurile': 5, 'arîurile': 2, 'noaule': 4, 'limbi': 1, 'li-mbairă': 1, 'hir': 5, 'mătase': 1, 'ascumtu': 3, 'moartă': 2, 'ș-lu-alasă': 1, 'dini': 1, 'giură': 1, 'vătămă': 1, 'nîse': 5, 'dipune': 5, 'cîntat': 1, 's-anγeadză': 1, 'se-apruchea': 6, 'dzîsiși': 1, 'nu-avdu': 1, 'aușatic': 1, 'moașe': 16, 'cama-aproapea': 2, 'vulpea': 5, 'urecl': 4, 's-dispunea': 2, 'alumache': 1, 'drăcuriile': 1, 'arsare': 1, 'luminarea': 1, 'căftam': 1, 'te-aflam': 2, 'i-arupsiră': 2, 'stricurară': 2, 'sîndzile': 1, 'ureacle': 2, 'înγe': 1, 'durñită': 1, 'țe-avut': 1, 'corbe-curbișane': 2, 'îmbăirară': 3, 'ună-di-ună': 2, 'vătămat': 1, 'aștiptaț': 1, 'intră-n': 5, '-si': 2, 'cripată': 1, 'adzi': 2, 'imat-neacl': 2, 'imat': 1, 'ș-tradze': 5, 'îndreptu': 2, 'vreas-facă': 1, 'încrunarea': 1, 'vluitolu': 1, 'i-ncrună': 1, 'gîdîlică': 1, 'inimă': 12, 'viñi': 2, 'ș-araplu': 2, 'tiñiea': 2, 'arușină': 1, 'zbură': 2, 'ș-dona': 1, 'agîrșii': 1, 'ș-le-avea': 1, 'mărtirie': 1, 'întreb': 1, 'se-află': 11, 'capitle': 3, 'le-află': 1, 's-apără': 1, 'nu-acață': 1, 'limbile': 7, 's-le': 2, 'alihea': 3, 'pînă-n': 1, 'coadă': 4, 'unăpriste': 1, 'păltări': 2, 'armuri-armuri': 1, 'si-nsură': 5, 'measă': 1, 'ninte': 12, 'suschir': 5, 's-mută': 6, 'suschiră': 2, 'împușcl': 1, 'eată': 1, 'arauă': 3, 'se-are': 1, 's-putearim': 1, 's-ascap': 1, 'ș-de-aestă': 1, 's-le-am': 1, 'apîrñea': 2, 'grindină': 4, 'măγistră': 1, 'căliva': 1, 's-bumbuneadză': 1, 's-ascapiră': 3, 'sfuldziră': 2, 'măγistra': 3, 's-adastă': 3, 'mărmurisea': 1, 'di-mproști': 1, 'aspargă': 4, 'chefea': 2, 'socru-sui': 2, 'ș-anană': 2, 's-pată': 4, 'neagiumță': 2, 'bumbunidzare': 1, 's-cutrimbura': 2, 'îmbogra': 1, 'boațea': 7, 'îndîcînită': 1, 'metura': 2, 'mărmurisi': 2, 'frati-sui': 2, 's-fîțea': 1, 'sîndzină': 1, 's-lu-ascapă': 1, 'om-om': 4, 'vidzu-n': 2, 'codru': 2, 'zulăchi-mascuri': 1, 'soțlu': 4, 'grindiñi': 1, 'mălăγar': 2, 'aradă': 2, 'maie': 9, 'ș-grindina': 1, 'u-acață': 2, 'iacă': 1, 'frate-ñiu': 3, 'cățauă': 2, 'cumăț-cumăț': 1, 'maγistra': 1, 'streasă': 3, 'discîntată': 1, 'mire': 2, 'pruscuchească': 2, 's-înγeadză': 2, 'cireap': 3, 'u-nhipsiră': 2, 'scrum': 4, 'moașa': 22, 'amirplu': 1, 'împărțîră': 2, 'ș-adusiră': 1, 'acloți': 2, 'ș-bîneadză': 2, 'ș-adzi': 2, 'muriră': 2, 'chiparișlu': 2, 'pirgaclu': 7, 'ñeu': 17, 'dipune-te': 1, 'guva': 1, 'dipri': 1, 'sinduche': 1, 'disfaț': 1, 'sinduchea': 1, 'di-pri-apoia': 1, 's-treț': 1, 'udaia': 5, 's-afl': 2, 'ț-au': 1, 's-ñi-l': 1, 'aduț': 2, 'di-si': 1, 'aleptu': 7, 'bărnu': 2, 'sală': 1, 'dizñirdă': 1, 'pe': 2, 'aγișteare': 2, 'cîți': 4, 'pradz': 13, 'bîcăre': 1, 'mînarlu': 5, 'mină': 4, 'bărnul': 1, 'agiundue': 1, 'lu-adusiși': 1, 'agărșii': 3, 'ñi-era': 3, 'șcreta': 3, 'aleptul': 3, 'spuni': 1, 'spun': 11, 'mușuteața': 2, 'trăt': 1, 'oaspiț': 8, 'dzuă-nvirinat': 1, 'țiva-n': 1, 'vine': 10, 'ascăpiră': 1, 'scafa': 1, 'tr-un': 1, 'adil': 2, 'eatic': 1, 'dimîndzî': 2, 'cari-și': 1, 'dimîndu': 4, 's-aleapidă': 3, 'pradzl': 2, 'aiști': 1, 'ascapiră': 1, 'dao': 2, 'ș-aistu': 1, 'alghi': 2, 'i-aspărdzea': 1, 'curundu': 3, 'di-ți': 1, 'mînata': 1, 'naț-ul': 1, 'bal': 4, 'iuca': 2, 'nai-ma': 1, 'lăhtăroslu': 1, 'aduțea': 3, 'cîtu-s': 1, 'dzîți': 2, 'mulți': 1, 'ș-mul': 2, 'ș-bună': 3, 'ș-mușeată': 4, 'țînea-ncl': 1, 'avdză': 4, 'năsă': 3, 'șamintreil': 1, 's-himusiră': 2, 's-trundui': 2, 'strigă': 15, 'se-alumtă': 2, 'minut': 2, 'na-u': 6, 'mușeata': 6, 'îm-brațile': 1, 'ș-ași': 1, 'amirărească': 1, 'prucupsit': 2, 'dzinir-su': 2, 's-dumñească': 1, 's-mintea': 2, 'amirăreștile': 1, 'arihate': 1, 'ș-toate': 1, 'emburlu': 6, 'ș-era': 5, 'oarfînă': 1, 'oarfănă': 2, 'embur': 1, 'pre-aclo': 1, 'l-eai': 1, 's-lu-alină': 2, 'muntile': 10, 'coase': 1, 'cheale': 4, 'ș-lu-aruncă': 1, 'cuprii': 5, 'orñil': 1, 'tradze-alantu': 3, 'mutară': 2, 'γi': 1, 'zî': 1, 'arupsiră': 1, 'corghil': 3, 'ficior-ficor': 1, 'aruncă-ñi': 1, 'γiamandzî': 3, 'sac': 1, 'mare-mare': 2, 'arucuti': 1, 'marat': 2, 'adoaua-dzî': 1, 'alîga': 3, 's-băgă': 1, 'pre-alăgare': 1, 'ș-ñiclu': 1, 'frîmtă': 1, 's-dispartă': 1, 's-dișcl': 2, 'idă': 3, 'mărl': 2, 'ñicăzlu': 1, 'vîtămă': 1, 's-dipiră': 1, 'trapsiră': 6, 'ș-aștearse': 1, 'și-nchisi': 1, 'limpidă': 5, 'lacrima': 3, 'arbur': 3, 'stufos': 2, 'aumbors': 1, 's-tindea': 1, 'pristi': 1, 'se-ascălda': 1, 'dzîne': 3, 'ș-amiștreile': 1, 'ș-altă': 1, 'videare': 1, 'și-cheară': 1, 'pre-agalea-galea': 1, 'l-abușalea': 1, 's-o-adună': 2, 'cîmeși': 2, 'nividzute': 3, 'le-aflaț': 1, 'dzînile': 3, 'gioacă': 3, 'căfta': 3, 'ș-vrea-l': 1, 's-arunca': 2, 'freț': 2, 'i-anγiară': 1, 'aflași': 1, 's-badz': 1, 's-duc': 2, 'mînarl': 1, 'cîtu': 4, 'noauădzăț-și': 1, 'încărcaț': 1, 'groși': 1, 'harau-l': 1, 'nurările': 1, 'nurori': 1, 's-cămărusească': 1, 's-minară': 1, 'ș-dișcl': 1, 'me-aștiptam': 1, 'mamo': 10, 'urărle': 3, 'crîștin': 3, 'ș-mași': 1, 'le-aveam': 1, 'nincrunate': 1, 'di-ndreadze': 1, 'vîsil': 9, 'cohe': 2, 'hîrios': 1, 'corlu': 1, 'și-nveastile': 3, 'ma-nveastile': 1, 'ș-au': 1, 'băgaț-vă-le': 1, 'cîmeșle': 1, 'ș-acățară': 3, 's-frîngă': 1, 's-ciudusea': 1, 'azbuirară': 1, 'ș-fudziră': 1, 'fudziră': 7, 'sulta': 1, 'ucnălu': 1, 'partea-nveastilor': 1, 'avură': 3, 'si-nsoară': 1, 'daule': 4, 'frîmșu': 1, 'trîțea': 3, 'ș-băgară': 2, 'si-mparță': 2, 'si-mpărțără': 1, 'ș-cătîndia': 1, 'păștea': 6, 'cucotlu-n': 1, 'cuprăie': 2, 'ș-arîma': 2, 'scălsindalui': 6, 'ș-află': 2, 'i-iase': 2, 'fluria-n': 2, 'ș-acăță': 3, 'draclu': 7, 'cucotlu': 13, 's-huhutească': 6, 'cîcă': 7, 'ba': 7, 'arucaț': 1, 'satură': 3, 's-creapă': 1, 'flurie.': 1, 'căra': 3, 'lu-arcară': 1, 'mîcă-mîcă': 2, 's-easte': 6, 'le-arcă': 1, 'petalile': 1, 'nidișcl': 1, 'ușa': 2, 'spindzură-mi': 3, 'grendă': 4, 'aștearne': 1, 'sirmă': 1, 'ș-flurii': 1, 'iasi': 1, 'pali': 3, 'i-arșine': 1, 'aeri': 6, 'avem': 6, 'irghilii': 1, 'vatîmă': 1, 's-vidzu-ntră': 1, 'γinu': 8, 'lupe': 1, 's-mîcaț': 1, 'cîcă-cîcă': 3, 'nu-aștipta': 1, 'două': 4, 'l-u': 2, 'iapilor': 1, 'glîc': 4, 'fa-ñi': 5, 'mi-așteaptă': 1, 'ciupulic': 1, 'vearde': 9, 'se-anciupară': 2, 'cădz': 2, 'soarbe': 2, 'de-arîu': 2, 'cîîîcă': 1, 'dure': 3, 'cîte-ñi': 1, 'fîțeși': 1, 'ș-ișiși': 1, 's-me-angiuri': 2, 'acățaț-lu': 2, 'ardeț': 1, 'arucară': 3, 's-lu-ardă': 1, 'cucot': 1, 's-ardzî': 1, 'zvoame': 1, 's-nicară': 2, 'si-mprumută': 1, 'găleata': 3, 'fundu': 2, 'aumtă': 2, 'cătrane': 3, 'turnă': 6, 'alichită': 1, 'fundu-l': 1, 'misurași': 3, 'cară': 3, 'băneadză': 11, 'le-aduse': 2, 'cuprie': 2, 'spindzur': 2, 'intrai': 3, 'ñi-umplu': 1, 'pitricu-n': 1, 'aveare': 5, 's-o-apreadună': 1, 'mușica': 1, 'ș-o-apreadună': 2, 'ș-are': 1, 'doara': 1, 'ș-amirăroañe': 1, 'amirăroañe': 1, 'lui-l': 1, 'i-alăsă': 1, 'mumă': 15, 'earea-mea': 1, 'pitreț': 2, 's-nu-ñi': 3, 's-avdu': 3, 'o-aduse': 2, 'ñilă': 4, 'mascur': 1, 'cireașa': 1, 'coapta': 1, 'scumpul': 4, 's-amințî': 2, 'amință': 1, 'si-nvirină': 1, 'vream': 9, 'amintam': 1, 'pitrițea': 1, 'u-arucă': 1, 'crăciun': 1, 'l-acumpărară': 2, 'tătîñil': 3, 'și-u-avea': 1, 'pirindu': 2, 's-u-ntreabă': 2, 'mumă-sa': 1, 'i-era': 4, 'cărtească': 1, 'ș-ține': 2, 's-dimîndă': 2, 's-alăsă': 2, 'lom': 5, 's-amintam': 1, 'năirii': 1, 'aștiptă': 3, 'țe-aștiptă': 2, 'bitisi': 4, 'polimlu': 3, 'ș-de-atumțea': 1, 'dor': 4, 'ñ-e': 1, 'cearee': 1, 'lă-i': 1, 'de-aumbră-lă': 1, 'de-ațel': 1, 'țe-așteaptă': 1, 'disică': 2, 'bîga': 1, 'mă-sai': 1, 'mumăñle': 2, 'durute': 2, 's-lu-alasă': 2, 'xeana-i': 2, 'lumea-i': 2, 'și-ar-mîne': 2, 'ș-oarfăna': 1, 'lu-alăsă': 1, 'leg': 1, 'brațlu-ndreptu': 2, 'cunoască': 3, 'inmară': 2, 'i-aprease': 1, 'n-cale': 1, 'aflară': 1, 'apărγisit': 1, 'cîmpu': 3, 'ermu': 1, 'cipit': 2, 'șcurtița': 1, 'șiret': 3, 'aest': 4, 'cătărgar': 2, 'biu': 3, 'sălghi': 1, 'căpachea': 2, 'oarfănlu': 17, 'se-agioacă': 2, 'șacăi': 1, 'tr-arîdeare': 1, 'gioclu': 1, 'ide': 6, 'întunicăm': 1, 'id': 5, 's-ies': 2, 'giuri': 1, 'apringiuri': 2, 'soțul': 1, 'tău': 4, 's-anγedz': 1, 'cupilciu': 1, 'țe-angreacă': 1, 'mută': 7, 'galbin': 3, 'le-avea': 2, 'o-avea': 2, 'aspăreată': 2, 'huzmetea': 2, 'și-era': 4, 'ș-giuneața': 1, 's-o-aspună': 2, 'ș-va': 1, 'o-adunară': 1, 'pitricură': 2, 'i-așteaptă': 2, 'i-aduc': 1, 'giurată': 2, 'dzise': 1, 'mincinos': 1, 's-bășară': 1, 'si-mbrățitară': 1, 's-curdusi': 1, 'mare-gros': 1, 'dzînucl': 1, 'șarpe-mare': 3, 'țe-aveagl': 1, 'cunoaște': 1, 'grădinăl': 2, 'grădinarlu': 2, 'țe-adară': 1, 'ș-adapă': 2, 'grădina': 1, 'grădinar': 1, 'grădină': 7, 'apicășoñiu': 2, 'cunoscu': 4, 'de-miră': 1, 'cîrti': 1, 'iu-aleptu': 1, 'lu-ascuche': 1, 'nviță': 1, 'cioñili': 2, 'alîndurle': 5, 's-ñiră': 2, 'ascăpat': 1, 'schinu': 1, 'într-ocl': 1, 'lailu-și': 2, 'iasă': 3, 'se-aspărea': 1, 'nu-ascăpă': 2, 'șidea-mprostu': 1, 'l-aduțea': 1, 'alînduri': 1, 'țițir-vițir': 4, 'si-ncăcea': 2, 'cumătră': 2, 'hrisafe': 4, 'aduchea': 2, 's-arîdă': 1, 'tate': 8, 'ș-arîde': 2, 's-lo-aspargă': 1, 'arîde': 2, 'nu-arîd': 2, 'cumătă': 1, 'arăpută': 1, 's-u-aduț': 1, 'afeată': 1, 'l-eau': 1, 'pistipsea': 2, 'cu-aestă': 3, 'cheardă': 4, 'pate': 1, 'te-aspare': 4, 'trădzem': 1, 'igate': 1, 's-putem': 1, 'aprease': 2, 'azburător': 2, 'ancălicară': 2, 'ilu-aleptu': 2, 'apiri': 3, 's-adră': 1, 'hrisăhi': 1, 'ațeale': 15, 'mundzîle': 2, 'soarlui': 1, 'luțea': 2, 'amiră-gione': 2, 'viñu': 1, 'purtare': 2, 'ficiorlu-aleptu': 1, 'avdît': 2, 'chirolu': 4, 'ș-apă': 2, 'minduia-ti': 1, 'se-achicăsi': 1, 'griș-l': 1, 'ma-marle': 1, 'grîț-l': 1, 'iop': 2, 'cărteaște': 1, 'întribarea': 2, 'nu-aspardze': 2, 'pociu': 1, 'țupăta-țupăta': 1, 'căftași': 2, 'ț-aduș': 1, 'gione-aleptu': 6, 'călămbuchi': 2, 'arov': 2, 'γipturle': 1, 'du-ti': 1, 'furnigă-ămiră': 1, 'caftă-caftă': 1, 'furnigame': 1, 'să-s': 1, 'priimnă': 1, 'alasă-l': 1, 'iulu': 2, 's-aurñi': 1, 'călămbuchilu': 2, 'grînuț': 5, 'curară': 1, 'grămadz-grămadz': 1, 'gionle-aleptu': 2, 'stihiu': 1, 's-alumtă': 1, 'cu-a': 1, 'amirălu-gione.': 1, 'adu-ñi': 1, 'căldură': 3, 'cad': 3, 'avră': 4, 's-videari': 1, 'cumata': 1, 'se-acățară': 1, 'lamñi': 2, 'piră': 1, 'gurile': 3, 'amirălui-gione': 1, 'ilui': 2, 'mutafe': 1, 'făși': 1, 'carne': 5, 'arupea': 3, 'și-alantu': 2, 'dințî': 2, 'se-alumtară': 2, 'apirită': 2, 'tu-ascîpitata': 1, 'hărios': 2, 's-u-nchirdăsești': 2, 'cama-nclo': 1, 's-dispărța': 2, 'duruta': 1, 'de-altă': 1, 'chicat': 1, 'fudzeare': 2, 'nu-agrîși': 2, 'ș-puciclu': 1, 's-arpucheară': 1, 'dimîndată': 1, 'mi-ncrună': 1, 'ciudusit': 2, 'te-aștepțî': 2, 'și-aclo': 1, 'înveasta': 3, 'zburască': 4, 'lăita': 2, 'sorghi': 1, 'cupă': 1, 'doară': 1, 'buriclu': 2, 'nveasta': 2, 'învirinată': 4, 'sărgl': 1, 'eațl': 1, 'filii-filii': 2, 'ghiftu-oarfănlu': 1, 'ascăpă': 2, 'fărmațile': 2, 'zburăscu.': 1, 'li-ndreapse': 1, 'truplui': 1, 'loc-l': 1, 'na-ți-ul': 2, 'videțî': 1, 'zgîrliț': 1, 'ș-fu': 2, 'corbe': 2, 'că-și': 4, 'curată': 5, 'ghiftu': 2, 'mastorse': 2, 'giucă': 1, 'anarga': 7, 'ș-mușat': 3, 'li-mbăiră': 3, 'lu-ncl': 4, 'giurai': 3, 's-înγedz': 1, 's-aspun': 1, 'giurat': 1, 'ciudiea': 1, 'lu-acățară': 1, 'lu-arupsiră': 1, 'di-și': 2, 'ș-amirăroañea': 2, 'eram': 20, 'di-mpăzare': 1, 'turnam': 2, 'daucaț': 1, 'sărghiră': 1, 'cîñl': 1, 'gap-gap': 1, 's-me-arupă': 1, 'apăr': 1, 'apărai': 1, 'gî': 2, 'ñi-l': 3, 'arăpură': 2, 'cîțăl': 1, 'andrei': 5, 's-acîzînsească': 2, 'ponda': 1, 'xeană': 1, 'siptămîñi': 2, 'siptămîñile': 2, 'meși': 6, 'meșl': 2, 'an': 6, 'pasprădzăți': 1, 'de-añi': 5, 'corbul': 2, 'niveasta-l': 3, 'etă': 2, 'scunchil': 1, 's-lu-aducă': 2, 'cărave': 2, 'căravea': 1, 'plătiră': 2, 'tuți': 3, 'andreilu': 3, 'hărinos': 1, 'i-astal': 1, 'pondu': 1, 'de-arap': 2, 'tucenile': 2, 'ñia': 11, 'earea-ți': 1, 'o-alăsași': 2, 'di-nă-oară': 2, 'se-alăxi': 2, 'pimse': 5, 'ațel-din-vale': 2, 'imna': 6, 'oiari': 1, 'dinăinte': 3, 'vecl': 6, 'picurărescu': 5, 'i-aspindzuri': 2, 'spala': 1, 'adu-l': 1, 's-vătămă': 2, 's-frîmse': 2, 'îșiră': 1, 'dascal': 2, 'vidreață': 2, 'andruș': 2, 'andrușlu': 4, 'peaște': 2, 'peaștile': 2, 'anuta': 1, 'ația-ți': 1, 'lu-acați': 1, 'ț-ascăpa': 1, 'dzeadite': 1, 's-murdzească': 1, 's-crească': 1, 'i-adună': 1, 's-închisească': 1, 'i-anumiră': 1, 'pești': 2, 'i-aurlă': 1, 'dascalu': 1, 'lu-alăsară': 1, 'ș-oase': 2, 'vedzi': 2, 'coarnile': 1, 'pălñi': 1, 'arăchită': 2, 'plîndzi': 5, 'ș-verși': 1, 'lăcriñi': 3, 'se-arușină': 1, 'și-aștearse': 1, 'ș-gri': 3, 'scumpă': 4, 'lasă': 3, 'ti-nveți': 2, 'mi-nvițai': 1, 'sistima': 1, 'întunica': 1, 'mutrea-ncoa': 1, 'arapune': 2, 'de-auă': 2, 'ñi-dzîse': 2, 'aduțearim': 1, 'aγită': 2, 'c-un': 2, 'pap-aușlu': 1, 'lucreadză': 1, 'auă': 1, 'apărñi': 1, 'ș-mîne': 4, 'își-aflară': 1, 'aγita': 1, 'cu-arapune': 1, 'se-acață': 1, 'ațeli': 1, 'pale': 1, 'paplu': 2, 's-ciudisiră': 3, 'acățătură': 1, 's-apiră': 1, 'mîcăm': 3, 'dimîndata': 2, 'drațlor': 2, 'greață': 2, 'se-aspîre': 1, 'fudzim': 1, 's-fudzim': 2, 'criparea': 1, 'n-alasă': 1, 'cheaptinle': 2, 'cuneta': 1, 'asună': 1, 's-arucă': 2, 'stizmă': 2, 'tu-apală': 1, 'i-agiungă': 1, 'arcară': 4, 'arîpos': 1, 'schin': 2, 'schim': 2, 'acriștea': 1, 'îndisaț': 1, 'strindzi-te': 2, 'crașt-crușt': 1, 'schiñilor': 1, 'isea': 1, 'γilia': 1, 'archișiros': 1, 'ș-pățiră': 1, 'loată': 4, 'baltă': 9, 'apă-arațe': 1, 'încape': 1, 'erai': 6, 'ș-luñină': 1, 'te-aflăm': 3, 'te-adrăm': 1, 'fustăñi': 1, 'cîftași': 1, 'feațim': 4, 'fudziși': 1, 'n-alăsași': 1, 'durută': 2, 'te-ascăpăm': 3, 'criscum': 2, 'niveasta': 6, 'ș-agărșească': 1, 'te-alași': 1, 'mă-ta': 2, 's-va.': 2, 'surat': 8, 'arșine': 3, 's-o-aducă': 1, 'arupte': 6, 'se-arupsiră': 1, 'dată': 7, 'i-cuțea': 1, 'apustusit': 1, 'măratluși': 2, 'cari-știe': 2, 'lu-aștearse': 1, 'de-asudoare': 1, 'se-aspilă': 1, 'se-alină': 3, 'pat': 8, 'șadă': 1, 'spuneai': 1, 's-o': 1, 'agărșită': 1, 'bîșe': 1, 'arîsă': 2, 'ș-aștipta': 2, 'si-ncrună': 2, 'pilisteri': 2, 'pitricuț': 3, 'ascîpai': 1, 'murafeți': 1, 's-mori': 2, 's-cheri': 2, 'disparțî': 1, 's-ti-ncruñi': 1, 's-disfeațe': 1, 'fudziți': 1, 'vreți': 1, 's-mi-ncrunați': 1, 'ñi-deadiră': 2, 's-v-aduc': 2, 'broatițl': 1, 'bac-bac-bac': 1, 'ñia-ñi': 1, 'me-aspăreai': 1, 'le-alăsai': 2, 'fudzii': 1, 'penură': 1, 'añil': 1, 'preftului': 3, 'nu-ascapă': 1, 'părăcălsească': 1, 'și-a-ñia': 3, 'ș-capră': 1, 'chiale': 1, 'capră': 7, 'chialea': 1, 's-dizviștea': 2, 'dzînă': 1, 'fața-loclui': 2, 'șcurtu': 2, 'durñia': 2, 'so-l': 1, 'iadz': 2, 'amiradz': 2, 'domñi': 4, 'hărle': 1, 'nicuchiri': 1, 'mușate': 4, 'și-a': 13, 'tutlor': 1, 'ciorlu': 2, 'te-arăseaște': 1, 'și-aleadze': 1, 'feata-i': 3, 'ñi-easte': 1, 'frîndzi': 1, 'și-ună': 4, 'poarcă': 1, 'se-aledzi': 2, 'bănedz': 3, 'sivdălu': 1, 'icoane': 1, 'steale': 9, 'capra': 8, 'te-aflași': 1, 'lăești': 1, 'arîdă': 1, 'ligă': 3, 'punte': 3, 's-vatămă': 2, 'ș-tut': 2, 's-minduiaște': 2, 'și-alantă': 1, 'ș-năinte': 1, 'ș-năpoi': 1, 'ncl': 1, 'mardzinea': 4, 'duți': 1, 'pîñisea': 1, 'nuntă': 1, 'tr-arșine': 1, 'u-alăsară': 2, 'bană-ț': 1, 'u-agîrșeai': 2, 'n-coadă': 1, 'soacră-sa': 2, 'se-aravdă': 4, 'u-arupsiră': 2, 'lacriñile': 2, 'lăile': 1, 'vrea-ț': 1, 'tați': 2, 'ciuciră': 1, 'nveață': 2, 's-nu-aspuñi': 1, 'vîrnui': 3, 'guzgunipseaște': 1, 'cor': 2, 'giuca': 3, 'i-añiurdzi': 1, 'ahuleaște': 1, 'zghilinda': 1, 'lele-ñi': 3, 'ahulinda': 2, 'căprină': 2, 'pînă-și': 1, 's-cunoaște': 1, 'luțeafirle-di-seară': 1, 'bărbatu-su': 1, 'ț-arupea': 1, 'si-u-mbună': 2, 'se-acăță': 1, 'poale-l': 1, 'agiumse-n': 1, 'putut': 4, 's-dănisească': 1, 'noștri': 6, 'nîscînț': 1, 'vasilița': 3, 'avdhela': 1, 'zmoclu': 1, 'samarina': 3, 'peristera': 2, 'bitule': 5, 'picurari': 2, 'dzeñili': 1, 'munț': 2, 'mușaț': 1, 'lume-ntreagă-l': 1, 'zilipsea': 1, 'sun': 1, 'aumbrata': 1, 'faglui': 1, 'zmei': 2, 'ș-mușaț': 2, 'dimneața': 7, 'zmeulu': 8, 'itată': 2, 'topile': 1, 'sare': 5, 'diunăoară': 5, 'di-ațel': 2, 'mortul': 3, 'cheptu': 9, 'ș-hicatile': 1, 'hipse': 2, 'niheamă': 11, 'zlape': 1, 'cumătice': 1, 'dzicîndalui': 1, 'aslan': 1, 'șidzu': 4, 'șuțîndalui': 2, 'sula': 3, 'añiurizmă': 1, 'gustoasă': 1, 'băgă-n': 1, 'hicat': 1, 's-li-ameastică': 2, 'li-ngl': 2, 'ită': 4, 'si-aduchească': 1, 'clucutea': 1, 'l-i': 1, 'si-nvîrtoșară': 1, 'zmuldzea': 1, 'mușatile': 1, 'fidane': 2, 'hire': 2, 'aducea': 1, 'virtute': 3, 'mîcată': 3, 'dintr-aestă': 2, 'și-aestă': 1, 'bucată': 6, 'culca': 3, 'se-agiuca': 8, 'se-ahundusea': 1, 'amînat': 4, 'ș-picurarlu': 4, 'hicatele': 1, 'mortului': 1, 'vîtîmă': 1, 'napoi': 2, 'stane': 2, 'ciudie': 5, 'fărtată-su': 1, 'astă-seară': 4, 'mulgu': 1, 'fărtatlu': 3, 'ditr-ațea': 1, 'scriată': 3, 's-țî': 6, 'zburîm': 1, 'fluiara': 2, 'tutulor': 3, 'di-acasă': 1, 'se-arucă': 1, 'diunăoară-n': 1, 'întribară': 2, 'pîțî': 1, 'înduplicat': 1, 'fărtatlui': 1, 'isusit': 1, 'soră': 2, 'zmeu': 1, 'ică': 16, 'stihio': 1, 'u-adusiră': 1, 'isusiră': 1, 'feata-n': 1, 'corlui': 1, 'aripidineadză': 2, 'sfulgul': 3, 'zmolcul': 1, 'niputîndalui': 1, 'se-alinară': 1, 'și-ahurhiră': 2, 'avlachiu': 1, 'seacă': 2, 'laclu': 2, 'noaul': 1, 'umplea': 2, 'lea': 12, 's-es': 1, 'armînă': 2, 'zmeil': 1, 'dipusiră': 2, 'hoară-lă': 1, 'enumerație': 1, 'bramin': 1, 'ședzundu': 1, 'inante': 1, 'ii': 4, 'indian': 1, 'fețea': 2, 'negoțitorie': 1, 'înverinatu': 1, 'răulu': 1, 'înțipui': 2, 'lucrarea': 2, 'inprapa': 1, 'me': 11, 'avearea': 2, 'căștigă': 1, 'buna': 1, 'sumeñe': 1, 'cunpară': 1, 'aurul': 1, 'orixa': 1, 'ne': 4, 'zi-ñi': 3, 'este': 13, 'aista': 5, 'nescante': 1, 'rău': 8, 'zuă': 1, 'is': 5, 'fumel': 3, 'pre': 17, 'ruzină': 1, 'ajutai': 1, 'ajunse': 1, 'darea': 1, 'partie': 1, 'blăstemai': 1, 'agudescu': 1, 'serv': 1, 'stipsească': 1, 'vărtos': 4, 'preimnare': 2, 'ședzui': 2, 'sub': 2, 'salți': 1, 'înțipură': 1, 'varigă': 2, 'brea': 2, 'bucuroasă': 1, 'znuia': 1, 'duspul': 1, 'loi': 1, 'ospețu': 1, 'englezlu': 1, 'madra': 2, 'niraire': 3, 'asplindere': 1, 'înjur': 1, 'englezl': 1, 'singuru': 2, 'englez': 1, 'vedeam': 1, 'țănea': 1, 'lacriñle': 1, 'apusu': 2, 'sumeñea': 1, 'az': 7, 'dimaneață': 2, 'miscui': 1, 'ahtîntu': 4, 'contentu': 2, 'ițido': 2, 'zare': 2, 'respusul': 1, 'discopiră': 1, 'brama': 1, 'indianlu': 2, 'demaneață': 1, 'căține': 1, 'apuse': 1, 'aduncoase': 1, 'unplute': 1, 'carețido': 4, 'cățin': 1, 'arină': 1, 'lut': 1, 'venitlui': 1, 'soarelui': 2, 'laγiceaște': 1, 'sufletile': 1, 'oaminlor': 1, 'cando': 4, 'verună': 2, 'tr': 1, 'îndreptul': 2, 'laeț': 1, 'necurată': 1, 'mintitură': 1, 'șade': 1, 'înforticată': 1, 'fundamendu': 1, 's-este': 2, 'martirie': 1, 'bucură-te': 2, 'minduiești': 2, 'vreun': 1, 'înveară-te': 1, 'blastimă': 3, 'înveață': 2, 'herbire': 1, 'întristat': 3, 'informă-ne': 1, 'braminlu': 2, 'sanitate': 2, 'sanitos': 2, 'suflet': 2, 'învețu': 1, 'vărtutea': 1, 'easă': 1, 'scutură': 1, 'isostasea': 1, 'sufletului': 1, 'arina': 1, 'aratolu': 1, 'încetu': 1, 'plase': 1, 'avae': 1, 'însirinată': 1, 'neți': 3, 'interes': 1, 'dămă': 1, 'agudire': 1, 'anacară': 1, 'rupaslu': 1, 'sufletlui': 1, 'bucuri': 2, 'bagatele': 1, 'ñiț': 2, 'felicit': 1, 'graiuri': 3, 'șî': 7, 'aistu': 3, 'tropu': 1, 'γiața': 1, 'rupa': 1, 'domnidzălui': 1, 'sufletlu': 2, 'mastor': 1, 'băgat': 1, 'ere-sa': 2, 'lăsă': 2, 'masturlichea': 2, 'negoțitor': 2, 'nescînți': 2, 'înbuguță': 2, 'eri-sai': 2, 'lănzidzi': 1, 'lăndzitlu': 2, 'citatil': 1, 'testamenta': 1, 'scrie': 3, 'nescînte': 1, 'plăsă': 2, 'avdzîndu': 1, 'scriitorlu': 2, 'cihtîsi': 2, 'tremura': 2, 'vrundu': 1, 'apresu': 2, 'ere-me': 1, 'meor': 1, 'sufletul': 1, 'neîndreptate': 2, 'arichii': 1, 'altui': 1, 'țănui': 1, 'înbuguțescu': 1, 'călcîndalui': 2, 'demîndăciuñile': 2, 'erta': 1, 'vreun-oară': 1, 'înjura': 1, 'înveța': 1, 'piguñi': 2, 'mîncată': 1, 'zile': 1, 'mîncare': 1, 'șcurta': 2, 'tr-oară': 6, 'aco': 1, 'hute': 2, 'țitate': 1, 'sbureră': 1, 'ghelile': 1, 'înfărmăcate': 1, 'aputrusiră': 2, 'omuriră': 1, 'mîncă': 1, 'pache': 2, 'jumitate': 2, 'sate': 1, 'lînzidzască': 1, 'volta': 3, 'lăsare': 1, 'fețe': 4, 'tyran': 1, 'truba': 1, 'doamnil': 1, 'oaspițl': 6, 'încot': 4, 'ședea': 2, 'ubor': 12, 'trubatu': 1, 'grobianu': 1, 'doamna': 5, 'huzmichear': 3, 'doamnă': 3, 'huzmichearlu': 5, 'demonipseaște': 1, 'trecundu': 1, 'barbatu-su': 1, 'roagă': 1, 'nerușinos': 1, 'contra': 1, 'doamnă-sai': 1, 'maritlu': 1, 'i-sui': 2, 'sculîndu': 2, 'numerl': 2, 'stătură': 1, 'firidă': 5, 'domnulu': 3, 'huzmichearlui': 2, 'cutidzași': 1, 'covă': 1, 'țănă': 3, 'arîdere': 1, 'niraită': 1, 'rușină': 1, 'bucuria': 1, 'trecu': 1, 'bolțile': 1, 'vidzundu': 1, 'ñiză': 1, 'boltă': 1, 'șase': 3, 'sute': 3, 'forinte': 1, 'filosoflu': 1, 'dionysiul': 5, 'învețlu': 3, 'quid': 2, 'agis': 1, 'prudenter': 1, 'agas': 1, 'et': 1, 'respice': 1, 'fă-o': 1, 'zacon': 1, 'agudi': 1, 'tyrania': 1, 'neîndreptatea': 1, 'sburască': 1, 'născînțî': 1, 'vătămare': 2, 'barberlu': 2, 'sursească': 2, 'graiurî': 3, 'cunpără': 3, 'ahțîntu': 2, 'aspăre': 1, 'tremurare': 2, 'surafea': 1, 'engastenu': 2, 'minduirea': 1, 'scunp': 1, 'inciureața': 1, 'părintelui': 1, 'arămăne': 1, 'aristip': 2, 'forte': 2, 'inciu': 1, 'glaru': 1, 'aristiplu': 2, 'ținte': 2, 'taleri': 1, 'diapoi': 1, 'avdehlă': 1, 'băiasă': 2, 'hori': 1, 'armânești': 1, 'strimtă': 2, 'chitroasă': 2, 'și-aripidinoasă': 2, 'și-ț': 1, 'dișteaptă': 3, 'aduțiri': 1, 'aminte-mpline': 1, 'șuiratlu': 1, 'furescu': 3, 'frundzilor': 1, 'avra': 2, 'pădurilor': 2, 'chiñi': 3, 'de-avarliga': 1, 'hiri-hiri': 1, 'bluchi': 1, 'șuirîndalui': 3, 'cîntîndalui': 4, 'cîntițe': 6, 'furești': 2, 'munțîli': 1, 'pindului': 1, 'se-au': 2, 'aualtari': 2, 'cîrvăñilor': 1, 'nîinte': 8, 'multi': 1, 'și-ncalar': 2, 'cioarile': 2, 'meslu': 1, 'stavru': 1, 'anlu': 4, '1901.': 1, 'suflă': 2, 'puteare': 5, 'frundzîle': 2, 'cîti': 3, 'galbine': 2, 'mîrînγipsite': 1, 'golnile': 1, 'murdz': 2, 'misu-aroși': 2, 'luțescu': 1, 'dzeñi': 1, 'cupie': 5, 'picuraril': 4, 'dînîpoi': 1, 'ș-lînoși': 1, 'fuviroșl': 1, 'area': 2, 'arîiră': 1, 'mitri': 5, 'curti': 4, 'mutrindalui': 2, 'soarile': 3, 'ascîpita': 1, 'topă': 1, 'pira': 1, 'făcîndalui': 1, 'cîrciliurle': 1, 'cîntic': 4, 'cîntițle': 6, 'giunești': 2, 'și-un': 5, 'șuirare': 1, 'ș-minută': 1, 'γis': 3, 'nasta': 21, 'hamu-arîdzîndalui': 2, 'aripa': 2, 'fălcarea': 2, 'ceanaca': 12, 'tușindalui': 2, 'fați': 2, 'anvîlit': 1, 'urît': 1, 'ascultam': 3, 'aspăreat': 2, 'țiγarea': 1, 'mutream': 1, 'i-avea': 2, 'măril': 1, 'luñina': 4, 'lunîl': 2, 'mutrita': 3, 'naltu': 2, 'dhiplarcu': 3, 'chipitos': 3, 'apufîsit': 2, 'furească': 1, 'barba': 4, 'stufoasă': 1, 's-pară': 1, 'em': 8, 'arîsit': 1, 'pri-aoa': 5, 'minîndalui': 2, 'dzeadzitle': 1, 'pleașcă': 1, 'noima': 3, 'capidanlu': 9, 'aspăreați': 1, 'plăteaște': 1, 'cu-ahîte': 1, 'loam': 2, 'rumănia': 2, 'ftuhipsească': 2, 's-dădea': 1, 'ñil': 3, 'tihe': 1, 'loat': 2, 'hrăniț': 1, 'geaba': 1, 's-veade': 6, 'cunoști': 1, 'arădzli': 1, 'se-armînem': 1, 'dhascale': 1, 'te-aspari': 2, 'nivreare': 1, 'sînîtos': 1, 'țisprădzațe': 1, 'livendzî': 1, 'ansîriră': 1, 'fadz': 2, 'aștiptăm': 1, 'zborlu-ț': 1, 'căpitane': 2, 'padea': 3, 'furlui': 3, 'astăseară': 2, 'nirdzeț': 1, 'aprindeț': 1, 'ș-băgaț': 1, 'aripidiñi': 2, 'creacuri': 2, 'agiumsim': 1, 'ș-noi': 2, 'vuloaga': 2, 'ascumtă': 2, 'cuibu': 1, 'birbeț': 1, 's-fridzeau': 1, 'sule': 1, 'arîspîndzîndalui': 1, 'ñiurizmă': 2, 'erau': 5, 'lăi-cătrane': 1, 'asimcadzl': 1, 'zvelțî': 1, 'dîldîsiț': 1, 'ficiurac': 2, 'optuspraț': 1, 'giuneață': 3, 's-ținăm': 1, 'cuñeaclu': 1, 'fripțî': 1, 'capitane': 1, 's-băgăm': 1, 'heamă': 1, 'singuri': 3, 'erñil': 2, 's-chivirnisescu': 1, 'piristasea': 1, 'cu-aesti': 1, 'n-acl': 1, 'cioalile': 1, 'mîcam': 2, 'γinu-ațel': 1, 'aroșlu': 2, 'ardea': 7, 'chiñil': 3, 'șupirau': 1, 'vîzea': 1, 'stri': 4, 'γilcea': 1, 'albă': 6, 'țer': 4, 'sirin': 3, 'icoană': 3, 'se-adună': 2, 'trimbura-n': 1, 'γiamandu': 1, 'trimburau': 1, 'ascuturîndalui': 1, 'pulbirea': 2, 'limpide': 1, 'plină': 1, 'mistirγiu': 3, 'ș-mușiteață': 1, 's-ț-aduț': 1, 'pădurile': 6, 'mutrea-n': 1, 'cloșca': 1, 'mintidalui': 1, 'ună-oară': 7, 'jarlu': 2, 'scris': 2, 'duruț': 2, 'armâñi': 6, 'pîțîtă': 1, 'solomon': 1, 'mei': 2, 'ș-featile': 1, 'vreau': 2, 'le-agîrșii': 1, 'γinγiț': 2, 'lichia': 1, 's-him': 1, 'aγru': 1, 'giudicată': 1, 'avui': 1, 'arcat': 1, 'brăndzi': 1, 'vîrsta': 1, 'lumea-ț': 2, 'hărioasă': 3, 'lilicea': 1, 'muntelui': 1, 'aroaua': 1, 'γiamandzîle': 1, 'data': 1, 'ascîpitata': 1, 'fliturl': 1, 'hîrioși': 1, 'trandaflile': 1, 's-bași': 1, 'vrutăl': 1, 'sclăvuiască': 1, 'paradzl': 2, 'împrumutaț': 1, 'bifă': 1, 'vindea': 2, 'agrile': 1, 'idea': 3, 'lu-alăsa': 1, 'ahîtă': 3, 'stoguri': 3, 'ficiurițl': 1, 'sertic': 2, 'se-am': 2, 'mumea': 1, 's-pot': 1, 's-bănedz': 1, 'isi-n': 1, 'hurγeanitlu': 1, 'chițu': 5, 'făr': 1, 'slab': 1, 'știț': 4, 'agrîle': 1, 'dizgrupă': 2, 'muluγie': 1, 'di-a': 4, 'căsica': 3, 'gol-gulișan': 1, 'minciunos': 1, 'muluγiea': 1, 'tată-ñiui': 1, 'pindară': 1, 'zborlu-a': 1, 'acăța': 5, 'amărtia': 2, 'rigeaie': 1, 's-ñi-alasă': 2, 'mumă-mea': 1, 'piștireaua': 1, 'duru': 1, 'plîngul': 1, 'mu-meai': 1, 'fuvirsii': 1, 'greale': 4, 'hurγeanit': 1, 'dzîsă': 2, 'știindalui': 1, 'învițai': 2, 'thimeal': 2, 'casa-l': 1, 'avearea-l': 1, 'grînele': 1, 'ambări': 1, 'muluγiile': 2, 'tuchiț': 1, 'agiurat': 1, 'lu-aveam': 2, 'fuvirsită': 1, 'giudicat': 1, 'ñi-au': 1, 'dirnată': 2, 'tinereață-ñi': 1, 'fantasmă': 2, 'fricoasă': 2, 'murmintu': 2, 'îndzernu': 1, 'tirañe': 1, 'tirañile': 2, 'mu-mea': 7, 'mărata-și': 3, 'avdzam': 1, 'șupira': 1, 'fă': 2, 'urîte': 1, 'durñeam': 1, 'mut': 1, 'mărinat': 1, 'hearile': 1, 'firidz': 1, 'se-adar': 1, 'se-ascap': 1, 'tu-ahtări': 1, 'vindică': 1, 'lișureadză': 2, 'se-aprindu': 2, 'aduchești': 1, 'nou': 2, 'curagios': 1, 'acățai': 1, 'îmbărbătedz': 1, 'cîlescu': 1, 'hearele': 2, 'mîcate': 1, 'di-arudzină': 1, 'inγisam': 2, 'libertatea': 2, 'cîmbăñile': 3, 'biseriț': 3, 'anghil': 5, 'toaca': 3, 'lilicile': 2, 'ligănate': 2, 'vintu': 2, 'arîspîndza': 1, 'dulțea': 1, 'apufăsii': 2, 'liber': 4, 'ușe': 4, 'evlavia': 1, 'și-aoațe': 1, 'cu-ahîtă': 1, 'ansăriră': 1, 'se-avdza': 8, 'isoarea': 1, 'agalea-galea': 1, 'scoș': 2, 'lungu': 7, 'fașea': 1, 'foartică': 2, 'le-adrai': 1, 'uună': 2, 'fune': 4, 'noade': 1, 'ligai': 1, 'capit': 1, 'mi-astrapșu': 1, 'gră': 1, 'trundui': 1, 'lîndzită': 2, 'și-nvirinare': 3, 'ñi-loai': 2, 'ia-me': 2, 'acupiriț': 1, 'bat': 2, 'și-ahît': 3, 'cîndu-ți': 1, 'bitrînul': 1, 'nost': 1, 's-ñi-afirească': 1, 'truplu-ñi': 1, 'putridzască': 1, 'tute-aeste': 2, 'șeasprădzațe': 1, 'astreahă': 1, 'chideri': 1, 'ni-avuț': 1, 'agiut': 2, 'inima-ñi': 1, 'pistipsiț': 1, 'nai': 1, 'bulnu': 1, 'aγrime': 2, 'mi-adar': 2, 's-mi-agudească': 1, 'ñilos': 1, 'ș-pirifan': 2, 'furtunos': 1, 'oarfăñi': 1, 'mutriț': 1, 'mintindalui': 1, 'tîmbarea': 3, 'zărcula': 2, 's-culcă': 1, 'arîdzătina': 1, 'hăreau': 1, 'agale': 1, 'scîntil': 2, 'os': 2, 'γilceau': 1, 'strî': 1, 'cîrciliulu': 1, 'muntilui': 2, 'albastru': 2, 'vergură': 1, 'mărinata': 1, 'lună': 11, 'nicată': 1, 'nidurñită': 2, 'ñirdzea': 1, 'γilcirea': 1, 'unei': 1, 'steauă': 1, 'munțîl': 4, 'cîrîvel': 1, 'capidan': 10, 'pîrnări': 1, 'tesalia': 1, 'dzîuă': 1, 'vatră': 5, 'căpărledzî': 1, 'sculie': 1, 'garel': 1, 'breazna': 3, 'leonida': 3, 'cușu': 1, 'cole': 1, 'ghiză': 1, 'ahîntor': 1, 'capidañi': 1, 'morțî': 3, 'astîndz': 1, 'altu-țiva': 1, 's-acreaștim': 1, 's-ișim': 2, 'aprimță': 2, 'împărțam': 1, 'cura-fîntînă': 1, 'proaștea': 2, 'arcurile': 3, 'păleanele': 2, 'toate': 10, 'buluchi': 2, 'scuteam': 2, 'călimările': 4, 'acățam': 1, 'bărbaț': 5, 'eri': 4, 'dispartă': 1, 'cărdălie': 1, 'avdelă': 3, 'băteam': 3, 'măhălălu': 1, 'chețrîle': 1, 'γineau-grindină': 2, 'praștile': 2, 'se-anvărteau': 2, 'fățeau': 2, 'sire': 1, 'se-alăvdau': 1, 'asvindzeam': 1, 'graele': 1, 'neapucate': 1, 'zălsite': 1, 'γineam': 1, 'tălăgane': 1, 'cămeșile': 1, 'săndzile': 5, 's-cură': 2, 'ciongiul': 1, 's-o-angan': 4, 'dzic': 1, 'araste': 1, 'γinim': 1, 'dusirăm': 2, 'pișnică': 2, 'cumbură': 5, 'arudzinită': 2, 'apărñisită': 1, 'adunăm': 1, 'buboañea': 1, 'intrăm': 1, 'fearică': 8, 'fățeam': 4, 'limere': 3, 'căldura': 2, 'alipidham': 1, 'împroști': 1, 'acredeam': 1, 'cărăule': 4, 'măγulă': 1, 'durñiră': 2, 'alanță': 5, 'încăceai': 1, 'niură': 1, 'udăm': 1, 'pirpirună': 1, 'născănță': 1, 'ploaie': 3, 'iască': 2, 'mănear': 2, 'sturnare': 3, 'bumbunidza': 2, 'trimburam': 1, 'harazma': 3, 'plailu-plailu-n': 1, 'ardzel': 2, 'șuputic': 1, 'cupañe': 1, 'scoasem': 1, 'pănea': 2, 'și-ngustăm': 1, 'gioñilor': 2, 'aleapsit': 2, 'aleadzeț': 1, 'gras': 3, 'arîseră': 1, 'cutidzau': 1, 'capetele': 1, 'aspindzurate': 1, 'chinisiră': 1, 'ișim': 1, 'arăită': 1, 'tămbarea': 4, 'de-anumir': 2, 'andupărat': 2, 'cărlig': 3, 'mitru': 7, 'cealera': 5, 'cusurin': 4, 'murdzî': 2, 'cupia': 4, 'pășteau': 1, 'chipurle': 1, 'asunau': 3, 'minduiam': 2, 'tirtipea': 1, 's-poată': 3, 's-fură': 1, 'noatenlu': 1, 'acari': 1, 'și-aștirnu': 1, 'arâdea': 1, 'haide': 4, 'cărligu': 2, 'păli': 3, 'două-trei': 2, 'graeli': 1, 'plîngîndalui': 2, 'noaten': 3, 'șideau': 2, 'mărănaț': 2, 'imăm': 1, 'și-alanțî': 1, 'de-aγie': 1, 'fricoși': 1, 'dzîș': 7, 'pătăreauă': 1, 's-hiț': 2, 'hăscători': 1, 'dă-n': 1, 'dreapta': 2, 'stănga': 2, 'custură': 1, 'însărăm': 1, 's-avem': 1, 'cuțut': 1, 'deadim': 1, 'birbeclui': 1, 'fustanele': 1, 'arme': 3, 'minduim': 2, 's-căftăm': 1, 'capidañil': 1, 's-lom': 2, 'văr': 5, 'sclav': 2, 'păradzl': 1, 'se-acumpărăm': 1, 'apruchem': 1, 's-durñim': 2, 'case': 10, 'aspăream': 2, 'doilea': 1, 's-armînem': 1, 'cărvel': 1, 'arațe': 2, 'sirină': 1, 'dusim': 1, 'gugulecă': 1, 'pitricum': 1, 'luñiñile': 1, 'căntă': 1, 'chimaneile': 1, 'mănă': 6, 'se-aștiptăm': 1, 'treațire': 2, 'ligăm': 2, 'ascumsim': 1, 'ianina': 3, 'șuirăm': 2, 'inși': 4, 'cumburele': 2, 'fărnu': 1, 'dzîseră': 2, 'bubulic': 1, 'se-aspară': 1, 'șapte': 1, 'ficiuriț': 1, 'acredzu': 2, 'marele': 1, 'ansuțea': 1, 'discălică': 1, 'i-alas': 1, 'ñi-adunai': 1, 'suflitlu': 3, 'înprostu': 2, 'trimburată': 1, 'năirit': 2, 's-ñi-arup': 3, 'gușa': 3, 'ligaț-lu': 1, 'agrii': 2, 'pășpacă': 1, 'brațăle': 3, 'învărti': 1, 'braț': 3, 'sămar': 1, 'încalecă': 1, 'ligaț': 3, 'imurau': 3, 'angăneau': 2, 'uhtau': 2, 'alasă-nă': 2, 'dizleagă-nă': 1, 'tisagă': 3, 'scărcicam': 2, 'dispindzur': 2, 'acățăm': 1, 'furlichea': 1, 'de-anafal': 1, 'videam': 2, 'anapuda': 1, 'agiumță': 1, 'spuse': 8, 'ahure': 1, 'vără': 3, 'me-alăsă': 1, 'aspindzurat': 1, 'giumitate': 3, 'heavră': 2, 'căpitănata': 1, '48': 1, 'toată': 5, 'bărbărută': 1, 'urliclu': 5, 'ș-di-alantă': 1, 'se-areadzimă': 1, 'vitul': 2, 'flor': 1, 'furat': 1, 'exarhu': 1, 'îndridzea': 1, 'frigă': 2, 'soțu-a': 2, 'avdzît': 5, 'sî': 1, 'șueră': 1, 'șchepe': 1, 'arîsea': 1, 'fîrtate': 3, 'daucă': 13, 'inușa': 2, 'ascapită': 2, 'luțeafirlu': 1, 'pălește': 1, 'păzare': 4, 'grebena': 2, 'aγuñisea': 1, 'ardzî': 2, 'arumanea': 1, 'cupăceari': 1, 'maiu': 2, 'treidzăț': 1, 'dăucă': 1, 'arădea': 1, 'aruși': 1, 'văzi': 2, 'cireș': 1, 'si-ncl': 2, 'scoatere': 1, 'aroput': 2, 'se-avdză': 2, 'fucurină': 1, 'născînte': 1, 'se-arucutiră': 1, 'țirimonie': 1, 'ververa': 19, 'tiște': 1, 'bărbat': 4, '35-40': 2, 'ani': 3, 'nainte': 2, 'turț': 6, 'băgată-n': 1, 'hapse': 1, 'arsă': 7, 'păgană': 1, 'ș-noapte': 3, 'se-aduțea': 1, 'culauz': 2, 'arăț': 4, 'izvure': 2, 'biutura': 1, 's-mina': 4, 'frăndza': 1, 'price': 3, 'se-alipida': 2, 'armă': 1, 'fudul': 1, 'chiusteca': 1, 'de-asime': 2, 'suflată': 2, 'călțăvetea': 2, 'șoptulu': 1, 'primveara': 2, 'armâñil': 2, 'pliguit': 2, 'geandarl': 1, 'cutar': 1, 'aruga': 1, 'lu-ascăpă': 1, 'că-ntribară': 2, 'ascherl': 2, 'adusiră': 3, 'urma': 1, 'șpirtui': 2, 'vițină': 1, 'sîmtă': 1, 'piștireauă': 1, 'alătratlu': 2, 'piricl': 2, 'ișire': 1, 'ș-din': 3, 'di-ndzeană': 1, 'stricura': 1, 'surpurile': 1, 'căprioril': 2, 'ververă': 1, 'eară': 6, 'aburea': 1, 'silehi': 1, 'diñicară': 1, 'buțle': 1, 'păreau': 1, 'aγălisea': 1, 'ligăna': 1, 'fluerară': 1, 'mas': 2, 'văți': 3, 'cupăcerești': 1, 'ciocane': 1, 'trăgănos': 1, 'gîl-gîl': 1, 'zalurda': 1, 'di-arubine': 1, 'plosca': 2, 'dzîsim': 2, 'γinlu': 2, 'oaspețl': 1, 'se-adărară': 1, 's-timsiră': 1, 'arburi': 2, 'cuți': 1, 'harasma': 1, 's-aruncă': 1, 'aveagl': 4, 'albeața': 1, 'ș-ocl': 2, 'ghinilea': 2, 'durñea-dus': 2, 'tot': 6, 'sîmțea': 1, 'chimerea': 4, '50-60': 2, 'cădzură': 2, 'diștiptă': 4, 'lirele': 4, 'dzeadzitlu': 1, 'șupiră': 1, 'vătămăm': 2, 'strimse': 1, 'bușlu': 1, 'dzeadzite': 1, 'și-acăță': 1, 'mustața': 1, 'cinghel': 1, 'mîrșea': 1, 'chimere': 1, 'puteau': 1, 'capre': 1, 'grebene': 1, 'aidiț': 2, 'minutle': 1, 'mîcat': 1, 'biut': 2, 'durñit': 2, 'tulbure': 2, 's-minduiră': 2, 'ahîndos': 2, 'aruncară': 2, 'cuțutile': 1, 'scoal': 1, 'dișteaptă-te': 2, 'deadeși': 2, 'ospețîl': 2, 'giuratlu': 2, 'scuturară': 2, 'aruptă': 1, 's-disțimse': 2, 'misură': 2, 'bucățle': 1, 'hirile': 3, 'barbă': 1, 'trimbura': 3, 'arucutoasă': 1, 'mărdzeauă': 1, 'de-aestă': 2, 'picurarilor': 2, 'tote': 1, 'cărtit': 1, 's-escu': 1, 'ș-eu': 10, 'ñilîos': 2, 'angănă': 2, 'eauă': 1, 'manlihera': 1, 'curauă': 6, 'pitrunicl': 2, 'cîntau': 2, 'șuirau': 2, 'turmele': 2, 'algheau': 2, 'goliñi': 3, 'luñinos': 1, 'vodenisco': 2, 'aurla': 2, 'văcărie': 2, 'cupăciaril': 1, 'arătură': 1, 'erile': 3, 'tu-ncl': 1, 'isoare': 2, 'armănescu': 1, 'caval': 1, 'heare': 1, 'jiloasă': 2, 'ciucirarea': 2, 'vimtlui': 1, 'ascultau': 2, 'minduiț': 2, 'mutreau': 2, 'spuza': 1, 'se-adrăm': 2, 'bisearica': 8, 'loași': 1, 's-u-adară': 1, 'dușmañi': 1, 'lucrătura': 1, 'vărache': 1, 'altar': 2, 'videau': 1, 's-ñirau': 2, 'dantelăria': 2, 'fină': 2, 'săpată': 1, 'mastur': 1, 'toț': 10, 'sîmțîl': 1, 'se-aducă': 2, 'icunari': 2, 'manliherile': 1, 'arbineși': 1, 'ciuciula': 1, 'se-aprinse': 1, 'tufechile': 7, 'aștiptau': 1, 'mîrșă': 1, 'trecător': 1, 'armânescu': 2, '1769': 2, 'ñeadză-toamna': 1, 'ș-patru': 1, 'nopț': 1, 'avuta': 4, 'pirifina': 2, 'voscopole': 3, 'fleacă': 5, 'cîsîbălu': 3, 'armîniului': 2, 'prot': 1, 'cîsîbadzl': 2, 'voscopolea': 6, 'averile': 2, 'numir': 1, 'palățle': 1, 'grădiñile': 1, 's-anălța': 1, 'alăvdata': 1, 'niculiță': 1, 'vărtoasa': 2, 'γramoste': 2, 's-ducă-n': 1, 'arăi': 2, 'mușitețle': 2, 'ziliu': 1, 'i-acăța': 1, 'livendzîl': 1, 'vîrtutea': 1, 'nu-alăsară': 1, 's-calcă': 2, 's-lă-mpradă': 2, 'dușman': 4, 'ș-cîntic': 1, 'ș-az': 1, 'dzua-l': 1, 'nioaspițl': 1, 'plicusiră': 1, 'muștile': 2, 'fundul': 1, 'arbinișie': 1, 'sculată': 1, 'turcamea': 2, 's-u-mpradă': 1, 'voscopoleñi': 1, 'virsară': 1, 'purtară': 4, 'fișechi': 2, 'pudhγeao': 2, 'bărbațl': 3, 'din-sus': 1, 'dinghios': 1, 'avdzîta': 1, 'academie': 1, 'tipografia': 1, 'turchie': 2, 'bibliotecă': 2, 'sculiile': 2, 'palățile': 2, 'aurlările': 2, 'sghicurile': 2, 'erilor': 1, 'plăngul': 1, 'icoana': 2, 'hrisusită': 2, 'stă-mărie': 3, 'candilă': 1, 'împroastă': 1, 'galbină': 8, 'peturlu': 2, 'țeară': 1, 'plîmtă': 2, 'ș-lăcrimată': 2, 'sultana': 6, 'tiniră': 3, 'chendra': 7, 'sarică': 6, 's-încl': 4, 'i-ascapă': 1, 'bărbat-sui': 1, 'căpitiñiu': 1, 'ficiuric': 3, 'avγiuliile': 1, 'frămse': 1, 'ascîpită': 2, 'înγie': 2, 'ascumsă': 2, 'fleacăl': 1, 'luñinare': 2, 'vițiñi': 3, 'perl': 1, 'dispultiț': 1, 'națl': 1, 'brață': 2, 'ciușuiț': 1, 'aspăreaț': 5, 'nu-avdza': 1, 'zghicurile': 1, 'vrutlu': 1, 'e-l': 2, 'adu-ñi-l': 1, 'mitrulu': 2, 'împrustată': 1, 'mama': 3, 'căndila': 2, 's-apleacă': 2, 'anvîrliga': 1, 'tata': 4, 'asunări': 1, 's-avdzîră': 1, 'zghic': 1, 'pitrundea': 1, 'poarta': 2, 'cicălisit': 1, 'marmură': 1, 'lișinată': 3, 'bărbat-su': 1, 'și-lu': 2, 'agudit': 3, 'lu-aduțea': 1, 'zghiliri': 2, 'vîrtoase': 3, 'aγre': 2, 'arăsunară': 2, 'arnăuțil': 1, 'giunamea': 1, 'chirură': 2, 'aprindea': 4, 'ia-l': 6, 's-aproache': 3, 'arăvuescu': 2, 'alumtător': 1, 'i-a': 2, 'ñei': 3, 'sunchil': 1, 'chirdut': 3, 's-armîneț': 1, 'ș-fără': 1, 'na-vă': 1, 'tr-aduțere': 1, 'vîrnă-oară': 1, 'arnăuțl': 1, 'frăndzea': 1, 'porțî': 1, 'brîulu': 1, 'udălu': 1, 'anălțară': 1, 'apalile': 1, 'ñițl': 1, 'ahăt': 5, 'jilos': 3, 'plîngăros': 1, 'iniñile': 1, 'dușmañilor': 2, 's-mul': 3, 'brațle': 1, 's-asteasiră': 1, 'pălaț': 1, 'erñie': 2, 'înγeadză': 1, 'vîrnoară': 1, 'dzîle-cale': 2, 'pi-arîulu': 2, 'vardar': 2, 'cîsîbă': 5, 'velescu': 2, 'vindecară': 1, 'arăñile': 1, 'plănsiră': 1, 'doxă': 1, 'nao': 1, 'si-mprustară': 1, 'toamnă': 2, 'aspartă': 1, 'întunicată': 1, 'arcuroasă': 2, 'pitrunde': 1, 'negurile': 1, 'tăcuț': 4, 'niuraț': 1, 'pit': 4, 'discalică': 2, 'gheorghi': 3, 'budze': 1, 'arăspîndea': 1, 'fleaca': 2, 'călători': 3, 'tricutlu': 2, 'pripsitlu': 2, '40': 4, 'sufrînțeaua': 2, 'mărdzilată': 3, 'armân': 4, 'părmăteftu': 2, 'anadolie': 2, 's-bănaț': 1, 'țal': 5, 's-cunuștea': 1, 'grumadzu': 1, 's-arse': 3, 'horile': 1, 'coloñia': 1, 's-pascu': 1, 'misur': 3, 'prăvdzîlor': 1, 'beu': 1, '15': 1, 'pășteam': 1, 'irghilie': 1, 'pățîtă': 1, 'arale': 2, 'spunearea': 1, 'dipreapoia': 1, 'beulu': 1, 'ñearse': 3, 'pole': 1, 'hare': 1, '20': 1, 'buñi': 6, 'chirui': 1, 'me-aduse': 1, 'de-analtu': 1, 'astădz': 1, 's-nu-armână': 1, 'moartea-ñi': 1, 'așteargă': 1, 'le-acumtină': 1, 'voscopoleană': 3, 'vîtămat': 3, 'pitrumse': 1, 'puțîne': 4, 'mitrul': 2, 'fața-l': 1, 'țeara': 2, 'apoi': 5, 'cartea': 2, 'ș-cădzu': 2, 'agudită': 1, 'sfulgu': 3, 'oaspele': 1, 'pățîri': 2, 'sultane': 1, 'surina': 2, 'sora': 7, 'fratle': 1, 'dupa': 2, 'armiro': 7, 'thisălie': 3, 'cîmpul': 1, 'cătră-nghios': 1, '1897': 1, 'minaree': 3, 'mare-ncăceare': 1, 's-iu': 1, 'minduia': 2, 'si-u-alasă': 1, 'kir': 2, 'dimarhul': 6, 'gugiabașlu': 2, 'întredz': 5, 'si-ncăceară': 1, 'tr-aestu': 2, 'armiroț': 1, 'nica': 8, 'ciorbagiadzl': 1, '97': 1, 'tîl': 1, 'tufeche': 3, 'niañiurdzită': 1, 'bîrutea': 1, 'mulț': 1, 's-dusiră-n': 1, 'le-avură': 1, 'sănătoase': 1, 'împline': 1, 'aγriñi': 1, 'hala': 1, 'turțîl': 6, 'armiroțl': 2, 'și-al': 1, 's-lî': 5, 'încheadică': 1, 'tu-alăgare': 1, 'stratioțl': 1, 's-lișurară': 1, 'greața': 1, 'purta': 1, 'și-alte': 4, 'nilipsite': 1, 'acață-l': 1, 'tîrnuva': 2, 'larisa': 2, 'trîcol': 4, 'fersala': 3, 'viliștin': 3, 'domoco': 2, 's-loa': 2, 'ierihonlu': 2, 'dzuă-noapte': 1, 'agîrșiră': 1, 'încîcerle': 2, 'mingilizea': 2, 'se-asparse': 2, 'ș-tuț': 2, 'athina': 3, 'piloponis': 3, 'nisii': 3, 'ș-naparte': 1, 'di-amare': 2, 'avdă': 2, 'tochile': 2, 'ș-tufechile': 1, 'casile': 1, 'halale': 1, 's-vrea': 2, 'dîdea': 1, 'i-aduchească': 1, 'turțîli': 1, 'cîsîbălui': 3, 'duchiră': 1, 's-lipsească': 1, 'frunte': 2, 'apufăsiră': 1, 'ș-de-aclo': 1, 'și-atumțea': 5, 'si-u-angană': 2, 'dimarhu': 2, 'niapirită': 2, 'friptă': 1, 'și-arăvda': 1, 'ș-turțîl': 1, 's-me-ascapă': 1, 'stîmînă': 1, 'ciuleaște': 1, 'vrondu': 2, 'flămuri': 1, 'fesuri': 1, 'plîscînirle': 2, 'ș-cîntițe': 1, 's-trunduiră': 1, 'ș-văl': 1, 'iurle': 1, 'nibitisit': 1, 's-dipuse': 2, 'di-armîne': 1, 'strigare': 1, 'i-avina': 1, 'și-alăsară': 1, 'cordzîle': 3, 'și-agîrșiră': 2, 'erle': 2, 'disviscuț': 2, 'disculțî': 2, 's-părea': 2, 'ună-ună': 1, 'arăsuna': 1, 's-vî': 1, 'armâñi-fărșiroț': 1, 'fărșiroțl': 1, 'încalar': 2, 'flămburi': 2, 'aruca': 4, 'numtarl': 1, 'fărșiroț': 1, 'stratolu': 1, 'se-aspăreară': 1, 's-achicăsească': 1, 'cathe-un': 1, 'dimarhlui': 1, 'adevărațl': 2, 'di-ahîtă': 1, 'pidhipsire': 1, 'se-aγunisiră': 1, 'nopțîle': 3, 'iarnă': 3, 'aurlă': 2, 'năfoară': 2, 'șuț': 2, 'doagă': 2, 'dinintea': 3, 'irtata': 3, 'mina': 2, 's-dipune': 3, 's-năireaște': 3, 'vîrγeaște': 2, 'niveastile': 1, 'thimisescu': 1, 'fîltar': 1, 'cîsor': 2, 'gl': 3, 'schinare': 2, 'pișchire': 1, 'țipune': 1, 'prisupră': 2, 'mesi': 1, 'palma': 1, 'bîgată': 1, 'maia': 2, 'spindzura': 3, 'cîstură': 4, 'ș-veacl': 3, 's-aprease': 1, 'țîruhi': 1, 'imnare': 2, 'căhtești': 1, 'sufre-sufre': 1, 'moașea': 1, 'inate': 1, 'întribaț': 2, 'nuclu': 1, 'tată-ñiu-l': 1, 'simină': 1, 'curcusura': 1, 'școp': 1, 'aplicată': 1, 'anarga-anarga': 1, 'păzarea': 1, 'nipoțl': 2, 'himusim': 1, 'puțîñi': 2, 'patrusprîdzațe': 1, 'trîdzea': 1, 'trastru': 1, 'poală': 4, 'mîna-n': 1, 'pîtidzîre': 1, 'strigam': 1, 'aroată': 1, 'deavîrliga': 1, 'ficiurie': 1, 'mi-apitrusit': 2, 'bășeam': 1, 'împărțî': 2, 'alunile': 2, 'lavă': 2, 'încăceam': 1, 'alună': 1, 'nurări': 2, 's-afla': 2, 'angreacă': 2, 'dado': 5, 'încaci': 1, 'mîñile-n': 1, 'ciciorele': 1, 'cîile': 1, 'înveastile': 1, 'nu-aveau': 1, 'soacril': 1, 'șeapte': 1, 'nintea': 1, 'sucrimil': 1, 'tinirile': 1, 'lu-avina': 2, 'cîvgălu': 2, 'ș-ahît': 2, 'nora': 1, 'adu': 1, 'druga': 1, 'marțu': 4, 'agărșiși': 1, 'mîne-i': 1, 'marțul': 3, 'strigăm': 1, 'numiră': 3, 'cutie': 1, 'pîrădziț': 1, 'guvă': 1, 'lăească': 1, 'sirpicaț': 1, 'imnaț': 1, 'întunearic': 1, 'lîndurile': 1, 'lilioțl': 1, 'scotă': 2, 'nuc': 3, 'lîndărușile': 1, 'cîntaț': 1, 'lîndărușe': 4, 'fachicușe': 4, 'ș-tate': 2, 'meauă': 2, 'viaete': 1, 'ș-birichete': 2, 'strigaț': 2, 'aripitle': 2, 'tale': 3, 'aripile': 1, 'lînduril': 1, 'uscată': 1, 'agiune': 2, 'angl': 3, 'itaț': 1, 'loatile': 2, 'furca': 3, 'caer': 2, 'albu': 2, 'ñeargă': 2, 'ambar': 1, 'băgaț': 1, 's-înțăpaț': 1, 'aclu': 1, 'sirpicheadză': 2, 'putem': 1, 'sculăm': 1, 'lăngori': 1, 'mușcări': 2, 'înțăpături': 1, 'mîñi': 4, 'ș-borge': 1, 'plătiț': 1, 's-v-aflaț': 1, 'lale': 1, 'teja': 1, 'apus-apus': 1, 'alasă-le': 3, 's-țam': 2, 'urăciunea': 4, 'ș-nipoțl': 2, 'cățe': 3, 'lîndura': 1, 'ș-cățe': 1, 'ș-adară': 2, 'cuibul': 4, 'și-are': 3, 'ghiurdane': 2, 'acîță': 9, 'narea': 2, 'ilichie': 3, 'țindzăț': 1, 'eeee': 1, 'ș-chirolu': 1, 'featilor': 1, 'aschere': 3, 'cripare': 1, 'dimineață': 1, 'nîrăit': 2, 'nia': 2, 'tru-aschere': 2, 's-v-alas': 1, 'măriț': 1, 'nolgicana': 1, 's-plîndzea': 1, 'ș-ñica': 1, 'uhtedz': 3, 'plîndzî': 3, 'spune-ñi': 1, 'aflăm': 2, 'cearei': 2, 'paral': 1, 'surările': 2, 'disparță': 2, 'pitreacă': 2, 'frămte': 1, 'îndreapse': 3, 'ficiurești': 3, 's-dispărțîră': 1, 'palatea': 4, 'noulu': 2, 'ascherli': 4, 'duțeț-vă-n': 2, 'cirșie': 2, 'neale': 2, 'veri': 2, 'ghiurdăñi': 2, 'biligichi': 3, 'rivolveri': 2, 'cuțute': 1, 'cîțilușil': 2, 'zboarle': 2, 'ș-vru': 1, 'giuvaergi': 1, 'culcaț': 2, 'iarbă': 7, 'fag': 3, 'sculaț': 2, 'aroauă': 3, 's-mărănγipsească': 1, 'ș-noulu': 2, 'durñeau': 1, 'apă-n': 1, 'adăpară': 2, 'sibepea': 1, 'ñearsiră': 1, 's-bătură': 2, 'giuneț': 2, 'azvinsiră': 2, 'sîlghită': 2, 'tr-acasă': 2, 'ñi-eram': 1, 'sivdaie': 1, 'feată-ascherli': 1, 'țiritor': 2, 'dispiticate': 3, 'cărușe': 1, 'hoară-hoară': 1, 'fuse': 12, 'dinte': 2, 'misura': 1, 'gîrnuț': 1, 'și-alasă-l': 1, 'iñi': 1, 'aestu-ñi': 1, 'nicuchirlu': 1, 'casil': 3, 'fusarlu': 1, 'ñeadză-nopță': 1, 'arucă': 7, 'țară': 1, 'sfinduchea': 1, 'anumirea': 1, 'ș-fudz': 1, 'n-aflăm': 2, 's-intrăm': 1, 'furară': 1, 's-giură': 1, 'sfinduche': 1, 'înviscură': 2, 'amirărești': 1, 'țiva-ici': 2, 'ș-bitisită': 1, 'huzmicheară': 1, 's-isusi': 1, 'apărñiră': 2, 'aluat': 3, 's-fîrmită': 2, 'marata': 3, 'nimîcată': 1, 'ș-plîndzea': 1, 'plîndz': 1, 'tetă': 2, 'paț': 2, 'aprochi': 1, 'lamñil': 1, 'mer': 4, 's-mîți': 1, 'oase': 3, 'dinainte': 1, 'oasile': 1, 'arucă-le': 2, 'nicurată': 1, 'jegne': 2, 'cură-o': 2, 'dipuni-te': 1, 'aluatlu': 1, 'afoară': 1, 'struxea': 1, 'pingeri': 1, 's-lo': 1, 'fîntănă': 2, 'acață-u': 5, 'arucai': 5, 'alăsai': 2, 'ș-pi': 3, 'tine-ñi': 1, 'dădeai': 1, 's-mîc': 1, 'ñi-arucă': 1, 'încalic': 2, 'schiñil': 1, 'ș-feata': 1, 's-arnească': 1, 'înveastil': 1, 'ascundi-te': 3, 'astă': 2, 'minaț': 1, 'curată-γilie': 2, 'γrambolu': 1, 's-aruviñi': 1, 'socru-ñiu': 1, 'purtată': 1, 'corba': 1, 's-tuchi': 1, 'ascăpași': 1, 'di-arale': 1, 'țirlu': 1, 'țeri': 1, 'dzadă': 1, 'dzada': 2, 's-ardă': 1, 'cufă': 6, 'dorină': 5, 'glară': 2, 'nevol': 1, 's-azbori': 2, 'lindărușe': 2, 'irușe': 1, 'și-azbuiră': 1, 'tru-ațea': 1, 'cripitura': 1, 'fustanea': 1, 'foartica': 1, 's-acîță': 1, 'di-ațea': 2, 'lîndărușa': 1, 'lîndură': 2, 'niveastă': 5, 'și-adară': 4, 'streahă': 1, 'lîndure': 1, 'cucoțl': 3, 'irtă': 1, 'plîmsim': 1, 'gailei': 4, 'ază': 2, 'curcusuri': 1, 'arăspîndiț': 2, 'ș-pri-aclo': 3, 'îngrochi': 1, 'călca': 1, 'tu-ntunearic': 2, 's-tuchească': 2, 'ñeadză-veara': 2, 'părjală': 1, 'armâñilor': 2, 'guri': 2, 'lu-alină': 2, 'tu-arniu': 3, 'cripat': 1, 'și-nvirinat': 1, 'cripările': 3, 'oilor': 1, 'aștirnuminturile': 1, 'cailor': 2, 'se-antîvîlea': 2, 'adunat': 1, 'ñi-ahuleam': 2, 'arcoare': 2, 'arud': 2, 'ișită': 3, 'duca': 1, 'leane': 1, 'cuculici': 1, 'bățat': 2, 'schiñi': 2, 'păl': 1, 'iușlu': 1, 'mănica': 1, 'ascutură': 1, 'anghe': 1, 'bușiclu': 1, 'putridzîñi': 1, 'trupuri': 2, 'chin': 2, 'le-arucă': 1, 'dugoara': 2, 'di-aoa': 2, 'ș-naparti': 2, 'n-ardeam': 1, 'dinîinte': 2, 'pîltări': 1, 'mîșcîturam': 1, 'plailu': 1, 'cărvanea': 2, 'ton': 1, 'bușică': 2, 'livendă': 2, 'arauămbăirare': 1, 'harfă': 1, 'țe-acață': 1, 'plîngă': 1, 'badz': 1, 'și-aduc': 1, 'ñeatile': 1, 'încusurară': 1, 'arcă': 1, 'largul': 1, 'banîl': 1, 'și-adună': 2, 'minduirle': 3, 'slabe': 3, 'neguroase': 2, 'umflă': 2, 'și-acîță': 2, 'bună-și': 2, 'gala': 3, 'bușcul': 6, 'giunețli': 2, 'murafetea': 2, 's-le-aibă': 2, 'boia': 2, 'căpuilu': 1, 'gurgul': 1, 'itos': 2, 'puilu-mprostu': 2, 'percea': 4, 'speasă': 3, 'cip': 2, 'faptu': 1, 'lișoară-i': 2, 'ambairă': 1, 'dam': 1, 'cărvănari': 1, 's-era': 1, 'bandă': 2, 'le-alăsa': 1, 'cărădălui': 1, 'chirdem': 1, 'prișteani': 1, 'încîrcăm': 1, 'și-apitrusi': 2, 'aurlară': 1, 'naparti': 1, 'dem': 1, 'ș-bușcul': 1, 'doauă-sute': 1, 'hisapea': 1, 'vardarlu': 1, 'aproapea': 2, 'di-arîu': 3, 'arîgoz': 2, 'arujiră': 1, 'circheji': 1, 'chisîgeadz': 2, 'zmulsiră': 2, 'ș-tu-apală': 2, 'se-alăsară': 2, 'șainlu': 2, 'azbuiră': 2, 'altă-oară': 1, 'băgam': 1, 'ș-loa': 1, 'ñi-aspărdzea': 1, 'mai': 1, 'ș-tră': 1, 'duna': 1, 'ñerdz': 1, 'avhil': 1, 'eate': 1, 'aγunisit': 1, 'se-ascutură': 3, 'aruji': 2, 'si-ndisă': 1, 'aripidina': 2, 'gros': 1, 'cîciub': 1, 'stă': 2, 'se-afireaște': 2, 'cîciublu': 1, 'n-arucăm': 1, 'pri-un': 1, 'bășeai': 1, 'imnat': 1, 'ambăirare': 1, 'pășteare': 1, 'tîrîtă': 2, 'țarțaclu': 3, 'chidinușlu': 3, 'se-aspindzura': 2, 'chetri': 3, 'aricilu': 1, 'vîl': 1, 'creacauri': 2, 'oradzîle': 2, 'brîzñeaua': 2, 'cipet': 1, 's-lu-alavdă': 1, 'dubniță': 2, 'vurgărie': 6, 'simlu': 2, 'muloviște': 2, 'n-arăcheam': 1, 'ghiorgea': 3, 'perlep': 4, 'serbie': 2, 'bosna': 2, 'locuri': 1, 'cîsîbadz': 1, 'alăgam': 1, 's-fățeam': 1, 'iurea': 3, 'n-afla': 1, 'pondă': 1, 'scunghi': 2, 'ciurutipsi': 1, 'ciurutipsiră': 1, 'ș-prăvdzîle': 1, 'torn': 1, 'mi-aștiptam': 1, 'hîrioasă': 1, 'ș-budza': 1, 'fitică': 1, 'disfășată': 1, 'glărită': 1, 'trumba': 2, 'tumba': 2, 'tumba-mba': 2, 'feata-aestă-a': 3, 'și-eara': 2, 'surghea': 1, 'și-cu': 1, 'bîșea': 2, 'ș-cînd': 4, 'ahurhea': 2, 'iara': 13, 'alea': 3, 'ñicădză': 1, 'mușuticădză': 2, 'gioacă-ñi': 12, 'arsare-ñi': 2, 'inatea': 1, 'si-arsar': 1, 'hîrhoapă': 1, 'îndriptate': 1, 'și-buneața': 1, 'tincă': 5, 'șideai': 2, 'cînda': 1, 'ț-avea': 1, 'stăteam': 2, 'și-fațirea': 1, 'fîrmațe': 1, 'ñi-am': 1, 'și-cînd': 1, 'vreai': 1, 'lihoană': 7, 'dinica': 1, 'dumnidzălu': 1, 'și-nu': 2, 'vrîn': 3, 'i-am': 1, 'hări': 2, 's-fate': 2, 'pălăcărsescu': 1, 'adeț': 1, 'fațire': 2, 'pălăcării': 1, 'maia-ñi': 2, 'arîsite': 1, 'ma-nghios': 1, 'dorurle': 1, 'sarțina': 5, 's-firească': 2, 's-aspargă': 1, 'adăstarea': 1, 'chioșe': 1, 'pruscutescu': 1, 'iță': 1, 'ouă': 2, 'suvalniță': 1, 'suvalnița': 2, 'arăsboi': 1, 'curund': 1, 'speală': 1, 'treațirea': 1, 'lighene': 1, 'mămia': 1, 'a-vîrligalui': 1, 'ituri': 1, 'seamnili': 1, 'lihoana': 5, 'dureri': 1, 'andrală': 2, 'utențile': 1, 'afirească': 2, 'vîrligalui': 1, 's-nu-aibă': 2, 'anacră': 1, 'urutețle': 1, 'funea': 2, 'ñiclui': 2, 'aibă': 1, 'măsa': 2, 'nel': 1, 'tricut': 2, 'ñeadzănoapte': 2, 'albile': 3, 'hărioasile': 2, 'mirile': 2, 'dadă': 1, 'aloatlu': 1, 'păradzi': 1, 'bair': 1, 'cundil': 1, 'cerneală': 1, 'natlu': 1, 'dorm': 1, 'seri': 1, 'li-acață': 1, 'țină': 2, 'si-află': 1, 'scriați': 1, 'mînă-mînă': 1, 'oaspiți': 1, 'prindi': 1, 'laptile': 6, 'plîndze': 2, 'poți': 2, 'fireastra': 1, 'strañiu': 2, 's-lu-aruți': 1, 'brațe': 2, 'apoia-l': 3, 'mărioară': 2, 'nicu': 1, 'i-aduțe': 1, 'diareee': 1, 'patrudzăți': 2, 'a-meale': 1, 'dzîcîndalui': 1, 'a-tău': 1, 'a-meu': 1, 'lapte': 1, 'fîntîñi': 1, 'cître': 1, 'și-dzîțe': 1, 'șoput': 2, 'șoputlu': 1, 'sinlu': 1, 'văcar': 1, 'lihoane': 1, 'ñi-are': 1, 'spusă': 1, 'maia-tinca': 1, 'di-aspuneare': 1, 'γinu-ñi': 4, 'dă-ni-le-a': 1, 'si-ți': 3, 'mi-ncl': 3, 'in': 3, 'ș-dapoia': 1, 'cucutici': 6, 'ea-ți': 1, 'ș-du-te-arnie': 3, 'casă-ți': 3, 'cătăndie': 1, 'hărisii': 1, 'fitița': 1, 'urîndalui': 1, 'creaștitele': 1, 'fudule': 1, 'încărcate': 4, 'lilice': 9, 'albe': 2, 'creaștitele-a': 1, 'elimbului': 1, 'murmura': 4, 'hărioși': 1, 'alghiñile': 1, 'neacumtinat': 1, 'vîzindalui': 1, 'pliumbu': 1, 'șidea-mproastă': 1, 'optusprăγinγiț': 1, 'amisticată': 2, 'subțire': 2, 'găitanea': 1, 'albaștri': 4, 'chindisiț': 1, 'scăldaț': 2, 'dulțeame': 1, 'prăpsit': 2, 'nuli': 1, 'florica': 3, 'ascîlnaț': 1, 'proaspită': 1, 'bujor': 2, 'păpușile': 2, 'adărată': 1, 'mășițăle-a': 1, 'turțea': 2, 'fuslu': 1, 'si-anvîrtea': 1, 'zvîngînindalui': 1, 'gionile-a': 1, 'lei': 1, 'țul': 5, 'arăpas': 1, 'cutulbură': 1, 'sfreadină': 1, 'inimă-ndzernă': 2, 'căñină': 2, 'americă': 1, 'minduiri': 3, 'dirina': 2, 's-te-achicăsească': 3, 'si-alăchiușură': 1, 'litit': 1, 'frundzăle': 3, 'desfeațe': 1, 'budzăle': 3, 'subțîri': 3, 'lăcrimaț': 2, 'agioclu': 1, 'si-aprucheară': 1, 'lînguroasă': 1, 'mame': 4, 's-plîngu': 1, 'plîmșu': 1, 'plîmsiși': 1, 'i-ai': 2, 'cuc': 1, 'lumache': 1, 'cuclu': 3, 'hil-ilu': 1, 'iarna': 2, 'america': 1, 'păpușe': 1, 'hrisafea': 2, 'nul': 1, 'caleșlu-a': 2, 'bradlu': 1, 'arăsună': 1, 'cărarea': 1, 'tufile': 1, 'trandafilă': 1, 'tuli': 2, 'chiragi': 2, 'ver': 1, 'di-alaga': 4, 'plic': 2, 'zoră': 2, 'tilegraf': 2, 'hărisească': 1, 'aspărarea': 1, 'tilegrafu': 1, 'aștiptatlu': 1, 'xinit': 1, 'luțeafirl': 1, 'ñicăzañil': 1, 'împliñi': 2, 'și-acățară': 2, 'si-arsară': 2, 'strigîndalui': 1, 'zora': 5, 'tilegraflu': 2, 'disfeațe': 1, 'citească': 1, 'nuclui': 1, 'stuputos': 1, 'lișină': 2, 'smuldzeau': 1, 'pălñile': 1, 'cilimeañil': 1, 'purunghi': 2, 'di-avarliga': 2, 'jale': 1, 'cair': 1, 'arucat': 1, 'sti-anumire': 2, 'andupirat': 3, 'dzeanile': 1, 'ținea': 1, 'pitricut': 1, 'cădzută': 2, 'strîbătu': 1, 'prin': 1, 'arăzboaile': 1, 'si-avdu': 1, 'cicrichile': 2, 'scamnile': 1, 'γrățînescu': 1, 'alătrat': 1, 'hoarîl-ei': 1, 'si-analță': 1, 'igată': 2, 'si-avde': 2, 'murmur': 2, 'adîncos': 2, 'ișit': 2, 'murminte': 2, 'fridze': 2, 'gilituri': 1, 'arușite-n': 1, 'cîmbana': 1, 'vrăhnos': 1, 'jalea': 2, 'creacurile': 1, 'chitroase': 1, 'si-avea': 1, 'pi-ațea': 1, 'flambură': 1, 'hoarîl': 2, 'hoare': 1, 's-plîndzi': 1, 'tinira': 1, 'sițirată': 1, 'prumuvearîl': 1, 'i-sa': 1, 'anîlță': 1, 'pustuiși': 1, 'hoarile': 1, 'smulseși': 1, 'intrată': 1, 'ușă': 1, 'tegă': 18, 'xen': 1, 'lu-aflași': 1, 'băgași': 2, 'dădeși': 1, 'bătut': 2, 'tăcută': 4, 'neaduchite': 1, 'fumăria': 1, 'nopțîl': 2, 'se-adară': 2, 'dămurile': 1, 'i-u-adună': 1, 'cătră-al': 1, 'niuroși': 1, 'frîmțealile': 2, 'tufoase': 2, 'părură': 1, 'pîltările': 2, 'lărdzi': 2, 'sbărlită': 3, 'piroasă': 3, 'blață': 3, 'toli': 24, 'toli-picurarlu': 3, 'tegă-l': 1, 'bană-ñi': 1, 'me-au': 1, 'siptîmăñi': 1, 'acloțe': 1, 'acumpărară': 1, 'țachi': 2, 'viñita': 3, 'iasă-n': 2, 'arămasi': 1, 'noauă-dzațe': 1, 'ș-toli': 1, 'napa': 2, 'lantă': 1, 'agărșea': 1, 'fura': 1, 's-diștipta': 1, 'cîntară': 2, 'tuiagă': 2, 'și-arucutos': 1, 'cingărliulu': 2, 'munțîlor': 1, 'mundzăle': 2, 'alunica': 2, 'hima': 2, 'adîncoase': 1, 'geamurile': 1, 'făți-făți': 1, 'diștiptaț': 2, 'cuiburi': 2, 'catițe': 2, 'pirpirune': 2, 'scafe': 2, 'hrisusite': 1, 'criștea': 2, 'vulodz': 3, 'cămpu': 1, 'niheamăză': 1, 'pulbire': 1, 'șuptiră': 1, 'clopute': 2, 'se-avdzîră': 2, 'dulți': 2, 'asunară': 1, 'și-aide': 1, 'gîcilu': 2, 'viñiși': 3, 'tega': 1, 'ciudiseam': 1, 'amînai': 1, 'șuțăi': 1, 'țachil': 1, 'deavărliga': 2, 'alepțî': 3, 'mușeaț': 3, 'mătasea': 1, 'aitoși': 3, 'cîștiga': 1, 'doauă-trei': 1, 'dzăle': 2, 'oară-l': 1, 'și-alăsa': 1, 'se-ai': 2, 'ședz': 8, 'tu-apreasă': 2, 's-pitrundă': 1, 'se-arădzima': 1, 'amurțîte': 1, 'prîndzului': 1, 'cîrvăñi': 2, 'urdina': 2, 'pre-anarga': 2, 'bumbaclu': 1, 'picurarlui': 1, 'bine': 2, 'spuñi': 1, 'chirduț': 2, 'apreadunat': 2, 'și-ntunicos': 2, 'oaspite': 1, 'lena': 1, 'doda': 2, 'sili': 3, 'sgruñearică': 2, 'furțle-n': 1, 's-băga': 1, 'arădăpsea': 1, 'și-arădăpsea': 1, 'se-aflară': 1, 'părmîtefțî': 2, 'se-avdzî': 1, 'gardani': 33, 'ș-dzuă': 2, 'ș-toț': 2, 'naturile': 2, 'isturia': 1, 's-fure': 2, 'întribai': 2, 'pricăderi': 1, 'tu-nă': 1, 'i-arachi': 2, 'vîrstnica': 2, 'niștiut': 2, 'li-u': 4, 'dzăț': 1, 'fliture': 2, 'alăchite': 1, 'vărnu': 1, 'trifol': 1, 'frundză': 1, 'se-arucutea': 1, 'oamiñili': 1, 'stau': 1, 'crească': 1, 'sinile': 1, 'căndu': 12, 'bășea': 1, 'îndirise': 1, 'și-arușine': 2, 'dina': 7, 'călcă': 1, 'ciciorlu': 1, 'deade-n': 1, 'măncă': 1, 'doaua-z': 1, 'suțată': 1, 'sivdaea': 4, 'mardziñi': 2, 'aspardze': 2, 'ș-dina': 3, 'soia': 1, 'i-află': 2, 'nu-ascăpară': 2, 'arămasiră': 4, 'trupurile': 1, 'urîtețle': 1, 's-curmară': 1, 'strîbătea': 1, 'lumăchile': 1, 'duchescu': 1, 'și-acață': 1, 'treambură': 1, 'aspăreate': 2, 'șuptira': 2, 'li-adăvga': 2, 'mărea': 2, 'dzuă-n': 1, 'vîtămări': 1, 'călcări': 1, 'dzîțeț': 1, 'apucară': 1, 'se-agiungă': 2, 'vîtămată': 1, 'nu-aspîrdzea': 2, 'călător': 2, 'ti-ațea': 1, 'arăzboilu': 2, 'spata': 2, 'traca': 3, 'lu-afl': 1, 'dinăcale': 1, 'zăzăia': 1, 'ș-doda': 1, 'dipusă': 2, 'pre-agalea': 5, 'trăș': 1, 'cuni-va': 1, 'căndu-căndu': 1, 'frămțealile': 1, 'mintită': 1, 'ahundoasă': 1, 'hauă': 1, 'împumorat': 1, 'de-ahînțî': 1, 'dincăle': 1, 'hm': 1, 'uhtă': 1, 's-aveam': 1, 'și-eu': 3, 's-loam': 3, 'îndisat': 1, 'aprimțî': 2, 'măna-n': 1, 'advîgă': 1, 's-murim': 1, 'giudică': 1, 'marță': 1, 'prăndzu': 1, 'miti': 1, 'saț': 1, 'ñițle': 1, 'proaspit': 2, 'ruială': 1, 'nidiscărcat': 1, 'aduș': 1, 'fridzeț': 1, 'me-așteaptă': 1, 'panlu': 1, 'fricoșl': 1, 'iatagan': 1, 'cheptul': 1, 'disfaptu': 1, 'videală': 1, 'acupirit': 1, 'peri': 3, 'halcumă': 1, 's-mi-aspar': 1, 'măca': 1, 'mi-avină': 1, 'mutrea-u': 2, 'panu': 4, 'pîltarea': 1, 'bîlbăi': 1, 'ș-panlu': 2, 'săntu': 3, 'xeñi': 1, 'scoate-o': 1, 'ș-intră': 2, 'dipărteadză-te': 2, 'tradzi-te': 1, 'se-alănciră': 2, 'de-a-bușeala': 1, 'se-afirea': 1, 'nu-aștiptă': 2, 'cearcurile': 2, 'mintireaje': 1, 'îngiurături': 2, 'și-azghirări': 1, 'ș-nică': 2, 'plîscăni': 1, 'surdă': 1, 'armatile-mpade': 1, 'le-alîsăm': 3, '35': 2, 'chiusteche': 1, 'slabă': 2, 'te-adrai': 2, 'fruntea': 1, 'vreaț': 3, 'călcaț': 2, 'furaț': 2, 's-mutriră': 1, 'măγipsiț': 1, 'se-aibă': 1, 'luñiñi': 1, 's-cherdu': 1, 'se-andzărescu': 2, 'trimburare': 2, 'hire-hire': 1, 'ițată': 1, 'te-aveam': 2, 'spusiră': 1, 'muriși': 2, 'te-agudii': 1, 'și-altu': 6, 'vătămam': 4, 'te-aduse': 1, 's-mureai': 2, 'manoli': 7, 'se-aplică': 1, 'peatică': 2, 'foclui': 1, 'dipărtarea': 1, 'nipitrumtă': 2, 'ascumtișuri': 2, 'piștirei': 2, 'șușurări': 2, 'chipure': 3, 'astimte': 5, 'vrevuri': 2, 'neacăchisite': 1, 'ț-aduț': 1, 'baitani': 1, 'furcă': 1, 'păganea': 1, 'țănum': 1, 's-întunică': 2, 'ee': 1, 'duchii': 1, 's-cădem': 2, 's-chiream': 1, 'earai': 1, 'trăpseși': 2, 'ș-tu-alumte': 2, 'arupsem': 1, 'cordzăle': 3, 'te-avdzîi': 3, 'imai': 1, 'și-asuna': 2, 'trumpetile': 1, 'lîhtărsite': 1, 'chirdui': 1, 'arîspăndim': 1, 'arămaș': 2, 'dighios': 2, 'dispărțîi': 2, 'aușiși': 2, 'scuseși': 2, 'i-alăsai': 2, 'chisă': 2, 'picate': 1, 'struncină': 1, 'di-arăil': 1, 'tea': 2, 'slăbință': 2, 's-vatăm': 4, 'te-acari': 2, 'bănam': 1, 'și-aleaptă': 1, 'sivdae': 1, 'ș-tată-su': 1, 'eh': 3, 'spuș': 1, 'spigiurai': 1, 'copii': 1, 's-aravdu': 1, 'mușcu': 1, 's-tac': 1, 'se-aprindea': 1, 'jar': 3, 'tuchit': 2, 'aprimtu': 2, 'ñi-alăga': 2, 'si-nvărtoșa': 2, 's-calcu': 2, 'ș-ma-nclo': 3, 'i-asparșu': 2, 'vîtămai': 1, 'canda-și': 2, 'tu-ndoi': 2, 'de-arău': 2, 'și-u-ngrupară': 3, 'căndu-ți': 2, 's-putridzîm': 2, 'nițe': 1, 'lacrimă': 1, 'plăngă': 1, 's-hărisească': 1, 's-aflăm': 2, 'arană': 2, 'stricoară': 1, 'puterile': 1, 'pridau': 1, 'alăgai': 1, 's-băneadză': 1, 'vimturi': 3, 'te-adusiră': 1, 'săpai': 1, 'arîmai': 2, 'ploaia': 2, 'virsa': 2, 'arupsim': 2, 'stizmile': 2, 'ascăpam': 2, 'disnou': 1, 'anvițai': 1, 's-te-aflăm': 1, 'aplicate': 1, 'agiundzem': 1, 'cămpul': 4, 'apucat': 2, 'ñiurizme': 1, 'proaspite': 1, 'se-amistica': 1, 'oară-oară': 1, 'zvonlu': 1, 'dizñeardă': 1, 'și-apa': 1, 'undzîle': 2, 'spumă': 2, 'si-agudea': 2, 'șuptirare': 2, 'ascăpira': 2, 'sălțile': 2, 'lumăchi': 2, 'lundzî': 2, 'arăsturnate': 2, 'ih': 2, 'stihii': 2, 'șopute': 1, 'ssst': 1, 'tițeț': 1, 'sarica': 1, 'le-astupăm': 1, 'ș-mină': 2, 'avdzîtu': 1, 'amurțîtă': 2, 'cîmbăñi': 2, 'inșea': 2, 'nipidipsit': 1, 'auațe': 5, 'balta': 2, 'sivdaia': 1, 'paradhisa': 2, 'sîrbătoare': 2, 'sîlîghi': 1, 'zorea': 1, 'ș-piste': 2, 'șuptirăm': 1, 'și-arămase': 3, 'ș-cîmbăñile': 3, 'singure': 1, 'tăcute': 1, 'furcutaș': 3, 'ahînda': 3, 'arășe': 3, 'aprimte': 2, 'trîmbe': 3, 'porțîle': 1, 'ș-țe': 2, 'gardu': 1, 'di-anvarliga': 1, 'ț-arcai': 1, 'lumbărsea': 1, 'fudulă': 2, 'avută': 1, 'palate': 1, 'arhundească': 1, 'cu-andzare': 2, 'ț-am': 1, 'vrută': 4, 'că-s': 2, 'și-arudz': 1, 'caleși': 2, 'și-ahîte': 2, 'ñeale': 2, 'fitară': 1, 'oile-a': 1, 'arniu': 2, 'pirușeană': 1, 'te-aflai': 1, 'mori': 2, 'tricuși': 1, 'si-ni': 1, 'ș-bate': 2, 'cîntarea': 1, 'ș-hîrcoape': 2, 'le-afla': 2, 'și-az': 1, 'lună-mplină': 2, 'ș-țiva': 1, 'irñie': 1, 'amuțîră': 1, 'se-angîrlima': 1, 'se-aγunească': 1, 'furca-n': 1, 'ș-turțea': 1, 'cairlu': 1, 'hiilu-a': 7, 'sîlîghită': 1, 'ocli': 1, 'acloia': 1, 'mi-ntribă': 1, 'și-u-au': 1, 'ș-di-atunțea': 1, 'altăoară': 1, 'picurarl': 1, 'pască': 2, 'hiil-a': 2, 'flueară': 1, 'azvimturare': 1, 'trîndzea': 2, 'ș-tută': 1, 'și-ahtări': 1, 'jiloase': 2})\n"
     ]
    }
   ],
   "source": [
    "print(word_co_occurrence[\"despre\"])"
   ]
  },
  {
   "cell_type": "markdown",
   "metadata": {},
   "source": [
    "Aici am incercat sa creez un dataset paralel cu propozitii/cuvinte si sa aplic un IBM Model pe el in speranta o sa mai obtinem ceva alinieri\\\n",
    "pe care sa le comparam cu restul de alinieri pe care le avem"
   ]
  },
  {
   "cell_type": "code",
   "execution_count": 74,
   "metadata": {},
   "outputs": [
    {
     "name": "stdout",
     "output_type": "stream",
     "text": [
      "[('care', 'cari'), (\"s'\", 'si'), ('cu', 'cu'), ('sau', 'i'), ('nu', 'nu'), ('în', 'tu'), ('al, a, ai, ale, ', 'a'), ('al', 'li'), ('ci', 'ma'), ('ca', 'ca'), ('bunăoară', 'pare'), ('că', 'că'), ('voi', 'voi'), ('dacă', 'di'), ('capricii', 'ori'), ('dacă', 'ama'), ('foarte', 'multu'), ('chiar', 'ninga'), ('aici', 'aua'), ('în', 'în'), ('când', 'cănd'), ('contra', 'pi'), ('afacere', 'lucru'), ('din', 'din'), ('patru ', 'patru'), ('corabie', 'nai'), ('încă ', 'cama'), ('în', 'tru'), ('de ', 'ti'), ('ea', 'ea'), ('ca', 'ta'), ('aşadar', 'cara'), ('acolo', 'aclo'), ('la', 'la'), ('unde', 'iu'), ('o', 'u'), ('dar', 'e'), ('vostru', 'vostru'), ('fi, v', 'escu'), ('iată', 'ia'), ('nici', 'ni'), ('aşadar', 'de'), ('om', 'suflitu'), ('noi', 'noi'), ('părinte', 'afendi'), ('de loc', 'dip'), ('care', 'cai'), ('trei', 'trei'), ('iar', 'iar'), ('un', 'unu'), ('oare', 'au'), ('domnul meu', 'efendim'), ('în', 'pri'), ('trebuie ', 'vrea'), ('eu', 'mini'), ('chema, v', 'grescu'), ('de-a', 'na'), ('absenta', 'lipsescu'), ('încolo', 'înclo'), ('încă', 'ningă'), ('celălalt', 'alantu'), ('dar', 'mi'), ('mereu', 'totna'), ('furt', 'furtu'), ('apoi', 'apoia'), ('cel puţin', 'barim'), ('în', 'an'), ('acum', 'tora'), ('doi  ', 'doi'), ('fiecare', 'cathi'), ('credinţă', 'pisti'), ('fel', 'soi'), ('câmp cultivat', 'agru'), ('fiert', 'hertu'), ('dacă', 'am'), ('meu', 'meu'), ('scrie, v', 'scriu'), ('ci', 'mea'), ('fie', 'ai'), ('l ', 'ul'), ('opt ', 'optu'), ('agale', 'agalea'), ('mort', 'mortu'), ('când', 'canda'), ('somn   ', 'somnu'), ('nici', 'neca'), ('nazuri', 'mutri'), ('mult', 'arău'), ('turmă', 'cupii'), ('eu', 'io'), ('corb', 'corbu'), ('bine ', 'ghini'), ('arvună de logodnă', 'semnu'), ('avânt', 'vimtu'), ('bucată', 'cornu'), ('adânc', 'greu'), ('de vreme ce', 'dicara'), ('după', 'dupu'), ('ca ', 'tra'), ('întâi', 'prota'), ('aici', 'aoa'), ('nu cumva', 'naca'), ('nici', 'necă'), ('dacă', 'macă'), ('el', 'elu'), ('direct', 'îndreptu'), ('vinde, v', 'vindu'), ('din nou', 'iara'), ('departe', 'largu'), ('când', 'anda'), ('asculta, v', 'ascultu'), ('dormi, v', 'dormu'), ('vulturu', 'vultur'), ('fior - fig', 'furnigă'), ('îngustime', 'strimtură'), ('copil', 'ficioru'), ('răsări , - aştrii', 'dau'), ('uriaş', 'thiriu'), ('egal', 'isa'), ('în picioare', 'împrostu'), ('înainte', 'naintea'), ('nicăieri', 'iuva'), ('dacă', 'fure-că'), ('orz  ', 'ordzu'), ('mândru', 'dai'), ('domn', 'domnu'), ('scaun', 'scamnu'), ('dar', 'ba'), ('para', 'pară'), ('din nou', 'diznou'), ('din nou', 'pali'), ('latrină', 'hrii'), ('cal', 'calu'), ('cică', 'taha'), ('încă', 'nică'), ('din nou', 'mata'), ('cercel', 'veri'), ('linişte', 'cipit'), ('bogăţie', 'seu'), ('tare, glas', 'pravatos'), ('bou', 'bou'), ('foarte bine', 'prima'), ('biet - limbaj femeiesc', 'boi'), ('pe ascuns', 'ascumta'), ('cum', 'cumu'), ('după  ', 'dipu'), ('preot', 'preftu'), ('traistă', 'trastu'), ('aur', 'flurii'), ('adevăr', 'alihea'), ('aranja, v fig', 'cruescu'), ('ou ', 'ou'), ('o', 'o'), ('departe', 'naparti'), ('între ', 'anamisa'), ('deasupra', 'sti'), ('culege  ', 'pascu'), ('întinde, v', 'tindu'), ('poftă de mâncare', 'orixi'), ('intra la apă', 'intru'), ('imbecil', 'lemnu'), ('încarcătură', 'furtii'), ('înăuntru', 'nuntru'), ('chiar', 'tamam'), ('ameninţător', 'fuviros'), ('merge, v', 'imnu'), ('dragă', 'lele'), ('lăutar', 'ghiftu'), ('bandit', 'laiu'), ('auzi, v', 'avdu'), ('viteaz', 'livendu'), ('umăr, pe', 'di-anumirea'), ('fiară', 'prici'), ('prin', 'pritu'), ('adevăr', 'cali'), ('piastru-monedă', 'aspru'), ('boia', 'boie'), ('dimineaţă', 'tahina'), ('ajunge, v', 'agiungu'), ('ulei de bucătărie', 'untulemnu'), ('dincoace', 'dincoa'), ('aman-graţie', 'aman'), ('clocotire', 'undari'), ('ascuns', 'ascumtu'), ('cimitir', 'codru'), ('islaz', 'mire'), ('apoi', 'di-pri-apoia'), ('dacă', 'di-si'), ('ales', 'aleptu'), ('doi', 'dao'), ('bani albi', 'alghi'), ('curând', 'curundu'), ('pentru', 'tri'), ('gunoi', 'cuprii'), ('peste', 'pristi'), ('ieri', 'aeri'), ('herghelie', 'irghilii'), ('fund ', 'fundu'), ('ajun', 'pirindu'), ('deşert', 'ermu'), ('tău', 'tău'), ('copil din flori', 'cupilciu'), ('cunoaşte, v', 'cunoscu'), ('copil', 'pociu'), ('balaur', 'stihiu'), ('căcat', 'faptu'), ('blestemat', 'pondu'), ('strugure', 'auă'), ('direct', 'isea'), ('ars', 'arsu'), ('zmeu', 'zmeu'), ('locui, v', 'stau'), ('apoi', 'napoi'), ('mulge, v', 'mulgu'), ('sau', 'ică'), ('balaur', 'stihio'), ('rău', 'rău'), ('nici', 'ne'), ('pe', 'pre'), ('asemăna - fig', 'agudescu'), ('singur', 'singuru'), ('apus', 'apusu'), ('bătrână', 'mai'), ('contra', 'contra'), ('manieră', 'tropu'), ('acord', 'trecu'), ('aprins', 'apresu'), ('acolo', 'aco'), ('ci', 'măni'), ('prost', 'glaru'), ('haiducesc', 'furescu'), ('alaltăieri', 'aualtari'), ('rar', 'area'), ('curte', 'curti'), ('exact', 'naltu'), ('spătos', 'dhiplarcu'), ('apoi', 'em'), ('degeaba', 'geaba'), ('cuib', 'cuibu'), ('mijloc', 'mesi'), ('deasupra', 'stri'), ('dur', 'duru'), ('mormânt', 'murmintu'), ('maică-mea', 'mu-mea'), ('vină', 'stepsu'), ('bine', 'bunu'), ('nou', 'nou'), ('vânt', 'vintu'), ('şuviţă', 'ciulii'), ('lung', 'lungu'), ('fulger', 'sfulgu'), ('albastru', 'albastru'), ('cârn', 'jurcu'), ('cine', 'acari'), ('ghionoaie - pasăre', 'ghioni'), ('acum', 'amu'), ('exarh - arhiereu inspector bisericesc', 'exarhu'), ('zvelt', 'zveltu'), ('armânesc', 'armânescu'), ('aromânime', 'armâniu'), ('noutate', 'nao'), ('esofag', 'grumadzu'), ('bei - guvernator turc', 'beu'), ('apoi', 'apoi'), ('domn', 'kir'), ('deja', 'nica'), ('insulă', 'nisii'), ('bubuitură', 'vrondu'), ('alb ', 'albu'), ('bine, cu', 'ambar'), ('mijloc-mod', 'cearei'), ('umăr, pe', 'anumirea'), ('fereastră', 'pingeri'), ('dement', 'zurlu'), ('dacă', 'carea'), ('ci ', 'dem'), ('aproape', 'aproapea'), ('încă', 'ninca'), ('curajos', 'inimarcu'), ('sta bine ceva cuiva, v', 'prindi'), ('răcoritor', 'avros'), ('glonte', 'pliumbu'), ('alături', 'alaturea'), ('gând', 'minduiri'), ('prin', 'prin'), ('că să', 'tea'), ('nu cumva', 'napa'), ('jos, în', 'hima'), ('copt', 'coptu'), ('amurg', 'murgu'), ('nimănui', 'cuni-va'), ('faţă, pe', 'fora'), ('aprins', 'aprimtu'), ('din nou', 'disnou'), ('fantomă', 'stihii'), ('gard', 'gardu'), ('iernat', 'arniu'), ('mamă', 'mă'), ('acolo', 'acloia')]\n"
     ]
    }
   ],
   "source": [
    "parallel_corpus = []\n",
    "for key, value in direct_translation.items():\n",
    "    for word in value[:1]:\n",
    "        parallel_corpus.append((word, key))\n",
    "\n",
    "print(parallel_corpus)"
   ]
  },
  {
   "cell_type": "code",
   "execution_count": 91,
   "metadata": {},
   "outputs": [],
   "source": [
    "import string\n",
    "def create_parallel_sent(ro_tokens, aro_tokens, index, window):\n",
    "    start_ro = max(0, index - window)\n",
    "    end_ro = min(len(ro_tokens), index + window + 1)\n",
    "\n",
    "    start_aro = max(0, index - window)\n",
    "    end_aro = min(len(aro_tokens), index + window + 1)\n",
    "\n",
    "    parallel_words = (aro_tokens[start_aro:index + 1] + aro_tokens[index + 1:end_aro], ro_tokens[start_ro:index + 1] + ro_tokens[index + 1:end_ro])\n",
    "    \n",
    "    punctuations = string.punctuation + \"„\"\n",
    "    parallel_sent = (\" \".join([word for word in parallel_words[0] if word not in punctuations]), \" \".join([word for word in parallel_words[1] if word not in punctuations]))\n",
    "\n",
    "    return parallel_sent\n",
    "\n"
   ]
  },
  {
   "cell_type": "code",
   "execution_count": 92,
   "metadata": {},
   "outputs": [
    {
     "name": "stdout",
     "output_type": "stream",
     "text": [
      "('teoria și practica sănt', 'teoria și practica sunt')\n",
      "('teoria și practica sănt îndoauă', 'teoria și practica sunt unele')\n",
      "('teoria și practica sănt îndoauă învețuri', 'teoria și practica sunt unele deprinderi')\n",
      "('teoria și practica sănt îndoauă învețuri', 'teoria și practica sunt unele deprinderi pe')\n",
      "('teoria și practica sănt îndoauă învețuri cari', 'teoria și practica sunt unele deprinderi pe care')\n",
      "('și practica sănt îndoauă învețuri cari si', 'și practica sunt unele deprinderi pe care le')\n",
      "('practica sănt îndoauă învețuri cari si amintă', 'practica sunt unele deprinderi pe care le câștigi')\n",
      "('sănt îndoauă învețuri cari si amintă mași', 'sunt unele deprinderi pe care le câștigi doar')\n",
      "('sănt îndoauă învețuri cari si amintă mași cu', 'sunt unele deprinderi pe care le câștigi doar citind')\n",
      "('îndoauă învețuri cari si amintă mași cu ghivăsirea', 'unele deprinderi pe care le câștigi doar citind')\n",
      "('învețuri cari si amintă mași cu ghivăsirea', 'deprinderi pe care le câștigi doar citind ori')\n",
      "('cari si amintă mași cu ghivăsirea i', 'pe care le câștigi doar citind ori vorbindu-ți-se')\n",
      "('cari si amintă mași cu ghivăsirea i cu', 'care le câștigi doar citind ori vorbindu-ți-se despre')\n",
      "('si amintă mași cu ghivăsirea i cu avdzărea', 'le câștigi doar citind ori vorbindu-ți-se despre ele')\n",
      "('amintă mași cu ghivăsirea i cu avdzărea', 'câștigi doar citind ori vorbindu-ți-se despre ele')\n",
      "('mași cu ghivăsirea i cu avdzărea sănt', 'doar citind ori vorbindu-ți-se despre ele dar')\n",
      "('cu ghivăsirea i cu avdzărea sănt și', 'citind ori vorbindu-ți-se despre ele dar mai')\n",
      "('ghivăsirea i cu avdzărea sănt și îndoauă', 'ori vorbindu-ți-se despre ele dar mai sunt')\n",
      "('i cu avdzărea sănt și îndoauă alte', 'ori vorbindu-ți-se despre ele dar mai sunt și')\n",
      "('i cu avdzărea sănt și îndoauă alte lucri', 'vorbindu-ți-se despre ele dar mai sunt și din')\n",
      "('cu avdzărea sănt și îndoauă alte lucri', 'despre ele dar mai sunt și din cele')\n",
      "('avdzărea sănt și îndoauă alte lucri cari', 'ele dar mai sunt și din cele ce')\n",
      "('sănt și îndoauă alte lucri cari nu', 'dar mai sunt și din cele ce nu')\n",
      "('sănt și îndoauă alte lucri cari nu intră', 'dar mai sunt și din cele ce nu ne')\n",
      "('și îndoauă alte lucri cari nu intră tu', 'mai sunt și din cele ce nu ne intră')\n",
      "('îndoauă alte lucri cari nu intră tu caplu', 'sunt și din cele ce nu ne intră în')\n",
      "('alte lucri cari nu intră tu caplu a', 'și din cele ce nu ne intră în cap')\n",
      "('lucri cari nu intră tu caplu a omlui', 'din cele ce nu ne intră în cap')\n",
      "('cari nu intră tu caplu a omlui pînă', 'cele ce nu ne intră în cap până')\n",
      "('cari nu intră tu caplu a omlui pînă s-nu', 'ce nu ne intră în cap până nu')\n",
      "('nu intră tu caplu a omlui pînă s-nu li', 'nu ne intră în cap până nu le')\n",
      "('intră tu caplu a omlui pînă s-nu li videm', 'ne intră în cap până nu le vedem')\n",
      "('tu caplu a omlui pînă s-nu li videm ș-cu', 'intră în cap până nu le vedem cu')\n",
      "('caplu a omlui pînă s-nu li videm ș-cu ocl', 'în cap până nu le vedem cu ochii')\n",
      "('a omlui pînă s-nu li videm ș-cu ocl ’', 'cap până nu le vedem cu ochii')\n",
      "('omlui pînă s-nu li videm ș-cu ocl ’ i', 'până nu le vedem cu ochii cât')\n",
      "('pînă s-nu li videm ș-cu ocl ’ i', 'până nu le vedem cu ochii cât trăim')\n",
      "('s-nu li videm ș-cu ocl ’ i căt', 'nu le vedem cu ochii cât trăim')\n",
      "('li videm ș-cu ocl ’ i căt bănăm', 'le vedem cu ochii cât trăim multe')\n",
      "('videm ș-cu ocl ’ i căt bănăm', 'vedem cu ochii cât trăim multe auzim')\n",
      "('ș-cu ocl ’ i căt bănăm multe', 'cu ochii cât trăim multe auzim și')\n",
      "('ocl ’ i căt bănăm multe avdzăm', 'ochii cât trăim multe auzim și multe')\n",
      "('’ i căt bănăm multe avdzăm și', 'cât trăim multe auzim și multe vedem')\n",
      "('i căt bănăm multe avdzăm și multe', 'cât trăim multe auzim și multe vedem')\n",
      "('căt bănăm multe avdzăm și multe videm', 'trăim multe auzim și multe vedem dar')\n",
      "('căt bănăm multe avdzăm și multe videm', 'multe auzim și multe vedem dar cu')\n",
      "('bănăm multe avdzăm și multe videm ma', 'multe auzim și multe vedem dar cu toate')\n",
      "('multe avdzăm și multe videm ma cu', 'auzim și multe vedem dar cu toate astea')\n",
      "('multe avdzăm și multe videm ma cu tute', 'și multe vedem dar cu toate astea')\n",
      "('avdzăm și multe videm ma cu tute aiste', 'multe vedem dar cu toate astea nimic')\n",
      "('și multe videm ma cu tute aiste', 'vedem dar cu toate astea nimic nu')\n",
      "('multe videm ma cu tute aiste țiva', 'dar cu toate astea nimic nu vom')\n",
      "('videm ma cu tute aiste țiva nu', 'dar cu toate astea nimic nu vom ști')\n",
      "('ma cu tute aiste țiva nu știm', 'cu toate astea nimic nu vom ști ca')\n",
      "('ma cu tute aiste țiva nu știm', 'toate astea nimic nu vom ști ca lumea')\n",
      "('cu tute aiste țiva nu știm pînă', 'astea nimic nu vom ști ca lumea până')\n",
      "('tute aiste țiva nu știm pînă s-nu', 'nimic nu vom ști ca lumea până nu')\n",
      "('aiste țiva nu știm pînă s-nu băgăm', 'nimic nu vom ști ca lumea până nu punem')\n",
      "('țiva nu știm pînă s-nu băgăm măna', 'nu vom ști ca lumea până nu punem mâna')\n",
      "('țiva nu știm pînă s-nu băgăm măna ca', 'vom ști ca lumea până nu punem mâna să')\n",
      "('nu știm pînă s-nu băgăm măna ca s-adrăm', 'ști ca lumea până nu punem mâna să și')\n",
      "('știm pînă s-nu băgăm măna ca s-adrăm ațea', 'ca lumea până nu punem mâna să și facem')\n",
      "('pînă s-nu băgăm măna ca s-adrăm ațea ți', 'lumea până nu punem mâna să și facem ceea')\n",
      "('pînă s-nu băgăm măna ca s-adrăm ațea ți nă', 'până nu punem mâna să și facem ceea ce')\n",
      "('s-nu băgăm măna ca s-adrăm ațea ți nă si', 'nu punem mâna să și facem ceea ce ne')\n",
      "('băgăm măna ca s-adrăm ațea ți nă si pare', 'punem mâna să și facem ceea ce ne pare')\n",
      "('măna ca s-adrăm ațea ți nă si pare că', 'mâna să și facem ceea ce ne pare că')\n",
      "('ca s-adrăm ațea ți nă si pare că știm', 'să și facem ceea ce ne pare că știm')\n",
      "('s-adrăm ațea ți nă si pare că știm', 'și facem ceea ce ne pare că știm')\n",
      "('ațea ți nă si pare că știm cu', 'facem ceea ce ne pare că știm cu')\n",
      "('ți nă si pare că știm cu alte', 'ceea ce ne pare că știm cu alte')\n",
      "('nă si pare că știm cu alte zboară', 'ce ne pare că știm cu alte cuvinte')\n",
      "('si pare că știm cu alte zboară', 'ne pare că știm cu alte cuvinte')\n",
      "('pare că știm cu alte zboară voi', 'pare că știm cu alte cuvinte vreau')\n",
      "('că știm cu alte zboară voi ca', 'că știm cu alte cuvinte vreau să')\n",
      "('știm cu alte zboară voi ca s-dzîc', 'știm cu alte cuvinte vreau să spun')\n",
      "('cu alte zboară voi ca s-dzîc eu', 'cu alte cuvinte vreau să spun eu')\n",
      "('cu alte zboară voi ca s-dzîc eu', 'cu alte cuvinte vreau să spun eu')\n",
      "('alte zboară voi ca s-dzîc eu că', 'alte cuvinte vreau să spun eu teoria')\n",
      "('zboară voi ca s-dzîc eu că teoria', 'cuvinte vreau să spun eu teoria e')\n",
      "('voi ca s-dzîc eu că teoria easte', 'vreau să spun eu teoria e bună')\n",
      "('voi ca s-dzîc eu că teoria easte bună', 'vreau să spun eu teoria e bună ea')\n",
      "('ca s-dzîc eu că teoria easte bună', 'să spun eu teoria e bună ea')\n",
      "('s-dzîc eu că teoria easte bună di', 'spun eu teoria e bună ea deseori')\n",
      "('eu că teoria easte bună di multe', 'eu teoria e bună ea deseori')\n",
      "('că teoria easte bună di multe ori', 'teoria e bună ea deseori dar')\n",
      "('că teoria easte bună di multe ori', 'teoria e bună ea deseori dar câte')\n",
      "('teoria easte bună di multe ori ama', 'e bună ea deseori dar câte o')\n",
      "('easte bună di multe ori ama căte', 'bună ea deseori dar câte o dată')\n",
      "('bună di multe ori ama căte unoară', 'ea deseori dar câte o dată rămâne')\n",
      "('di multe ori ama căte unoară armăne', 'deseori dar câte o dată rămâne de')\n",
      "('di multe ori ama căte unoară armăne multu', 'deseori dar câte o dată rămâne de căruță')\n",
      "('multe ori ama căte unoară armăne multu ma-nghios', 'dar câte o dată rămâne de căruță față')\n",
      "('ori ama căte unoară armăne multu ma-nghios di', 'dar câte o dată rămâne de căruță față de')\n",
      "('ama căte unoară armăne multu ma-nghios di practica.', 'câte o dată rămâne de căruță față de practică.')\n",
      "('ama căte unoară armăne multu ma-nghios di practica. “', 'o dată rămâne de căruță față de practică. “')\n",
      "('căte unoară armăne multu ma-nghios di practica. “ ași', 'dată rămâne de căruță față de practică. “ așa')\n",
      "('unoară armăne multu ma-nghios di practica. “ ași zbura', 'rămâne de căruță față de practică. “ așa grăia')\n",
      "('armăne multu ma-nghios di practica. “ ași zbura unoară', 'de căruță față de practică. “ așa grăia într-un')\n",
      "('multu ma-nghios di practica. “ ași zbura unoară un', 'căruță față de practică. “ așa grăia într-un rând')\n"
     ]
    }
   ],
   "source": [
    "parallel_corpus = []\n",
    "for i in range(100):\n",
    "    print(create_parallel_sent(ro_tokens, aro_tokens, i, 4))\n",
    "    parallel_corpus.append(create_parallel_sent(ro_tokens, aro_tokens, i, 4))"
   ]
  },
  {
   "cell_type": "code",
   "execution_count": 108,
   "metadata": {},
   "outputs": [
    {
     "name": "stdout",
     "output_type": "stream",
     "text": [
      "Translation of \"ghivăsirea i cu avdzărea\": \"  ș-cu \"\n"
     ]
    }
   ],
   "source": [
    "import nltk\n",
    "from nltk.translate import AlignedSent, IBMModel1\n",
    "\n",
    "aligned_text = []\n",
    "for pair in parallel_corpus:\n",
    "    src_sent, trg_sent = pair\n",
    "    src_tokens = src_sent.split()\n",
    "    trg_tokens = trg_sent.split()\n",
    "    aligned_text.append(AlignedSent(trg_tokens, src_tokens))\n",
    "\n",
    "ibm_model = IBMModel1(aligned_text, 15)  \n",
    "\n",
    "\n",
    "def translate(src_sentence):\n",
    "    src_tokens = src_sentence.split()\n",
    "    trg_tokens = [''] * len(src_tokens)  \n",
    "    for i, src_word in enumerate(src_tokens):\n",
    "        max_prob = 0\n",
    "        for trg_word in ibm_model.translation_table[src_word]:\n",
    "            prob = ibm_model.translation_table[src_word][trg_word]\n",
    "            if prob > max_prob:\n",
    "                max_prob = prob\n",
    "                trg_tokens[i] = trg_word\n",
    "    return ' '.join(trg_tokens)\n",
    "\n",
    "\n",
    "ls = [\"lucri cari nu\", 'îndoauă alte', \"armăne\", \"ghivăsirea i cu avdzărea\"]\n",
    "src_sentence = \"ghivăsirea i cu avdzărea\"\n",
    "translated_sentence = translate(src_sentence)\n",
    "print(f'Translation of \"{src_sentence}\": \"{translated_sentence}\"')\n"
   ]
  },
  {
   "cell_type": "code",
   "execution_count": 82,
   "metadata": {},
   "outputs": [
    {
     "name": "stdout",
     "output_type": "stream",
     "text": [
      "!\"#$%&'()*+,-./:;<=>?@[\\]^_`{|}~\n"
     ]
    }
   ],
   "source": [
    "print(string.punctuation)"
   ]
  },
  {
   "cell_type": "code",
   "execution_count": null,
   "metadata": {},
   "outputs": [],
   "source": []
  }
 ],
 "metadata": {
  "kernelspec": {
   "display_name": "Python 3",
   "language": "python",
   "name": "python3"
  },
  "language_info": {
   "codemirror_mode": {
    "name": "ipython",
    "version": 3
   },
   "file_extension": ".py",
   "mimetype": "text/x-python",
   "name": "python",
   "nbconvert_exporter": "python",
   "pygments_lexer": "ipython3",
   "version": "3.11.5"
  }
 },
 "nbformat": 4,
 "nbformat_minor": 0
}
